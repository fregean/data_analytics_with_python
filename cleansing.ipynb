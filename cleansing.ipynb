{
  "nbformat": 4,
  "nbformat_minor": 0,
  "metadata": {
    "colab": {
      "name": "cleansing.ipynb",
      "provenance": [],
      "collapsed_sections": [],
      "toc_visible": true,
      "mount_file_id": "1cWauEIhcCqDzriio3zMiYd-ppOEqZSOs",
      "authorship_tag": "ABX9TyMqBkgZufhNw2sFVUYcgPfM",
      "include_colab_link": true
    },
    "kernelspec": {
      "name": "python3",
      "display_name": "Python 3"
    },
    "language_info": {
      "name": "python"
    }
  },
  "cells": [
    {
      "cell_type": "markdown",
      "metadata": {
        "id": "view-in-github",
        "colab_type": "text"
      },
      "source": [
        "<a href=\"https://colab.research.google.com/github/fregean/data_analytics_with_python/blob/section2-1/cleansing.ipynb\" target=\"_parent\"><img src=\"https://colab.research.google.com/assets/colab-badge.svg\" alt=\"Open In Colab\"/></a>"
      ]
    },
    {
      "cell_type": "markdown",
      "metadata": {
        "id": "CrVe11QUDFUB"
      },
      "source": [
        "# 2 データクレンジング"
      ]
    },
    {
      "cell_type": "markdown",
      "metadata": {
        "id": "VRCB93xcU9Hr"
      },
      "source": [
        "##  データの入手・結合・表示"
      ]
    },
    {
      "cell_type": "code",
      "metadata": {
        "id": "KkK4f0Lz7r05"
      },
      "source": [
        "# pip install mojimoji"
      ],
      "execution_count": 292,
      "outputs": []
    },
    {
      "cell_type": "code",
      "metadata": {
        "id": "4NpqKQ1lPzsA"
      },
      "source": [
        "import requests\n",
        "from bs4 import BeautifulSoup\n",
        "import os\n",
        "import time\n",
        "\n",
        "import pandas as pd\n",
        "import numpy as np\n",
        "\n",
        "import datetime\n",
        "import mojimoji\n",
        "import re\n",
        "\n",
        "from typing import Union\n",
        "\n",
        "pd.set_option('display.max_columns', 100)"
      ],
      "execution_count": 293,
      "outputs": []
    },
    {
      "cell_type": "code",
      "metadata": {
        "id": "K10E60dzY_3O"
      },
      "source": [
        "URL = 'https://www.meti.go.jp/policy/economy/distribution/daikibo/todokede.html'\n",
        "res = requests.get(URL)\n",
        "soup = BeautifulSoup(res.content, 'lxml') # バイト文字列を読み込んで文字コードを推定してくれる # 0.03秒"
      ],
      "execution_count": 294,
      "outputs": []
    },
    {
      "cell_type": "code",
      "metadata": {
        "id": "DR_pFy-jP7MP"
      },
      "source": [
        "DIR = './drive/MyDrive/data/'\n",
        " \n",
        "if not os.path.exists(DIR):\n",
        "    # ディレクトリが存在しない場合、ディレクトリを作成する\n",
        "    os.makedirs(DIR)"
      ],
      "execution_count": 295,
      "outputs": []
    },
    {
      "cell_type": "code",
      "metadata": {
        "id": "crBoIOWyP_ZA"
      },
      "source": [
        "for t in soup.select('a'):\n",
        "\n",
        "  if '法第5条第1項（EXCEL形式' in t.text:\n",
        "    href = t.get('href')\n",
        "\n",
        "    if 'daikibo' in href:\n",
        "      link = 'https://www.meti.go.jp' + href\n",
        "    else:\n",
        "      link = 'https://www.meti.go.jp/policy/economy/distribution/daikibo/' + href\n",
        "\n",
        "    file = requests.get(link)\n",
        "    filename = os.path.basename(link)\n",
        "\n",
        "    with open(DIR + filename, 'wb') as f:\n",
        "      f.write(file.content)\n",
        "\n",
        "      time.sleep(3)"
      ],
      "execution_count": 296,
      "outputs": []
    },
    {
      "cell_type": "code",
      "metadata": {
        "id": "vGjH5E8_eTSV"
      },
      "source": [
        "import glob\n",
        " \n",
        "files = glob.glob(DIR + 'ritti_todogai*.xlsx')\n",
        "files_lst = []\n",
        "\n",
        "for file in files:\n",
        "\n",
        "    input_book = pd.ExcelFile(file) \n",
        "    input_sheet_name = input_book.sheet_names\n",
        "    data = input_book.parse(input_sheet_name[0], header=1,\n",
        "                 skiprows=[0,1,2,3,4,5,6,7], usecols='A:D, G, J:M',\n",
        "                 names=['局名', '都道府県', '大規模小売店舗名', '所在地', \n",
        "                        '小売業者名', '届出日', '開店予定日', '店舗面積', '取下げ'])\n",
        "    files_lst.append(data)\n",
        " \n",
        "total_data = pd.concat(files_lst)\n",
        "input_file_name = DIR + 'total.xlsx'\n",
        "total_data.to_excel(input_file_name, index=False)"
      ],
      "execution_count": 297,
      "outputs": []
    },
    {
      "cell_type": "code",
      "metadata": {
        "id": "EvjRbdAeh6Cq"
      },
      "source": [
        "DIR='drive/MyDrive/data/'\n",
        "input_file_name = DIR + 'total.xlsx'\n",
        "df = pd.read_excel(input_file_name, sheet_name=0)\n",
        "# df # 12667 rows × 9 columns"
      ],
      "execution_count": 298,
      "outputs": []
    },
    {
      "cell_type": "code",
      "metadata": {
        "id": "enXYWBK1cJTH"
      },
      "source": [
        "# 大まかにデータフレームの属性を掴む\n",
        "\n",
        "# print(df.shape)\n",
        "# print('---------')\n",
        "# print(df.info())"
      ],
      "execution_count": 299,
      "outputs": []
    },
    {
      "cell_type": "markdown",
      "metadata": {
        "id": "UYQlKoMdgcwq"
      },
      "source": [
        "## 不要な列の削除・欠損値の処理"
      ]
    },
    {
      "cell_type": "code",
      "metadata": {
        "id": "whHL6RqEUf3Z"
      },
      "source": [
        "# 「取下げ」列で欠損値でない行のインデックスを抽出\n",
        "drop_lst = df[df['取下げ'].notna()].index\n",
        "# 取下げられた届出のインデックスなので、その行は分析に不要（異常値）のため、削除する\n",
        "df.drop(index=drop_lst, inplace=True) \n",
        "\n",
        "# df # 12392 rows × 9 columns"
      ],
      "execution_count": 300,
      "outputs": []
    },
    {
      "cell_type": "code",
      "metadata": {
        "id": "4c56zq2gUi8u"
      },
      "source": [
        "# 「取下げ」列は欠損値のみ。不要になったので、この列を削除する\n",
        "df.drop(columns='取下げ', inplace=True)\n",
        "\n",
        "# df # 12392 rows × 8 columns"
      ],
      "execution_count": 301,
      "outputs": []
    },
    {
      "cell_type": "code",
      "metadata": {
        "id": "UTEfeqB4eZyq"
      },
      "source": [
        "# それ以外の列で欠損値を含む行を確認する\n",
        "\n",
        "# df[df.isnull().any(axis=1)] # 70 rows × 8 columns"
      ],
      "execution_count": 302,
      "outputs": []
    },
    {
      "cell_type": "code",
      "metadata": {
        "id": "_e6vnv4xZO0Y"
      },
      "source": [
        "# 推測して埋められる行もあるが、今回は欠損値を含む行は削除する\n",
        "df.dropna(how='any', inplace=True)\n",
        "\n",
        "# df # 12322 rows × 8 columns"
      ],
      "execution_count": 303,
      "outputs": []
    },
    {
      "cell_type": "code",
      "metadata": {
        "id": "EFIEuTPvf-4O"
      },
      "source": [
        "# 欠損値が残っていないかチェックする\n",
        "# df.isnull().sum()"
      ],
      "execution_count": 304,
      "outputs": []
    },
    {
      "cell_type": "code",
      "metadata": {
        "id": "HEUUgFb4wMlh"
      },
      "source": [
        "# インデックスが所々抜けているのでふり直す\n",
        "\n",
        "# df = df.reset_index(drop=True)"
      ],
      "execution_count": 305,
      "outputs": []
    },
    {
      "cell_type": "code",
      "metadata": {
        "id": "iTMsM00qy7sO"
      },
      "source": [
        "# 新しいインデックス確認\n",
        "\n",
        "# df # 12322 rows × 8 columns"
      ],
      "execution_count": 306,
      "outputs": []
    },
    {
      "cell_type": "markdown",
      "metadata": {
        "id": "RQ2ZOn1A9-5o"
      },
      "source": [
        "## データ型の変更\n",
        "\n",
        "pandasは日付をデフォルトで読み込むと文字列型になる\n",
        "\n",
        "日付データ型へ変更する"
      ]
    },
    {
      "cell_type": "code",
      "metadata": {
        "id": "hNbjSIjn-Fgt"
      },
      "source": [
        "# データ型を確認する\n",
        "# 「届出日」「開店予定日」がdatetime型でない\n",
        "# https://pandas.pydata.org/pandas-docs/stable/user_guide/text.html#text-types\n",
        "\n",
        "# df.dtypes"
      ],
      "execution_count": 307,
      "outputs": []
    },
    {
      "cell_type": "code",
      "metadata": {
        "id": "PsuOVh82CSfB"
      },
      "source": [
        "# object型の「届出日」データをそのままdatetime型へ変換しようとするとエラーになる\n",
        "\n",
        "#pd.to_datetime(df['届出日'], format='%Y-%m-%d')"
      ],
      "execution_count": 308,
      "outputs": []
    },
    {
      "cell_type": "markdown",
      "metadata": {
        "id": "WCr9FmrwPfGa"
      },
      "source": [
        "### 届出日"
      ]
    },
    {
      "cell_type": "markdown",
      "metadata": {
        "id": "YcA02IcGAo65"
      },
      "source": [
        "上のセルを実行してエラーが出る原因は誤った日付の形式が混ざっていることらしい<br>\n",
        "他に、シリアル値という値も混ざっている（csvシートで確認する）<br>\n",
        "まずは「届出日」列をシリアル値とそうでないものに分ける"
      ]
    },
    {
      "cell_type": "code",
      "metadata": {
        "id": "CAXXNVDH_a_R"
      },
      "source": [
        "# シリアル値が含まれるインデックス（フラグ）と、数をカウントする関数\n",
        "from typing import Union\n",
        "\n",
        "def check_serial(col: pd.Series) -> Union[pd.Series, int]:\n",
        "\n",
        "    flag = col.astype('str').str.isdigit()\n",
        "\n",
        "    return flag, flag.sum()"
      ],
      "execution_count": 309,
      "outputs": []
    },
    {
      "cell_type": "code",
      "metadata": {
        "id": "Mt7rZEDx_1d5"
      },
      "source": [
        "flg, flg_num = check_serial(df['届出日'])\n",
        "# print(f'フラグ：\\n{flg}')\n",
        "# print('-----------------')\n",
        "# print(f'フラグの数：{flg_num}')"
      ],
      "execution_count": 310,
      "outputs": []
    },
    {
      "cell_type": "code",
      "metadata": {
        "id": "srkt8lTDDZgX"
      },
      "source": [
        "# Length: 170\n",
        "# print(df['届出日'][flg]) # ちなみにシリアル値一つ一つはint型\n",
        "# print('-----------------')\n",
        "# Length: 12152\n",
        "# print(df['届出日'][~flg]) # ~は否定を表すので、flgが立っていないインデックスを表す"
      ],
      "execution_count": 311,
      "outputs": []
    },
    {
      "cell_type": "code",
      "metadata": {
        "id": "HJnu7yhk6OQT"
      },
      "source": [
        "# int型のシリアル値を、datetime型の%Y-%m-%d形式に書き換える\n",
        "\n",
        "def replace_serial_to_date(col: pd.Series, flag: bool) ->  pd.Series:\n",
        "\n",
        "    series = pd.to_timedelta(col[flag].astype('float') - 2, unit='D')+pd.to_datetime('1900/1/1')\n",
        "\n",
        "    return series"
      ],
      "execution_count": 312,
      "outputs": []
    },
    {
      "cell_type": "code",
      "metadata": {
        "id": "xUhJY6rN6_7T"
      },
      "source": [
        "# string型の値を、datetime型の%Y-%m-%d形式に書き換える\n",
        "# errors='coerce'オプションで、エラーが出る値はNaTに置き換える\n",
        "\n",
        "def replace_str_to_date(col: pd.Series, flag: bool) ->  pd.Series:\n",
        "\n",
        "    series = pd.to_datetime(col[flag], format='%Y-%m-%d', errors='coerce')\n",
        "\n",
        "    return series"
      ],
      "execution_count": 313,
      "outputs": []
    },
    {
      "cell_type": "code",
      "metadata": {
        "id": "rdka08lh6_y8"
      },
      "source": [
        "from_serial = replace_serial_to_date(df['届出日'], flg)\n",
        "from_str = replace_str_to_date(df['届出日'], ~flg)\n",
        "\n",
        "# Length: 170\n",
        "# print(from_serial) # ちなみにシリアル値一つ一つはint型\n",
        "# print('-----------------')\n",
        "# # Length: 12152\n",
        "# print(from_str) "
      ],
      "execution_count": 314,
      "outputs": []
    },
    {
      "cell_type": "code",
      "metadata": {
        "id": "E5dVYdGr6_gO"
      },
      "source": [
        "# 処理後に欠損値はできてないか確認\n",
        "# print(from_serial[from_serial.isnull()].index)\n",
        "\n",
        "# 処理中のエラーで欠損値になった値が6つあった\n",
        "# print(from_str[from_str.isnull()].index)"
      ],
      "execution_count": 315,
      "outputs": []
    },
    {
      "cell_type": "code",
      "metadata": {
        "id": "eCdaFTbLDBX0"
      },
      "source": [
        "# 元のデータを確かめると、異常値だった行が欠損値になった様子\n",
        "\n",
        "# df['届出日'][from_str[from_str.isnull()].index]"
      ],
      "execution_count": 316,
      "outputs": []
    },
    {
      "cell_type": "code",
      "metadata": {
        "id": "VXVd-GvUrgSb"
      },
      "source": [
        "# 異常値の処理を行う関数\n",
        "\n",
        "import logging\n",
        "\n",
        "def processing_outlier(word: str) -> datetime:\n",
        "\n",
        "    season_dic = {'上旬': '5日', '中旬': '15日', '下旬': '25日'}\n",
        "\n",
        "    for key, value in season_dic.items():\n",
        "        word = word.replace(key, value)\n",
        "\n",
        "    word = re.sub(r',| ', '', word)\n",
        "    #数字以外ハイフンへ置換\n",
        "    word = re.sub(r'\\D', '-', word)\n",
        "    #末尾のハイフン削除\n",
        "    word = word.rstrip('-')\n",
        "    # データ型変換\n",
        "    try:\n",
        "        word = datetime.datetime.strptime(word, '%Y-%m-%d')\n",
        "    except:\n",
        "        word = np.nan\n",
        "        logging.exception('適切な形式ではありません')\n",
        "\n",
        "    return word\n"
      ],
      "execution_count": 317,
      "outputs": []
    },
    {
      "cell_type": "code",
      "metadata": {
        "id": "Yts9CjBMjKyu"
      },
      "source": [
        "series = df['届出日'][from_str[from_str.isnull()].index]\n",
        "converted_words = [processing_outlier(w) for w in series]\n",
        "\n",
        "# converted_words"
      ],
      "execution_count": 318,
      "outputs": []
    },
    {
      "cell_type": "code",
      "metadata": {
        "id": "WYfjpXwYDBQD"
      },
      "source": [
        "# 異常値を正常値に変換\n",
        "\n",
        "from_str_part = pd.Series(data=converted_words, index=from_str[from_str.isnull()].index, name='届出日')\n",
        "# from_str_part"
      ],
      "execution_count": 319,
      "outputs": []
    },
    {
      "cell_type": "code",
      "metadata": {
        "id": "KQdbDt2pNsIL"
      },
      "source": [
        "# 2つのSeriesを結合する（from_strの欠損値は、from_str_partの同じインデックスの値で上書き）\n",
        "from_str = from_str.combine_first(other=from_str_part)\n",
        "\n",
        "# from_str # 12152"
      ],
      "execution_count": 320,
      "outputs": []
    },
    {
      "cell_type": "code",
      "metadata": {
        "id": "yJjiptUyBjMY"
      },
      "source": [
        "# 上書きされていることを確認する\n",
        "# from_str.loc[from_str_part.index]"
      ],
      "execution_count": 321,
      "outputs": []
    },
    {
      "cell_type": "code",
      "metadata": {
        "id": "X-aXaok6Es6y"
      },
      "source": [
        "# from_serialとfrom_strを結合する（両者はインデックスが異なるので、上書きは起きない）\n",
        "# 結合したSeriesで元のDataFrasmeの「届出日」列を上書きする\n",
        "\n",
        "df['届出日'] = from_serial.combine_first(other=from_str)\n",
        "# df['届出日']"
      ],
      "execution_count": 322,
      "outputs": []
    },
    {
      "cell_type": "markdown",
      "metadata": {
        "id": "U8dY4gNMPZp0"
      },
      "source": [
        "### 開店予定日\n",
        "届出日と同じ処理を行う"
      ]
    },
    {
      "cell_type": "code",
      "metadata": {
        "id": "wtZlNiE__UP9"
      },
      "source": [
        "# 「開店予定日」列にシリアル値がいくつあるか数える\n",
        "\n",
        "flg, flg_num = check_serial(df['開店予定日'])\n",
        "# print(f'フラグ：\\n{flg}')\n",
        "# print('-----------------')\n",
        "# print(f'フラグの数：{flg_num}')"
      ],
      "execution_count": 323,
      "outputs": []
    },
    {
      "cell_type": "code",
      "metadata": {
        "id": "P3p_8vVLBDCJ"
      },
      "source": [
        "# Length: 182\n",
        "# print(df['開店予定日'][flg]) # ちなみにシリアル値一つ一つはint型\n",
        "# print('-----------------')\n",
        "# Length: 12140\n",
        "# print(df['開店予定日'][~flg]) # ~は否定を表すので、flgが立っていないインデックスを表す"
      ],
      "execution_count": 324,
      "outputs": []
    },
    {
      "cell_type": "code",
      "metadata": {
        "id": "Q8mPyPjWBDEv"
      },
      "source": [
        "# int型のシリアル値をdatetime型へ変換\n",
        "# from_serial = replace_serial_to_date(df['開店予定日'], flg)\n",
        "# str型をdatetime型へ変換\n",
        "# from_str = replace_str_to_date(df['開店予定日'], ~flg)\n",
        "\n",
        "# Length: 182\n",
        "# print(from_serial) # ちなみにシリアル値一つ一つはint型\n",
        "# print('-----------------')\n",
        "# Length: 12140\n",
        "# print(from_str) "
      ],
      "execution_count": 325,
      "outputs": []
    },
    {
      "cell_type": "code",
      "metadata": {
        "id": "j5m30mN7BDHY"
      },
      "source": [
        "# 処理後に欠損値はできてないか確認\n",
        "# print(from_serial[from_serial.isnull()].index)\n",
        "\n",
        "# 処理中のエラーで欠損値になった値が30個あった\n",
        "# print(from_str[from_str.isnull()].index)"
      ],
      "execution_count": 326,
      "outputs": []
    },
    {
      "cell_type": "code",
      "metadata": {
        "id": "p62MGba4BDIN"
      },
      "source": [
        "# 元のデータを確かめると、異常値だった行が欠損値になった様子\n",
        "\n",
        "# df['開店予定日'][from_str[from_str.isnull()].index]"
      ],
      "execution_count": 327,
      "outputs": []
    },
    {
      "cell_type": "code",
      "metadata": {
        "id": "Q4xkQLGbwVMG"
      },
      "source": [
        "series = df['開店予定日'][from_str[from_str.isnull()].index]\n",
        "converted_words = [processing_outlier(w) for w in series]\n",
        "\n",
        "# converted_words"
      ],
      "execution_count": 328,
      "outputs": []
    },
    {
      "cell_type": "code",
      "metadata": {
        "id": "8MxPkROABDJB",
        "colab": {
          "base_uri": "https://localhost:8080/"
        },
        "outputId": "ba037d49-daae-4568-a72c-3f58eb3abcdd"
      },
      "source": [
        "# 関数processing_outlierで処理できないイレギュラーな異常値は欠損値にした\n",
        "#（欠損値としないで、これらも処理できる関数を作るか、あるい直接的に直しても良い）\n",
        "\n",
        "from_str_part = pd.Series(data=converted_words, index=from_str[from_str.isnull()].index, name='開店予定日')\n",
        "# from_str_part"
      ],
      "execution_count": 329,
      "outputs": [
        {
          "output_type": "stream",
          "text": [
            "/usr/local/lib/python3.7/dist-packages/ipykernel_launcher.py:4: DeprecationWarning: The default dtype for empty Series will be 'object' instead of 'float64' in a future version. Specify a dtype explicitly to silence this warning.\n",
            "  after removing the cwd from sys.path.\n"
          ],
          "name": "stderr"
        }
      ]
    },
    {
      "cell_type": "code",
      "metadata": {
        "id": "S7LnOqbfBCSk"
      },
      "source": [
        "# 2つのSeriesを結合する（from_strの欠損値をfrom_str_partの同じインデックスの値で上書き）\n",
        "from_str = from_str.combine_first(other=from_str_part)\n",
        "\n",
        "# from_str"
      ],
      "execution_count": 330,
      "outputs": []
    },
    {
      "cell_type": "code",
      "metadata": {
        "id": "EgDvxgFWBBup"
      },
      "source": [
        "# 上書きされていることを確認する\n",
        "# from_str.loc[from_str_part.index]"
      ],
      "execution_count": 331,
      "outputs": []
    },
    {
      "cell_type": "code",
      "metadata": {
        "id": "jMRazUp6BBHV"
      },
      "source": [
        "# from_serialとfrom_strを結合する（両者はインデックスが異なるので上書きは起きない）\n",
        "# 結合したSeriesで元のDataFrasmeの「開店予定日」列を上書きする\n",
        "\n",
        "df['開店予定日'] = from_serial.combine_first(other=from_str)\n",
        "# df['開店予定日']"
      ],
      "execution_count": 332,
      "outputs": []
    },
    {
      "cell_type": "code",
      "metadata": {
        "id": "8YMcjSDqcBd2"
      },
      "source": [
        "# 欠損値を削除する\n",
        "df.dropna(how='any', inplace=True)\n",
        "df.reset_index(drop=True, inplace=True)"
      ],
      "execution_count": 333,
      "outputs": []
    },
    {
      "cell_type": "code",
      "metadata": {
        "id": "4bGG2vXYD7pc"
      },
      "source": [
        "# df # 12307 rows × 8 columns"
      ],
      "execution_count": 334,
      "outputs": []
    },
    {
      "cell_type": "markdown",
      "metadata": {
        "id": "aERrRgUtdbsj"
      },
      "source": [
        "## 適切な表記への置換"
      ]
    },
    {
      "cell_type": "markdown",
      "metadata": {
        "id": "LLcKzCtkoerj"
      },
      "source": [
        "### 所在地の表記を整形する"
      ]
    },
    {
      "cell_type": "code",
      "metadata": {
        "id": "CnKYmd2fcX_H"
      },
      "source": [
        "import logging\n",
        "\n",
        "def clean_address(col: pd.Series) -> list:\n",
        "\n",
        "    places = []\n",
        "    for idx, place in enumerate(col):\n",
        "        \n",
        "        try:\n",
        "\n",
        "            if '外' in place:\n",
        "                place = place[:place.rfind('外')]\n",
        "            elif 'ほか' in place:\n",
        "                place = place[:place.rfind('ほか')]\n",
        "            elif '他' in place:\n",
        "                place = place[:place.rfind('他')]   \n",
        "\n",
        "            place = ''.join(place.split())\n",
        "\n",
        "        except:\n",
        "\n",
        "            place = np.nan\n",
        "            logging.exception('適切な住所ではありません')\n",
        "            print(f'インデックス：{idx}')\n",
        "\n",
        "        places.append(place)\n",
        "      \n",
        "    return places"
      ],
      "execution_count": 335,
      "outputs": []
    },
    {
      "cell_type": "code",
      "metadata": {
        "colab": {
          "base_uri": "https://localhost:8080/"
        },
        "id": "Ei_iVgSYdj2M",
        "outputId": "57bbec6d-5521-4b94-b0fb-c7750deb47d2"
      },
      "source": [
        "# 住所の不要な表記を削除する関数実行（返り値はなし）\n",
        "# エラーになったらそこはNaNで埋める\n",
        "places = clean_address(df['所在地'])"
      ],
      "execution_count": 336,
      "outputs": [
        {
          "output_type": "stream",
          "text": [
            "ERROR:root:適切な住所ではありません\n",
            "Traceback (most recent call last):\n",
            "  File \"<ipython-input-335-a4cf8af997ac>\", line 10, in clean_address\n",
            "    if '外' in place:\n",
            "TypeError: argument of type 'int' is not iterable\n"
          ],
          "name": "stderr"
        },
        {
          "output_type": "stream",
          "text": [
            "インデックス：8459\n"
          ],
          "name": "stdout"
        }
      ]
    },
    {
      "cell_type": "code",
      "metadata": {
        "id": "uwBVq13nTaFk"
      },
      "source": [
        "# リストをインデックス付きのSeriesに変換する\n",
        "places = pd.Series(data=places, index=df.index, name='所在地')\n",
        "# NaNのあるインデックス8459を確認\n",
        "# print(places[places.isnull()])"
      ],
      "execution_count": 337,
      "outputs": []
    },
    {
      "cell_type": "code",
      "metadata": {
        "id": "tA4TcKb_cwVL"
      },
      "source": [
        "# Seriesを上書きする\n",
        "df['所在地'] = places"
      ],
      "execution_count": 338,
      "outputs": []
    },
    {
      "cell_type": "code",
      "metadata": {
        "id": "4J2MvUqdU05q"
      },
      "source": [
        "# df[df['所在地'].isnull()]"
      ],
      "execution_count": 339,
      "outputs": []
    },
    {
      "cell_type": "code",
      "metadata": {
        "id": "RUHKtrU6cv-U"
      },
      "source": [
        "# この行を削除する\n",
        "df.dropna(how='any', inplace=True)"
      ],
      "execution_count": 340,
      "outputs": []
    },
    {
      "cell_type": "code",
      "metadata": {
        "id": "AyeKiIR7cvy0"
      },
      "source": [
        "# インデックス振り直し\n",
        "df.reset_index(drop=True, inplace=True)"
      ],
      "execution_count": 341,
      "outputs": []
    },
    {
      "cell_type": "code",
      "metadata": {
        "id": "oL7xpIz8BSkU"
      },
      "source": [
        "# df # 12306 rows × 8 columns"
      ],
      "execution_count": 342,
      "outputs": []
    },
    {
      "cell_type": "markdown",
      "metadata": {
        "id": "zwhins4a8ihz"
      },
      "source": [
        "## 表記の統一\n"
      ]
    },
    {
      "cell_type": "markdown",
      "metadata": {
        "id": "ZRrc9bovoPqF"
      },
      "source": [
        "### 小売業者名の表記の統一"
      ]
    },
    {
      "cell_type": "code",
      "metadata": {
        "id": "nHgGf2C24xg_"
      },
      "source": [
        "# len(df['小売業者名'].unique())"
      ],
      "execution_count": 343,
      "outputs": []
    },
    {
      "cell_type": "code",
      "metadata": {
        "id": "de7m_WOmWGlD"
      },
      "source": [
        "# 頻出する不要な表記を削除する関数\n",
        "\n",
        "def clean_labels(data: str, replace_at: str = '') -> str:\n",
        "        \n",
        "    data = re.sub('株式会社|㈱|（株）|\\(|(株)|\\)|ほか|他', replace_at, data)\n",
        "\n",
        "    data = ''.join(data.split())\n",
        "\n",
        "    return data"
      ],
      "execution_count": 344,
      "outputs": []
    },
    {
      "cell_type": "code",
      "metadata": {
        "id": "XAr6kPPGWk46"
      },
      "source": [
        "# 横棒、中黒記号の類似を統一する関数\n",
        "\n",
        "def replace_symbol(data: str, replace_line: str = 'ー', replace_point: str = '・') -> str:\n",
        "    \n",
        "    data = re.sub('－|-|‐|−|‒|—|–|―|ｰ|─|━|ㅡ|ـ|⁻|₋', replace_line, data)\n",
        "    data = re.sub('･|・|・|・|•', replace_point, data)\n",
        "\n",
        "    return data"
      ],
      "execution_count": 345,
      "outputs": []
    },
    {
      "cell_type": "code",
      "metadata": {
        "id": "3GT39Wa2Wo6n"
      },
      "source": [
        "# 表記ゆれ、不要な表記の修正\n",
        "\n",
        "def fix_spelling(col: pd.Series) -> list:\n",
        "\n",
        "    retailer = []\n",
        "    for d in col:\n",
        "        \n",
        "        d = clean_labels(d, replace_at='')\n",
        "        d = replace_symbol(d, replace_line='ー', replace_point='・')\n",
        "        d = d.replace('“', '') # ダブルコロン削除\n",
        "        d = d.upper() # 大文字に統一\n",
        "        d = mojimoji.han_to_zen(d) # 半角に統一\n",
        "                \n",
        "        if 'セブン' in d:\n",
        "            d = re.sub(r'セブンイレブン', 'セブンーイレブン', d)\n",
        "            d = re.sub('・ジャパン|ジャパン', '', d)\n",
        "            \n",
        "        if 'ルシア' in d:\n",
        "            d = re.sub(r'ウェルシア', 'ウエルシア', d)\n",
        "            d = d.replace('薬局', '')\n",
        "            \n",
        "        if 'アイ・ティー' in d:\n",
        "            d = re.sub(r'アイ・ティーエックス', 'アイ・ティー・エックス', d)\n",
        "            \n",
        "        # 業者名が連名になっているところは改行する\n",
        "        if '、' in d:\n",
        "            d = d.replace('、', '・\\n')       \n",
        "\n",
        "        retailer.append(d)\n",
        "        \n",
        "    return retailer"
      ],
      "execution_count": 346,
      "outputs": []
    },
    {
      "cell_type": "code",
      "metadata": {
        "id": "7VCqr689WrcM"
      },
      "source": [
        "retailer = fix_spelling(df['小売業者名'])"
      ],
      "execution_count": 347,
      "outputs": []
    },
    {
      "cell_type": "code",
      "metadata": {
        "id": "R19nlnEqY84V"
      },
      "source": [
        "# リストをインデックス付きのSeriesに変換する\n",
        "retailer = pd.Series(data=retailer, index=df.index, name='小売業者名')\n",
        "# このSeriesで「小売業者名」を上書きする\n",
        "df['小売業者名'] = retailer"
      ],
      "execution_count": 348,
      "outputs": []
    },
    {
      "cell_type": "code",
      "metadata": {
        "id": "1_AGd3rNbYFr"
      },
      "source": [
        "# pd.DataFrame(df['小売業者名'].value_counts())"
      ],
      "execution_count": 349,
      "outputs": []
    },
    {
      "cell_type": "markdown",
      "metadata": {
        "id": "tlv_xo0An-OB"
      },
      "source": [
        "### 都道府県名の表記の統一\n",
        "\n",
        "市区町村名を都道府県名に置換"
      ]
    },
    {
      "cell_type": "code",
      "metadata": {
        "id": "aINye0xytza0"
      },
      "source": [
        "# 都道府県名に市の名前が混ざっている\n",
        "\n",
        "# print(df['都道府県'][df['都道府県'].str.contains('市')])\n",
        "# print('----------------')\n",
        "# print(df['都道府県'][df['都道府県'].str.contains('市')].unique())\n",
        "# print(len(df['都道府県'][df['都道府県'].str.contains('市')].unique()))"
      ],
      "execution_count": 350,
      "outputs": []
    },
    {
      "cell_type": "code",
      "metadata": {
        "id": "WybKKrMoRRxE"
      },
      "source": [
        "# 「市名」になった値を特定するフラグを作る\n",
        "city_flg = df['都道府県'].str.contains('市')\n",
        "# city_flg"
      ],
      "execution_count": 351,
      "outputs": []
    },
    {
      "cell_type": "code",
      "metadata": {
        "id": "eIB_v6GKuOXx"
      },
      "source": [
        "# 上記を除くと、さらに「県」表記が抜けているものがある\n",
        "#  '富山', '石川', '沖縄'の3パターン\n",
        "\n",
        "# df['都道府県'][~city_flg].unique()"
      ],
      "execution_count": 352,
      "outputs": []
    },
    {
      "cell_type": "code",
      "metadata": {
        "id": "Nnzx0BKWmPyr"
      },
      "source": [
        "# ダウンロードurlからzipファイルを取得する\n",
        "\"\"\"\n",
        "住所データcsv\n",
        "http://jusyo.jp/csv/new.php\n",
        "\"\"\"\n",
        "\n",
        "URL = 'http://jusyo.jp/downloads/new/csv/csv_zenkoku.zip'\n",
        "\n",
        "res = requests.get(URL)\n",
        "filename = os.path.basename(URL)\n",
        "\n",
        "with open(DIR + filename, 'wb') as f:\n",
        "    f.write(res.content)"
      ],
      "execution_count": 353,
      "outputs": []
    },
    {
      "cell_type": "code",
      "metadata": {
        "id": "L1YbxBPNpEr3"
      },
      "source": [
        "# zipファイル解凍\n",
        "import zipfile\n",
        "\n",
        "files = glob.glob(DIR + filename)\n",
        "\n",
        "with zipfile.ZipFile(files[0]) as existing_zip:\n",
        "    existing_zip.extractall(DIR)"
      ],
      "execution_count": 354,
      "outputs": []
    },
    {
      "cell_type": "code",
      "metadata": {
        "colab": {
          "base_uri": "https://localhost:8080/"
        },
        "id": "1WxvbePkiwm0",
        "outputId": "11763e87-aafc-440c-9ac2-b667df464c46"
      },
      "source": [
        "zenkoku = pd.read_csv(DIR + 'zenkoku.csv', encoding='cp932')\n",
        "# zenkoku"
      ],
      "execution_count": 355,
      "outputs": [
        {
          "output_type": "stream",
          "text": [
            "/usr/local/lib/python3.7/dist-packages/IPython/core/interactiveshell.py:2718: DtypeWarning: Columns (14) have mixed types.Specify dtype option on import or set low_memory=False.\n",
            "  interactivity=interactivity, compiler=compiler, result=result)\n"
          ],
          "name": "stderr"
        }
      ]
    },
    {
      "cell_type": "code",
      "metadata": {
        "id": "5H1oZ8JycPqj"
      },
      "source": [
        "# 市区町村名から都道府県名を推定する関数\n",
        "# 関数のtype hint未記入（returnがnumpyデータ型になるパターンをまだ調べていないため）\n",
        "def city_to_prefectures(data, city):     \n",
        "\n",
        "    rows = data[data['市区町村'].str.contains(city)]\n",
        "\n",
        "    city = rows['都道府県'].unique()\n",
        "\n",
        "    return city"
      ],
      "execution_count": 356,
      "outputs": []
    },
    {
      "cell_type": "code",
      "metadata": {
        "id": "7hvC-GMNtrA3"
      },
      "source": [
        "# 関数の挙動確認\n",
        "\n",
        "# city_to_prefectures(zenkoku, '北九州市')"
      ],
      "execution_count": 357,
      "outputs": []
    },
    {
      "cell_type": "code",
      "metadata": {
        "id": "iWB7skA2vHx6"
      },
      "source": [
        "# 都市と都道府県の変換辞書\n",
        "cities = df['都道府県'][df['都道府県'].str.contains('市')].unique()\n",
        "\n",
        "# 広島市は北海道と広島県の候補がある\n",
        "city_dic = {city : city_to_prefectures(zenkoku, city) for city in cities}\n",
        "# city_dic"
      ],
      "execution_count": 358,
      "outputs": []
    },
    {
      "cell_type": "code",
      "metadata": {
        "id": "7QjWGqzUym7L"
      },
      "source": [
        "# 元のDataFrameで広島市を確認する\n",
        "# 中国地方の広島市のみ\n",
        "# df['局名'][df['都道府県']=='広島市'].unique()"
      ],
      "execution_count": 359,
      "outputs": []
    },
    {
      "cell_type": "code",
      "metadata": {
        "id": "z3iyZRhK0mg3"
      },
      "source": [
        "# 上書きする\n",
        "city_dic['広島市'] = np.array(['広島県'], dtype=object)\n",
        "# city_dic"
      ],
      "execution_count": 360,
      "outputs": []
    },
    {
      "cell_type": "code",
      "metadata": {
        "id": "NCbEHh-bPCAH"
      },
      "source": [
        "# 辞書のvalueについていたarrayを外す\n",
        "city_dic = {k: v[0] for k, v in city_dic.items()}\n",
        "# city_dic"
      ],
      "execution_count": 361,
      "outputs": []
    },
    {
      "cell_type": "code",
      "metadata": {
        "id": "ro6smWPeLbwL"
      },
      "source": [
        "# 置換辞書を用いて一括で置換する\n",
        "df['都道府県'].replace(city_dic, inplace=True)\n",
        "# df['都道府県'][city_flg]"
      ],
      "execution_count": 362,
      "outputs": []
    },
    {
      "cell_type": "code",
      "metadata": {
        "id": "y7Ux9xpYXjQl"
      },
      "source": [
        "# 47都道府県のリストを作成\n",
        "local = [ v for v in df['都道府県'][~city_flg].unique() if len(v)>2 ]\n",
        "# print(local)\n",
        "# print(len(local))"
      ],
      "execution_count": 363,
      "outputs": []
    },
    {
      "cell_type": "code",
      "metadata": {
        "id": "NDIF0V9vX6FC"
      },
      "source": [
        "# print(df['都道府県'][~df['都道府県'].isin(local)])\n",
        "temp = df['都道府県'][~df['都道府県'].isin(local)].unique()\n",
        "# temp"
      ],
      "execution_count": 364,
      "outputs": []
    },
    {
      "cell_type": "code",
      "metadata": {
        "id": "KJ6JjYTgidfz"
      },
      "source": [
        "# 「県」表記が抜けている都道府県名を補完するための置換辞書を作成する\n",
        "\n",
        "temp_dic = {t: t+'県' for t in temp}\n",
        "# temp_dic"
      ],
      "execution_count": 365,
      "outputs": []
    },
    {
      "cell_type": "code",
      "metadata": {
        "id": "sV680Onzlpvk"
      },
      "source": [
        "# 置換辞書で上書きする\n",
        "df['都道府県'].replace(temp_dic, inplace=True)"
      ],
      "execution_count": 366,
      "outputs": []
    },
    {
      "cell_type": "markdown",
      "metadata": {
        "id": "kVyPQhZenjq9"
      },
      "source": [
        "### 局名の表記の統一\n",
        "局名に含まれる異常値を修正"
      ]
    },
    {
      "cell_type": "code",
      "metadata": {
        "id": "kfhyumzUmGyp"
      },
      "source": [
        "# df['局名'].unique()"
      ],
      "execution_count": 367,
      "outputs": []
    },
    {
      "cell_type": "code",
      "metadata": {
        "id": "Tu9yZ38ImSz7"
      },
      "source": [
        "# fix_spellingでなくとも空白除去でこと足りる\n",
        "\n",
        "block = [''.join(d.split()) for d in df['局名']]"
      ],
      "execution_count": 368,
      "outputs": []
    },
    {
      "cell_type": "code",
      "metadata": {
        "id": "VjpkKvORoQdV"
      },
      "source": [
        "# df.isnull().sum()"
      ],
      "execution_count": 369,
      "outputs": []
    },
    {
      "cell_type": "code",
      "metadata": {
        "id": "_vAkxiYOn_y_"
      },
      "source": [
        "# リストをインデックス付きのSeriesに変換する\n",
        "block = pd.Series(data=block, index=df.index, name='局名')\n",
        "# このSeriesで「小売業者名」を上書きする\n",
        "df['局名'] = block\n",
        "# df['局名'].unique()"
      ],
      "execution_count": 370,
      "outputs": []
    },
    {
      "cell_type": "code",
      "metadata": {
        "id": "sATeRcVDojfc"
      },
      "source": [
        "# 九地方区分名以外の表記が混ざっている\n",
        "# print(df['局名'].unique())\n",
        "# print('-----------------')\n",
        "# print(df['局名'].unique()[-2:])"
      ],
      "execution_count": 371,
      "outputs": []
    },
    {
      "cell_type": "code",
      "metadata": {
        "id": "YxgPcFtRom43"
      },
      "source": [
        "# 誤った局名の表記をerr_変数に格納する\n",
        "err_1 = df['局名'].unique()[-1] \n",
        "err_2 = df['局名'].unique()[-2] \n",
        "\n",
        "# 局名をerr_変数で指定した行を確認する\n",
        "# df[(df['局名']==err_1) | (df['局名']==err_2)]"
      ],
      "execution_count": 372,
      "outputs": []
    },
    {
      "cell_type": "code",
      "metadata": {
        "id": "ZAwrV3bE3YVj"
      },
      "source": [
        "# 誤った局名の表記に対応する都道府県名を抽出する\n",
        "# print(df['都道府県'][df['局名']==err_1])\n",
        "# print(df['都道府県'][df['局名']==err_2])\n",
        "\n",
        "# 誤った局名の表記に対応する都道府県名をlocal_変数に格納する\n",
        "local_1 = df['都道府県'][df['局名']==err_1]\n",
        "local_2 = df['都道府県'][df['局名']==err_2]"
      ],
      "execution_count": 373,
      "outputs": []
    },
    {
      "cell_type": "code",
      "metadata": {
        "id": "0gEOISR52FU2"
      },
      "source": [
        "# これらの都道府県名に対応する一番多い（正しい）局名を抽出する\n",
        "# print(df['局名'][df['都道府県']== local_1.values[0]].value_counts().index[0])\n",
        "# print(df['局名'][df['都道府県']== local_2.values[0]].value_counts().index[0])\n",
        "\n",
        "# これらの都道府県名に対応する一番多い（正しい）局名をblock_変数に格納する\n",
        "block_1 = df['局名'][df['都道府県']== local_1.values[0]].value_counts().index[0]\n",
        "block_2 = df['局名'][df['都道府県']== local_2.values[0]].value_counts().index[0]"
      ],
      "execution_count": 374,
      "outputs": []
    },
    {
      "cell_type": "code",
      "metadata": {
        "id": "HcrXZOX6pQJm"
      },
      "source": [
        "# 誤った局名を正しい局名に変換する置換辞書を作成する\n",
        "block_dic = {err_1 : block_1, err_2 : block_2}\n",
        "\n",
        "# 置換辞書で置き換えを実行\n",
        "df['局名'].replace(block_dic, inplace=True)"
      ],
      "execution_count": 375,
      "outputs": []
    },
    {
      "cell_type": "code",
      "metadata": {
        "id": "hoFoJYRtqUrD"
      },
      "source": [
        "# 局名が正しい九つの地方区分名のみになっている\n",
        "# df['局名'].unique()"
      ],
      "execution_count": 376,
      "outputs": []
    },
    {
      "cell_type": "code",
      "metadata": {
        "id": "LWG7sKam9ktb"
      },
      "source": [
        "# データ型の確認\n",
        "# df.dtypes"
      ],
      "execution_count": 377,
      "outputs": []
    },
    {
      "cell_type": "markdown",
      "metadata": {
        "id": "OcjeSfVLdyB0"
      },
      "source": [
        "## 欠損値の確認\n",
        "csv保存し、読み込み直すことでスペース記号になっている値を欠損値として発見できる"
      ]
    },
    {
      "cell_type": "code",
      "metadata": {
        "id": "gAYsAfVSHMHS"
      },
      "source": [
        "# 欠損値なし\n",
        "# df.isnull().sum()"
      ],
      "execution_count": 378,
      "outputs": []
    },
    {
      "cell_type": "code",
      "metadata": {
        "id": "hSH1aYwPF57P"
      },
      "source": [
        "DIR = 'drive/MyDrive/data/'\n",
        "\n",
        "# 欠損値処理まで済んだデータをsection_2.csvとして保存しておく\n",
        "# インデックスは出力しない\n",
        "df.to_csv(DIR + 'section_2.csv', index=False)"
      ],
      "execution_count": 379,
      "outputs": []
    },
    {
      "cell_type": "code",
      "metadata": {
        "id": "TZk2uWyrOTK1"
      },
      "source": [
        "df = pd.read_csv(DIR + 'section_2.csv', parse_dates=['届出日', '開店予定日'])\n",
        "# df # 12321 rows × 9 columns"
      ],
      "execution_count": 380,
      "outputs": []
    },
    {
      "cell_type": "code",
      "metadata": {
        "id": "OdJmte52TTxH"
      },
      "source": [
        "# df.dtypes"
      ],
      "execution_count": 381,
      "outputs": []
    },
    {
      "cell_type": "code",
      "metadata": {
        "id": "9RYF7OodOWr-"
      },
      "source": [
        "# 読み込み直すと、なぜか欠損値が一つ見つかった\n",
        "# 元々、入力がスペース記号のものが混じっていたため\n",
        "# df.isnull().sum()"
      ],
      "execution_count": 382,
      "outputs": []
    },
    {
      "cell_type": "code",
      "metadata": {
        "id": "T0dgGLz2MZMC"
      },
      "source": [
        "# df[df['小売業者名'].isnull()]"
      ],
      "execution_count": 383,
      "outputs": []
    },
    {
      "cell_type": "code",
      "metadata": {
        "id": "Avx1V9TTMory"
      },
      "source": [
        "# 欠損値を含む行を削除\n",
        "df.dropna(how='any', inplace=True)\n",
        "# df # 12320 rows × 9 columns"
      ],
      "execution_count": 384,
      "outputs": []
    },
    {
      "cell_type": "code",
      "metadata": {
        "id": "LBSDgfA8T2MX"
      },
      "source": [
        "# 欠損値処理まで済んだデータをsection_2.csvとして保存し直し\n",
        "# インデックスは出力しない\n",
        "df.to_csv(DIR + 'section_2.csv', index=False)"
      ],
      "execution_count": 385,
      "outputs": []
    },
    {
      "cell_type": "code",
      "metadata": {
        "id": "jAV7PJQuUCYS"
      },
      "source": [
        "df = pd.read_csv(DIR + 'section_2.csv', parse_dates=['届出日', '開店予定日'])\n",
        "# df # 12320 rows × 9 columns"
      ],
      "execution_count": 386,
      "outputs": []
    },
    {
      "cell_type": "code",
      "metadata": {
        "id": "WOyrtRjnUFXP"
      },
      "source": [
        "# 今度は欠損値ゼロになっている\n",
        "# df.isnull().sum()"
      ],
      "execution_count": 387,
      "outputs": []
    },
    {
      "cell_type": "markdown",
      "metadata": {
        "id": "NVutHM5jUQYx"
      },
      "source": [
        "## データクレンジングはここで終了"
      ]
    },
    {
      "cell_type": "code",
      "metadata": {
        "id": "kpV91yv2UJvK"
      },
      "source": [
        ""
      ],
      "execution_count": 387,
      "outputs": []
    }
  ]
}