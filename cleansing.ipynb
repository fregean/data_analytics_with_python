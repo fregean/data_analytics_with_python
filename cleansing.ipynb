{
 "cells": [
  {
   "cell_type": "markdown",
   "metadata": {
    "colab_type": "text",
    "id": "view-in-github"
   },
   "source": [
    "<a href=\"https://colab.research.google.com/github/fregean/data_analytics_with_python/blob/section2/cleansing.ipynb\" target=\"_parent\"><img src=\"https://colab.research.google.com/assets/colab-badge.svg\" alt=\"Open In Colab\"/></a>"
   ]
  },
  {
   "cell_type": "markdown",
   "metadata": {
    "id": "CrVe11QUDFUB"
   },
   "source": [
    "# 2 データクレンジング"
   ]
  },
  {
   "cell_type": "markdown",
   "metadata": {
    "id": "VRCB93xcU9Hr"
   },
   "source": [
    "##  データの入手・結合・読込み"
   ]
  },
  {
   "cell_type": "code",
   "execution_count": null,
   "metadata": {
    "id": "4NpqKQ1lPzsA"
   },
   "outputs": [],
   "source": [
    "import requests\n",
    "from bs4 import BeautifulSoup\n",
    "import os\n",
    "import time"
   ]
  },
  {
   "cell_type": "code",
   "execution_count": null,
   "metadata": {
    "id": "K10E60dzY_3O"
   },
   "outputs": [],
   "source": [
    "URL = 'https://www.meti.go.jp/policy/economy/distribution/daikibo/todokede.html'\n",
    "res = requests.get(URL)\n",
    "soup = BeautifulSoup(res.content, 'lxml') # バイト文字列を読み込んで文字コードを推定してくれる # 0.03秒"
   ]
  },
  {
   "cell_type": "code",
   "execution_count": null,
   "metadata": {
    "id": "DR_pFy-jP7MP"
   },
   "outputs": [],
   "source": [
    "DIR = './drive/MyDrive/data/'\n",
    " \n",
    "if not os.path.exists(DIR):\n",
    "    # ディレクトリが存在しない場合、ディレクトリを作成する\n",
    "    os.makedirs(DIR)"
   ]
  },
  {
   "cell_type": "code",
   "execution_count": null,
   "metadata": {
    "id": "crBoIOWyP_ZA"
   },
   "outputs": [],
   "source": [
    "for t in soup.select('a'):\n",
    "\n",
    "  if '法第5条第1項（EXCEL形式' in t.text:\n",
    "    href = t.get('href')\n",
    "\n",
    "    if 'daikibo' in href:\n",
    "      link = 'https://www.meti.go.jp' + href\n",
    "    else:\n",
    "      link = 'https://www.meti.go.jp/policy/economy/distribution/daikibo/' + href\n",
    "\n",
    "    file = requests.get(link)\n",
    "    filename = os.path.basename(link)\n",
    "\n",
    "    with open(DIR + filename, 'wb') as f:\n",
    "      f.write(file.content)\n",
    "\n",
    "      time.sleep(3)"
   ]
  },
  {
   "cell_type": "code",
   "execution_count": null,
   "metadata": {
    "id": "2PIbw-XyQJIG"
   },
   "outputs": [],
   "source": []
  },
  {
   "cell_type": "code",
   "execution_count": null,
   "metadata": {
    "colab": {
     "base_uri": "https://localhost:8080/"
    },
    "id": "QkuMwpXhZB2D",
    "outputId": "59a04eed-900e-47b5-fb8b-303761e3c580"
   },
   "outputs": [
    {
     "name": "stdout",
     "output_type": "stream",
     "text": [
      "Collecting mojimoji\n",
      "  Downloading mojimoji-0.0.11-cp37-cp37m-manylinux1_x86_64.whl (127 kB)\n",
      "\u001b[?25l\r",
      "\u001b[K     |██▋                             | 10 kB 20.6 MB/s eta 0:00:01\r",
      "\u001b[K     |█████▏                          | 20 kB 26.4 MB/s eta 0:00:01\r",
      "\u001b[K     |███████▊                        | 30 kB 14.8 MB/s eta 0:00:01\r",
      "\u001b[K     |██████████▎                     | 40 kB 10.9 MB/s eta 0:00:01\r",
      "\u001b[K     |████████████▉                   | 51 kB 5.2 MB/s eta 0:00:01\r",
      "\u001b[K     |███████████████▍                | 61 kB 5.3 MB/s eta 0:00:01\r",
      "\u001b[K     |██████████████████              | 71 kB 5.0 MB/s eta 0:00:01\r",
      "\u001b[K     |████████████████████▌           | 81 kB 5.6 MB/s eta 0:00:01\r",
      "\u001b[K     |███████████████████████▏        | 92 kB 5.6 MB/s eta 0:00:01\r",
      "\u001b[K     |█████████████████████████▊      | 102 kB 5.1 MB/s eta 0:00:01\r",
      "\u001b[K     |████████████████████████████▎   | 112 kB 5.1 MB/s eta 0:00:01\r",
      "\u001b[K     |██████████████████████████████▉ | 122 kB 5.1 MB/s eta 0:00:01\r",
      "\u001b[K     |████████████████████████████████| 127 kB 5.1 MB/s \n",
      "\u001b[?25hInstalling collected packages: mojimoji\n",
      "Successfully installed mojimoji-0.0.11\n"
     ]
    }
   ],
   "source": [
    "!pip install mojimoji\n",
    "import time\n",
    "import pandas as pd\n",
    "import numpy as np\n",
    "\n",
    "import datetime\n",
    "import mojimoji\n",
    "import re\n",
    "from selenium import webdriver\n",
    "\n",
    "pd.set_option('display.max_columns', 100)"
   ]
  },
  {
   "cell_type": "code",
   "execution_count": null,
   "metadata": {
    "id": "tmguGx20SJTs"
   },
   "outputs": [],
   "source": [
    "dir='drive/MyDrive/data/'\n",
    "\n",
    "options = webdriver.ChromeOptions()\n",
    "options.add_argument('--headless')\n",
    "options.add_argument('--no-sandbox')\n",
    "options.add_argument('--disable-dev-shm-usage')\n",
    "options.add_experimental_option('prefs', {\n",
    "    'download.default_directory': dir\n",
    "})\n",
    "\n",
    "driver = webdriver.Chrome('chromedriver',options=options)\n",
    "url = 'https://www.meti.go.jp/policy/economy/distribution/daikibo/todokede.html'\n",
    "driver.get(url)\n",
    "df_list = pd.read_html(driver.page_source, encoding='cp932')\n",
    "\n",
    "for num in range(1, 24):\n",
    "\n",
    "    for value in df_list[num]['EXCEL形式'][df_list[num]['EXCEL形式'].str.contains('法第5条第1項', na=False)]:\n",
    "\n",
    "        link = driver.find_element_by_link_text(value).click()\n",
    "        time.sleep(3)\n"
   ]
  },
  {
   "cell_type": "code",
   "execution_count": null,
   "metadata": {
    "id": "vGjH5E8_eTSV"
   },
   "outputs": [],
   "source": [
    "import glob\n",
    " \n",
    "files = glob.glob(dir + 'ritti_todogai*.xlsx')\n",
    "files_lst = []\n",
    "\n",
    "for file in files:\n",
    "\n",
    "    input_book = pd.ExcelFile(file) \n",
    "    input_sheet_name = input_book.sheet_names\n",
    "    data = input_book.parse(input_sheet_name[0], header=1,\n",
    "                 skiprows=[0,1,2,3,4,5,6,7], usecols='A:E, G, J:M',\n",
    "                 names=['局名', '都道府県', '大規模小売店舗名', '所在地', \n",
    "                        '小売業者名', '届出日', '開店予定日', '店舗面積', '取下げ'])\n",
    "    files_lst.append(data)\n",
    " \n",
    "total_data = pd.concat(files_lst)\n",
    "input_file_name = dir + 'total.xlsx'\n",
    "total_data.to_excel(input_file_name, index=False)"
   ]
  },
  {
   "cell_type": "code",
   "execution_count": null,
   "metadata": {
    "colab": {
     "base_uri": "https://localhost:8080/",
     "height": 606
    },
    "id": "EvjRbdAeh6Cq",
    "outputId": "0a36ac42-ecad-4ba8-a396-e85ed71a9e95"
   },
   "outputs": [
    {
     "data": {
      "text/html": [
       "<div>\n",
       "<style scoped>\n",
       "    .dataframe tbody tr th:only-of-type {\n",
       "        vertical-align: middle;\n",
       "    }\n",
       "\n",
       "    .dataframe tbody tr th {\n",
       "        vertical-align: top;\n",
       "    }\n",
       "\n",
       "    .dataframe thead th {\n",
       "        text-align: right;\n",
       "    }\n",
       "</style>\n",
       "<table border=\"1\" class=\"dataframe\">\n",
       "  <thead>\n",
       "    <tr style=\"text-align: right;\">\n",
       "      <th></th>\n",
       "      <th>局名</th>\n",
       "      <th>都道府県</th>\n",
       "      <th>大規模小売店舗名</th>\n",
       "      <th>所在地</th>\n",
       "      <th>建物設置者名</th>\n",
       "      <th>小売業者名</th>\n",
       "      <th>届出日</th>\n",
       "      <th>開店予定日</th>\n",
       "      <th>店舗面積</th>\n",
       "      <th>取下げ</th>\n",
       "    </tr>\n",
       "  </thead>\n",
       "  <tbody>\n",
       "    <tr>\n",
       "      <th>0</th>\n",
       "      <td>北海道</td>\n",
       "      <td>北海道</td>\n",
       "      <td>木野タウン　ケーズデンキ棟</td>\n",
       "      <td>音更町木野大通東11丁目1-1ほか</td>\n",
       "      <td>デンコードー</td>\n",
       "      <td>デンコードー</td>\n",
       "      <td>2019-04-16 00:00:00</td>\n",
       "      <td>2019-12-17 00:00:00</td>\n",
       "      <td>3134</td>\n",
       "      <td>NaN</td>\n",
       "    </tr>\n",
       "    <tr>\n",
       "      <th>1</th>\n",
       "      <td>北海道</td>\n",
       "      <td>北海道</td>\n",
       "      <td>旭川豊岡タウンプラザ　GU棟　SHOE・PLAZA棟</td>\n",
       "      <td>旭川市豊岡4条4丁目1-13ほか</td>\n",
       "      <td>セントラルリーシングシステム</td>\n",
       "      <td>ジーユー</td>\n",
       "      <td>2019-09-04 00:00:00</td>\n",
       "      <td>2020-05-05 00:00:00</td>\n",
       "      <td>1454</td>\n",
       "      <td>NaN</td>\n",
       "    </tr>\n",
       "    <tr>\n",
       "      <th>2</th>\n",
       "      <td>北海道</td>\n",
       "      <td>北海道</td>\n",
       "      <td>リラィアブルブックス　運動公園通り店</td>\n",
       "      <td>釧路町桂木3丁目7番1、７番2、8番　ほか</td>\n",
       "      <td>リラィアブル</td>\n",
       "      <td>リラィアブル</td>\n",
       "      <td>2019-09-26 00:00:00</td>\n",
       "      <td>2020-05-27 00:00:00</td>\n",
       "      <td>1379</td>\n",
       "      <td>NaN</td>\n",
       "    </tr>\n",
       "    <tr>\n",
       "      <th>3</th>\n",
       "      <td>北海道</td>\n",
       "      <td>北海道</td>\n",
       "      <td>コープさっぽろ　とくら店</td>\n",
       "      <td>函館市戸倉町224番－４ほか</td>\n",
       "      <td>コープさっぽろ</td>\n",
       "      <td>コープさっぽろ</td>\n",
       "      <td>2019-10-08 00:00:00</td>\n",
       "      <td>2020-06-09 00:00:00</td>\n",
       "      <td>1447</td>\n",
       "      <td>NaN</td>\n",
       "    </tr>\n",
       "    <tr>\n",
       "      <th>4</th>\n",
       "      <td>北海道</td>\n",
       "      <td>北海道</td>\n",
       "      <td>ツルハドラッグ旭川永山３条西店</td>\n",
       "      <td>旭川市永山３条８丁目76番１</td>\n",
       "      <td>北海道リース</td>\n",
       "      <td>ツルハ</td>\n",
       "      <td>2019-10-23 00:00:00</td>\n",
       "      <td>2020-06-24 00:00:00</td>\n",
       "      <td>1527</td>\n",
       "      <td>NaN</td>\n",
       "    </tr>\n",
       "    <tr>\n",
       "      <th>...</th>\n",
       "      <td>...</td>\n",
       "      <td>...</td>\n",
       "      <td>...</td>\n",
       "      <td>...</td>\n",
       "      <td>...</td>\n",
       "      <td>...</td>\n",
       "      <td>...</td>\n",
       "      <td>...</td>\n",
       "      <td>...</td>\n",
       "      <td>...</td>\n",
       "    </tr>\n",
       "    <tr>\n",
       "      <th>12662</th>\n",
       "      <td>九州</td>\n",
       "      <td>鹿児島県</td>\n",
       "      <td>（仮称）ドラッグコスモス鹿屋運動公園前店</td>\n",
       "      <td>鹿屋市西原２丁目104番１</td>\n",
       "      <td>コスモス薬品</td>\n",
       "      <td>コスモス薬品</td>\n",
       "      <td>2021-06-04 00:00:00</td>\n",
       "      <td>2022-02-05 00:00:00</td>\n",
       "      <td>1472</td>\n",
       "      <td>NaN</td>\n",
       "    </tr>\n",
       "    <tr>\n",
       "      <th>12663</th>\n",
       "      <td>九州</td>\n",
       "      <td>鹿児島県</td>\n",
       "      <td>Books　Misumi　鹿屋店</td>\n",
       "      <td>鹿屋市寿7-12-1</td>\n",
       "      <td>Misumi</td>\n",
       "      <td>Misumi</td>\n",
       "      <td>2021-06-23 00:00:00</td>\n",
       "      <td>2022-02-24 00:00:00</td>\n",
       "      <td>1774</td>\n",
       "      <td>NaN</td>\n",
       "    </tr>\n",
       "    <tr>\n",
       "      <th>12664</th>\n",
       "      <td>九州</td>\n",
       "      <td>福岡市</td>\n",
       "      <td>（仮称）福岡市青果市場跡地活用事業</td>\n",
       "      <td>福岡市博多区那珂六丁目351番地１外</td>\n",
       "      <td>博多那珂６開発特定目的会社</td>\n",
       "      <td>未定</td>\n",
       "      <td>2021-05-14 00:00:00</td>\n",
       "      <td>2022-04-01 00:00:00</td>\n",
       "      <td>46380</td>\n",
       "      <td>NaN</td>\n",
       "    </tr>\n",
       "    <tr>\n",
       "      <th>12665</th>\n",
       "      <td>九州</td>\n",
       "      <td>熊本市</td>\n",
       "      <td>ロッキー水前寺店</td>\n",
       "      <td>熊本市中央区水前寺2丁目4-15</td>\n",
       "      <td>ロッキー</td>\n",
       "      <td>ロッキー</td>\n",
       "      <td>2021-05-06 00:00:00</td>\n",
       "      <td>2022-01-04 00:00:00</td>\n",
       "      <td>1670</td>\n",
       "      <td>NaN</td>\n",
       "    </tr>\n",
       "    <tr>\n",
       "      <th>12666</th>\n",
       "      <td>沖縄</td>\n",
       "      <td>沖縄県</td>\n",
       "      <td>バースデイ・シャンブル八重山ファッションモール店</td>\n",
       "      <td>石垣市字大浜南大浜４２８番５ほか</td>\n",
       "      <td>株式会社しまむら</td>\n",
       "      <td>株式会社しまむら</td>\n",
       "      <td>2021-04-06 00:00:00</td>\n",
       "      <td>2021-12-05 00:00:00</td>\n",
       "      <td>1798</td>\n",
       "      <td>NaN</td>\n",
       "    </tr>\n",
       "  </tbody>\n",
       "</table>\n",
       "<p>12667 rows × 10 columns</p>\n",
       "</div>"
      ],
      "text/plain": [
       "        局名  都道府県                    大規模小売店舗名                     所在地  \\\n",
       "0      北海道   北海道               木野タウン　ケーズデンキ棟       音更町木野大通東11丁目1-1ほか   \n",
       "1      北海道   北海道  旭川豊岡タウンプラザ　GU棟　SHOE・PLAZA棟        旭川市豊岡4条4丁目1-13ほか   \n",
       "2      北海道   北海道          リラィアブルブックス　運動公園通り店  釧路町桂木3丁目7番1、７番2、8番　ほか　   \n",
       "3      北海道   北海道                コープさっぽろ　とくら店          函館市戸倉町224番－４ほか   \n",
       "4      北海道   北海道             ツルハドラッグ旭川永山３条西店          旭川市永山３条８丁目76番１   \n",
       "...    ...   ...                         ...                     ...   \n",
       "12662   九州  鹿児島県        （仮称）ドラッグコスモス鹿屋運動公園前店           鹿屋市西原２丁目104番１   \n",
       "12663   九州  鹿児島県            Books　Misumi　鹿屋店              鹿屋市寿7-12-1   \n",
       "12664   九州   福岡市           （仮称）福岡市青果市場跡地活用事業      福岡市博多区那珂六丁目351番地１外   \n",
       "12665   九州   熊本市                    ロッキー水前寺店        熊本市中央区水前寺2丁目4-15   \n",
       "12666   沖縄   沖縄県    バースデイ・シャンブル八重山ファッションモール店        石垣市字大浜南大浜４２８番５ほか   \n",
       "\n",
       "               建物設置者名     小売業者名                  届出日                開店予定日  \\\n",
       "0              デンコードー    デンコードー  2019-04-16 00:00:00  2019-12-17 00:00:00   \n",
       "1      セントラルリーシングシステム      ジーユー  2019-09-04 00:00:00  2020-05-05 00:00:00   \n",
       "2              リラィアブル    リラィアブル  2019-09-26 00:00:00  2020-05-27 00:00:00   \n",
       "3             コープさっぽろ   コープさっぽろ  2019-10-08 00:00:00  2020-06-09 00:00:00   \n",
       "4              北海道リース       ツルハ  2019-10-23 00:00:00  2020-06-24 00:00:00   \n",
       "...               ...       ...                  ...                  ...   \n",
       "12662          コスモス薬品    コスモス薬品  2021-06-04 00:00:00  2022-02-05 00:00:00   \n",
       "12663          Misumi    Misumi  2021-06-23 00:00:00  2022-02-24 00:00:00   \n",
       "12664   博多那珂６開発特定目的会社        未定  2021-05-14 00:00:00  2022-04-01 00:00:00   \n",
       "12665            ロッキー      ロッキー  2021-05-06 00:00:00  2022-01-04 00:00:00   \n",
       "12666        株式会社しまむら  株式会社しまむら  2021-04-06 00:00:00  2021-12-05 00:00:00   \n",
       "\n",
       "        店舗面積  取下げ  \n",
       "0       3134  NaN  \n",
       "1       1454  NaN  \n",
       "2       1379  NaN  \n",
       "3       1447  NaN  \n",
       "4       1527  NaN  \n",
       "...      ...  ...  \n",
       "12662   1472  NaN  \n",
       "12663   1774  NaN  \n",
       "12664  46380  NaN  \n",
       "12665   1670  NaN  \n",
       "12666   1798  NaN  \n",
       "\n",
       "[12667 rows x 10 columns]"
      ]
     },
     "execution_count": 5,
     "metadata": {
      "tags": []
     },
     "output_type": "execute_result"
    }
   ],
   "source": [
    "dir='drive/MyDrive/data/'\n",
    "input_file_name = dir + 'total.xlsx'\n",
    "df = pd.read_excel(input_file_name, sheet_name=0)\n",
    "df # 12667 rows × 10 columns"
   ]
  },
  {
   "cell_type": "code",
   "execution_count": null,
   "metadata": {
    "colab": {
     "base_uri": "https://localhost:8080/"
    },
    "id": "enXYWBK1cJTH",
    "outputId": "5af4bdf4-48cd-4c9c-86c4-1f4658c71d7e"
   },
   "outputs": [
    {
     "name": "stdout",
     "output_type": "stream",
     "text": [
      "(12667, 10)\n",
      "---------\n",
      "<class 'pandas.core.frame.DataFrame'>\n",
      "RangeIndex: 12667 entries, 0 to 12666\n",
      "Data columns (total 10 columns):\n",
      " #   Column    Non-Null Count  Dtype \n",
      "---  ------    --------------  ----- \n",
      " 0   局名        12666 non-null  object\n",
      " 1   都道府県      12666 non-null  object\n",
      " 2   大規模小売店舗名  12667 non-null  object\n",
      " 3   所在地       12665 non-null  object\n",
      " 4   建物設置者名    12667 non-null  object\n",
      " 5   小売業者名     12598 non-null  object\n",
      " 6   届出日       12666 non-null  object\n",
      " 7   開店予定日     12664 non-null  object\n",
      " 8   店舗面積      12666 non-null  object\n",
      " 9   取下げ       275 non-null    object\n",
      "dtypes: object(10)\n",
      "memory usage: 989.7+ KB\n",
      "None\n"
     ]
    }
   ],
   "source": [
    "# 大まかにデータフレームの属性を掴む\n",
    "\n",
    "print(df.shape)\n",
    "print('---------')\n",
    "print(df.info())"
   ]
  },
  {
   "cell_type": "markdown",
   "metadata": {
    "id": "UYQlKoMdgcwq"
   },
   "source": [
    "## 異常値・欠損値の処理"
   ]
  },
  {
   "cell_type": "code",
   "execution_count": null,
   "metadata": {
    "colab": {
     "base_uri": "https://localhost:8080/",
     "height": 606
    },
    "id": "whHL6RqEUf3Z",
    "outputId": "ef33ef54-b8ca-44ee-8577-94ab03c014e1"
   },
   "outputs": [
    {
     "data": {
      "text/html": [
       "<div>\n",
       "<style scoped>\n",
       "    .dataframe tbody tr th:only-of-type {\n",
       "        vertical-align: middle;\n",
       "    }\n",
       "\n",
       "    .dataframe tbody tr th {\n",
       "        vertical-align: top;\n",
       "    }\n",
       "\n",
       "    .dataframe thead th {\n",
       "        text-align: right;\n",
       "    }\n",
       "</style>\n",
       "<table border=\"1\" class=\"dataframe\">\n",
       "  <thead>\n",
       "    <tr style=\"text-align: right;\">\n",
       "      <th></th>\n",
       "      <th>局名</th>\n",
       "      <th>都道府県</th>\n",
       "      <th>大規模小売店舗名</th>\n",
       "      <th>所在地</th>\n",
       "      <th>建物設置者名</th>\n",
       "      <th>小売業者名</th>\n",
       "      <th>届出日</th>\n",
       "      <th>開店予定日</th>\n",
       "      <th>店舗面積</th>\n",
       "      <th>取下げ</th>\n",
       "    </tr>\n",
       "  </thead>\n",
       "  <tbody>\n",
       "    <tr>\n",
       "      <th>0</th>\n",
       "      <td>北海道</td>\n",
       "      <td>北海道</td>\n",
       "      <td>木野タウン　ケーズデンキ棟</td>\n",
       "      <td>音更町木野大通東11丁目1-1ほか</td>\n",
       "      <td>デンコードー</td>\n",
       "      <td>デンコードー</td>\n",
       "      <td>2019-04-16 00:00:00</td>\n",
       "      <td>2019-12-17 00:00:00</td>\n",
       "      <td>3134</td>\n",
       "      <td>NaN</td>\n",
       "    </tr>\n",
       "    <tr>\n",
       "      <th>1</th>\n",
       "      <td>北海道</td>\n",
       "      <td>北海道</td>\n",
       "      <td>旭川豊岡タウンプラザ　GU棟　SHOE・PLAZA棟</td>\n",
       "      <td>旭川市豊岡4条4丁目1-13ほか</td>\n",
       "      <td>セントラルリーシングシステム</td>\n",
       "      <td>ジーユー</td>\n",
       "      <td>2019-09-04 00:00:00</td>\n",
       "      <td>2020-05-05 00:00:00</td>\n",
       "      <td>1454</td>\n",
       "      <td>NaN</td>\n",
       "    </tr>\n",
       "    <tr>\n",
       "      <th>2</th>\n",
       "      <td>北海道</td>\n",
       "      <td>北海道</td>\n",
       "      <td>リラィアブルブックス　運動公園通り店</td>\n",
       "      <td>釧路町桂木3丁目7番1、７番2、8番　ほか</td>\n",
       "      <td>リラィアブル</td>\n",
       "      <td>リラィアブル</td>\n",
       "      <td>2019-09-26 00:00:00</td>\n",
       "      <td>2020-05-27 00:00:00</td>\n",
       "      <td>1379</td>\n",
       "      <td>NaN</td>\n",
       "    </tr>\n",
       "    <tr>\n",
       "      <th>3</th>\n",
       "      <td>北海道</td>\n",
       "      <td>北海道</td>\n",
       "      <td>コープさっぽろ　とくら店</td>\n",
       "      <td>函館市戸倉町224番－４ほか</td>\n",
       "      <td>コープさっぽろ</td>\n",
       "      <td>コープさっぽろ</td>\n",
       "      <td>2019-10-08 00:00:00</td>\n",
       "      <td>2020-06-09 00:00:00</td>\n",
       "      <td>1447</td>\n",
       "      <td>NaN</td>\n",
       "    </tr>\n",
       "    <tr>\n",
       "      <th>4</th>\n",
       "      <td>北海道</td>\n",
       "      <td>北海道</td>\n",
       "      <td>ツルハドラッグ旭川永山３条西店</td>\n",
       "      <td>旭川市永山３条８丁目76番１</td>\n",
       "      <td>北海道リース</td>\n",
       "      <td>ツルハ</td>\n",
       "      <td>2019-10-23 00:00:00</td>\n",
       "      <td>2020-06-24 00:00:00</td>\n",
       "      <td>1527</td>\n",
       "      <td>NaN</td>\n",
       "    </tr>\n",
       "    <tr>\n",
       "      <th>...</th>\n",
       "      <td>...</td>\n",
       "      <td>...</td>\n",
       "      <td>...</td>\n",
       "      <td>...</td>\n",
       "      <td>...</td>\n",
       "      <td>...</td>\n",
       "      <td>...</td>\n",
       "      <td>...</td>\n",
       "      <td>...</td>\n",
       "      <td>...</td>\n",
       "    </tr>\n",
       "    <tr>\n",
       "      <th>12662</th>\n",
       "      <td>九州</td>\n",
       "      <td>鹿児島県</td>\n",
       "      <td>（仮称）ドラッグコスモス鹿屋運動公園前店</td>\n",
       "      <td>鹿屋市西原２丁目104番１</td>\n",
       "      <td>コスモス薬品</td>\n",
       "      <td>コスモス薬品</td>\n",
       "      <td>2021-06-04 00:00:00</td>\n",
       "      <td>2022-02-05 00:00:00</td>\n",
       "      <td>1472</td>\n",
       "      <td>NaN</td>\n",
       "    </tr>\n",
       "    <tr>\n",
       "      <th>12663</th>\n",
       "      <td>九州</td>\n",
       "      <td>鹿児島県</td>\n",
       "      <td>Books　Misumi　鹿屋店</td>\n",
       "      <td>鹿屋市寿7-12-1</td>\n",
       "      <td>Misumi</td>\n",
       "      <td>Misumi</td>\n",
       "      <td>2021-06-23 00:00:00</td>\n",
       "      <td>2022-02-24 00:00:00</td>\n",
       "      <td>1774</td>\n",
       "      <td>NaN</td>\n",
       "    </tr>\n",
       "    <tr>\n",
       "      <th>12664</th>\n",
       "      <td>九州</td>\n",
       "      <td>福岡市</td>\n",
       "      <td>（仮称）福岡市青果市場跡地活用事業</td>\n",
       "      <td>福岡市博多区那珂六丁目351番地１外</td>\n",
       "      <td>博多那珂６開発特定目的会社</td>\n",
       "      <td>未定</td>\n",
       "      <td>2021-05-14 00:00:00</td>\n",
       "      <td>2022-04-01 00:00:00</td>\n",
       "      <td>46380</td>\n",
       "      <td>NaN</td>\n",
       "    </tr>\n",
       "    <tr>\n",
       "      <th>12665</th>\n",
       "      <td>九州</td>\n",
       "      <td>熊本市</td>\n",
       "      <td>ロッキー水前寺店</td>\n",
       "      <td>熊本市中央区水前寺2丁目4-15</td>\n",
       "      <td>ロッキー</td>\n",
       "      <td>ロッキー</td>\n",
       "      <td>2021-05-06 00:00:00</td>\n",
       "      <td>2022-01-04 00:00:00</td>\n",
       "      <td>1670</td>\n",
       "      <td>NaN</td>\n",
       "    </tr>\n",
       "    <tr>\n",
       "      <th>12666</th>\n",
       "      <td>沖縄</td>\n",
       "      <td>沖縄県</td>\n",
       "      <td>バースデイ・シャンブル八重山ファッションモール店</td>\n",
       "      <td>石垣市字大浜南大浜４２８番５ほか</td>\n",
       "      <td>株式会社しまむら</td>\n",
       "      <td>株式会社しまむら</td>\n",
       "      <td>2021-04-06 00:00:00</td>\n",
       "      <td>2021-12-05 00:00:00</td>\n",
       "      <td>1798</td>\n",
       "      <td>NaN</td>\n",
       "    </tr>\n",
       "  </tbody>\n",
       "</table>\n",
       "<p>12392 rows × 10 columns</p>\n",
       "</div>"
      ],
      "text/plain": [
       "        局名  都道府県                    大規模小売店舗名                     所在地  \\\n",
       "0      北海道   北海道               木野タウン　ケーズデンキ棟       音更町木野大通東11丁目1-1ほか   \n",
       "1      北海道   北海道  旭川豊岡タウンプラザ　GU棟　SHOE・PLAZA棟        旭川市豊岡4条4丁目1-13ほか   \n",
       "2      北海道   北海道          リラィアブルブックス　運動公園通り店  釧路町桂木3丁目7番1、７番2、8番　ほか　   \n",
       "3      北海道   北海道                コープさっぽろ　とくら店          函館市戸倉町224番－４ほか   \n",
       "4      北海道   北海道             ツルハドラッグ旭川永山３条西店          旭川市永山３条８丁目76番１   \n",
       "...    ...   ...                         ...                     ...   \n",
       "12662   九州  鹿児島県        （仮称）ドラッグコスモス鹿屋運動公園前店           鹿屋市西原２丁目104番１   \n",
       "12663   九州  鹿児島県            Books　Misumi　鹿屋店              鹿屋市寿7-12-1   \n",
       "12664   九州   福岡市           （仮称）福岡市青果市場跡地活用事業      福岡市博多区那珂六丁目351番地１外   \n",
       "12665   九州   熊本市                    ロッキー水前寺店        熊本市中央区水前寺2丁目4-15   \n",
       "12666   沖縄   沖縄県    バースデイ・シャンブル八重山ファッションモール店        石垣市字大浜南大浜４２８番５ほか   \n",
       "\n",
       "               建物設置者名     小売業者名                  届出日                開店予定日  \\\n",
       "0              デンコードー    デンコードー  2019-04-16 00:00:00  2019-12-17 00:00:00   \n",
       "1      セントラルリーシングシステム      ジーユー  2019-09-04 00:00:00  2020-05-05 00:00:00   \n",
       "2              リラィアブル    リラィアブル  2019-09-26 00:00:00  2020-05-27 00:00:00   \n",
       "3             コープさっぽろ   コープさっぽろ  2019-10-08 00:00:00  2020-06-09 00:00:00   \n",
       "4              北海道リース       ツルハ  2019-10-23 00:00:00  2020-06-24 00:00:00   \n",
       "...               ...       ...                  ...                  ...   \n",
       "12662          コスモス薬品    コスモス薬品  2021-06-04 00:00:00  2022-02-05 00:00:00   \n",
       "12663          Misumi    Misumi  2021-06-23 00:00:00  2022-02-24 00:00:00   \n",
       "12664   博多那珂６開発特定目的会社        未定  2021-05-14 00:00:00  2022-04-01 00:00:00   \n",
       "12665            ロッキー      ロッキー  2021-05-06 00:00:00  2022-01-04 00:00:00   \n",
       "12666        株式会社しまむら  株式会社しまむら  2021-04-06 00:00:00  2021-12-05 00:00:00   \n",
       "\n",
       "        店舗面積  取下げ  \n",
       "0       3134  NaN  \n",
       "1       1454  NaN  \n",
       "2       1379  NaN  \n",
       "3       1447  NaN  \n",
       "4       1527  NaN  \n",
       "...      ...  ...  \n",
       "12662   1472  NaN  \n",
       "12663   1774  NaN  \n",
       "12664  46380  NaN  \n",
       "12665   1670  NaN  \n",
       "12666   1798  NaN  \n",
       "\n",
       "[12392 rows x 10 columns]"
      ]
     },
     "execution_count": 7,
     "metadata": {
      "tags": []
     },
     "output_type": "execute_result"
    }
   ],
   "source": [
    "# 「取下げ」列で欠損値でない行のインデックスを抽出\n",
    "drop_lst = df[df['取下げ'].notna()].index\n",
    "# 取下げられた届出のインデックスなので、その行は分析に不要（異常値）のため、削除する\n",
    "df.drop(index=drop_lst, inplace=True) \n",
    "\n",
    "df # 12392 rows × 10 columns"
   ]
  },
  {
   "cell_type": "code",
   "execution_count": null,
   "metadata": {
    "colab": {
     "base_uri": "https://localhost:8080/",
     "height": 606
    },
    "id": "4c56zq2gUi8u",
    "outputId": "53fa64c0-c766-4e90-c158-1884b99aea2e"
   },
   "outputs": [
    {
     "data": {
      "text/html": [
       "<div>\n",
       "<style scoped>\n",
       "    .dataframe tbody tr th:only-of-type {\n",
       "        vertical-align: middle;\n",
       "    }\n",
       "\n",
       "    .dataframe tbody tr th {\n",
       "        vertical-align: top;\n",
       "    }\n",
       "\n",
       "    .dataframe thead th {\n",
       "        text-align: right;\n",
       "    }\n",
       "</style>\n",
       "<table border=\"1\" class=\"dataframe\">\n",
       "  <thead>\n",
       "    <tr style=\"text-align: right;\">\n",
       "      <th></th>\n",
       "      <th>局名</th>\n",
       "      <th>都道府県</th>\n",
       "      <th>大規模小売店舗名</th>\n",
       "      <th>所在地</th>\n",
       "      <th>建物設置者名</th>\n",
       "      <th>小売業者名</th>\n",
       "      <th>届出日</th>\n",
       "      <th>開店予定日</th>\n",
       "      <th>店舗面積</th>\n",
       "    </tr>\n",
       "  </thead>\n",
       "  <tbody>\n",
       "    <tr>\n",
       "      <th>0</th>\n",
       "      <td>北海道</td>\n",
       "      <td>北海道</td>\n",
       "      <td>木野タウン　ケーズデンキ棟</td>\n",
       "      <td>音更町木野大通東11丁目1-1ほか</td>\n",
       "      <td>デンコードー</td>\n",
       "      <td>デンコードー</td>\n",
       "      <td>2019-04-16 00:00:00</td>\n",
       "      <td>2019-12-17 00:00:00</td>\n",
       "      <td>3134</td>\n",
       "    </tr>\n",
       "    <tr>\n",
       "      <th>1</th>\n",
       "      <td>北海道</td>\n",
       "      <td>北海道</td>\n",
       "      <td>旭川豊岡タウンプラザ　GU棟　SHOE・PLAZA棟</td>\n",
       "      <td>旭川市豊岡4条4丁目1-13ほか</td>\n",
       "      <td>セントラルリーシングシステム</td>\n",
       "      <td>ジーユー</td>\n",
       "      <td>2019-09-04 00:00:00</td>\n",
       "      <td>2020-05-05 00:00:00</td>\n",
       "      <td>1454</td>\n",
       "    </tr>\n",
       "    <tr>\n",
       "      <th>2</th>\n",
       "      <td>北海道</td>\n",
       "      <td>北海道</td>\n",
       "      <td>リラィアブルブックス　運動公園通り店</td>\n",
       "      <td>釧路町桂木3丁目7番1、７番2、8番　ほか</td>\n",
       "      <td>リラィアブル</td>\n",
       "      <td>リラィアブル</td>\n",
       "      <td>2019-09-26 00:00:00</td>\n",
       "      <td>2020-05-27 00:00:00</td>\n",
       "      <td>1379</td>\n",
       "    </tr>\n",
       "    <tr>\n",
       "      <th>3</th>\n",
       "      <td>北海道</td>\n",
       "      <td>北海道</td>\n",
       "      <td>コープさっぽろ　とくら店</td>\n",
       "      <td>函館市戸倉町224番－４ほか</td>\n",
       "      <td>コープさっぽろ</td>\n",
       "      <td>コープさっぽろ</td>\n",
       "      <td>2019-10-08 00:00:00</td>\n",
       "      <td>2020-06-09 00:00:00</td>\n",
       "      <td>1447</td>\n",
       "    </tr>\n",
       "    <tr>\n",
       "      <th>4</th>\n",
       "      <td>北海道</td>\n",
       "      <td>北海道</td>\n",
       "      <td>ツルハドラッグ旭川永山３条西店</td>\n",
       "      <td>旭川市永山３条８丁目76番１</td>\n",
       "      <td>北海道リース</td>\n",
       "      <td>ツルハ</td>\n",
       "      <td>2019-10-23 00:00:00</td>\n",
       "      <td>2020-06-24 00:00:00</td>\n",
       "      <td>1527</td>\n",
       "    </tr>\n",
       "    <tr>\n",
       "      <th>...</th>\n",
       "      <td>...</td>\n",
       "      <td>...</td>\n",
       "      <td>...</td>\n",
       "      <td>...</td>\n",
       "      <td>...</td>\n",
       "      <td>...</td>\n",
       "      <td>...</td>\n",
       "      <td>...</td>\n",
       "      <td>...</td>\n",
       "    </tr>\n",
       "    <tr>\n",
       "      <th>12662</th>\n",
       "      <td>九州</td>\n",
       "      <td>鹿児島県</td>\n",
       "      <td>（仮称）ドラッグコスモス鹿屋運動公園前店</td>\n",
       "      <td>鹿屋市西原２丁目104番１</td>\n",
       "      <td>コスモス薬品</td>\n",
       "      <td>コスモス薬品</td>\n",
       "      <td>2021-06-04 00:00:00</td>\n",
       "      <td>2022-02-05 00:00:00</td>\n",
       "      <td>1472</td>\n",
       "    </tr>\n",
       "    <tr>\n",
       "      <th>12663</th>\n",
       "      <td>九州</td>\n",
       "      <td>鹿児島県</td>\n",
       "      <td>Books　Misumi　鹿屋店</td>\n",
       "      <td>鹿屋市寿7-12-1</td>\n",
       "      <td>Misumi</td>\n",
       "      <td>Misumi</td>\n",
       "      <td>2021-06-23 00:00:00</td>\n",
       "      <td>2022-02-24 00:00:00</td>\n",
       "      <td>1774</td>\n",
       "    </tr>\n",
       "    <tr>\n",
       "      <th>12664</th>\n",
       "      <td>九州</td>\n",
       "      <td>福岡市</td>\n",
       "      <td>（仮称）福岡市青果市場跡地活用事業</td>\n",
       "      <td>福岡市博多区那珂六丁目351番地１外</td>\n",
       "      <td>博多那珂６開発特定目的会社</td>\n",
       "      <td>未定</td>\n",
       "      <td>2021-05-14 00:00:00</td>\n",
       "      <td>2022-04-01 00:00:00</td>\n",
       "      <td>46380</td>\n",
       "    </tr>\n",
       "    <tr>\n",
       "      <th>12665</th>\n",
       "      <td>九州</td>\n",
       "      <td>熊本市</td>\n",
       "      <td>ロッキー水前寺店</td>\n",
       "      <td>熊本市中央区水前寺2丁目4-15</td>\n",
       "      <td>ロッキー</td>\n",
       "      <td>ロッキー</td>\n",
       "      <td>2021-05-06 00:00:00</td>\n",
       "      <td>2022-01-04 00:00:00</td>\n",
       "      <td>1670</td>\n",
       "    </tr>\n",
       "    <tr>\n",
       "      <th>12666</th>\n",
       "      <td>沖縄</td>\n",
       "      <td>沖縄県</td>\n",
       "      <td>バースデイ・シャンブル八重山ファッションモール店</td>\n",
       "      <td>石垣市字大浜南大浜４２８番５ほか</td>\n",
       "      <td>株式会社しまむら</td>\n",
       "      <td>株式会社しまむら</td>\n",
       "      <td>2021-04-06 00:00:00</td>\n",
       "      <td>2021-12-05 00:00:00</td>\n",
       "      <td>1798</td>\n",
       "    </tr>\n",
       "  </tbody>\n",
       "</table>\n",
       "<p>12392 rows × 9 columns</p>\n",
       "</div>"
      ],
      "text/plain": [
       "        局名  都道府県                    大規模小売店舗名                     所在地  \\\n",
       "0      北海道   北海道               木野タウン　ケーズデンキ棟       音更町木野大通東11丁目1-1ほか   \n",
       "1      北海道   北海道  旭川豊岡タウンプラザ　GU棟　SHOE・PLAZA棟        旭川市豊岡4条4丁目1-13ほか   \n",
       "2      北海道   北海道          リラィアブルブックス　運動公園通り店  釧路町桂木3丁目7番1、７番2、8番　ほか　   \n",
       "3      北海道   北海道                コープさっぽろ　とくら店          函館市戸倉町224番－４ほか   \n",
       "4      北海道   北海道             ツルハドラッグ旭川永山３条西店          旭川市永山３条８丁目76番１   \n",
       "...    ...   ...                         ...                     ...   \n",
       "12662   九州  鹿児島県        （仮称）ドラッグコスモス鹿屋運動公園前店           鹿屋市西原２丁目104番１   \n",
       "12663   九州  鹿児島県            Books　Misumi　鹿屋店              鹿屋市寿7-12-1   \n",
       "12664   九州   福岡市           （仮称）福岡市青果市場跡地活用事業      福岡市博多区那珂六丁目351番地１外   \n",
       "12665   九州   熊本市                    ロッキー水前寺店        熊本市中央区水前寺2丁目4-15   \n",
       "12666   沖縄   沖縄県    バースデイ・シャンブル八重山ファッションモール店        石垣市字大浜南大浜４２８番５ほか   \n",
       "\n",
       "               建物設置者名     小売業者名                  届出日                開店予定日  \\\n",
       "0              デンコードー    デンコードー  2019-04-16 00:00:00  2019-12-17 00:00:00   \n",
       "1      セントラルリーシングシステム      ジーユー  2019-09-04 00:00:00  2020-05-05 00:00:00   \n",
       "2              リラィアブル    リラィアブル  2019-09-26 00:00:00  2020-05-27 00:00:00   \n",
       "3             コープさっぽろ   コープさっぽろ  2019-10-08 00:00:00  2020-06-09 00:00:00   \n",
       "4              北海道リース       ツルハ  2019-10-23 00:00:00  2020-06-24 00:00:00   \n",
       "...               ...       ...                  ...                  ...   \n",
       "12662          コスモス薬品    コスモス薬品  2021-06-04 00:00:00  2022-02-05 00:00:00   \n",
       "12663          Misumi    Misumi  2021-06-23 00:00:00  2022-02-24 00:00:00   \n",
       "12664   博多那珂６開発特定目的会社        未定  2021-05-14 00:00:00  2022-04-01 00:00:00   \n",
       "12665            ロッキー      ロッキー  2021-05-06 00:00:00  2022-01-04 00:00:00   \n",
       "12666        株式会社しまむら  株式会社しまむら  2021-04-06 00:00:00  2021-12-05 00:00:00   \n",
       "\n",
       "        店舗面積  \n",
       "0       3134  \n",
       "1       1454  \n",
       "2       1379  \n",
       "3       1447  \n",
       "4       1527  \n",
       "...      ...  \n",
       "12662   1472  \n",
       "12663   1774  \n",
       "12664  46380  \n",
       "12665   1670  \n",
       "12666   1798  \n",
       "\n",
       "[12392 rows x 9 columns]"
      ]
     },
     "execution_count": 8,
     "metadata": {
      "tags": []
     },
     "output_type": "execute_result"
    }
   ],
   "source": [
    "# これで「取下げ」列は欠損値のみ。不要になったので、この列を削除する\n",
    "df.drop(columns='取下げ', inplace=True)\n",
    "\n",
    "df # 12392 rows × 9 columns"
   ]
  },
  {
   "cell_type": "code",
   "execution_count": null,
   "metadata": {
    "colab": {
     "base_uri": "https://localhost:8080/",
     "height": 606
    },
    "id": "UTEfeqB4eZyq",
    "outputId": "f2fcdc3b-f3e7-4b8a-a57c-2c0ee17164b1"
   },
   "outputs": [
    {
     "data": {
      "text/html": [
       "<div>\n",
       "<style scoped>\n",
       "    .dataframe tbody tr th:only-of-type {\n",
       "        vertical-align: middle;\n",
       "    }\n",
       "\n",
       "    .dataframe tbody tr th {\n",
       "        vertical-align: top;\n",
       "    }\n",
       "\n",
       "    .dataframe thead th {\n",
       "        text-align: right;\n",
       "    }\n",
       "</style>\n",
       "<table border=\"1\" class=\"dataframe\">\n",
       "  <thead>\n",
       "    <tr style=\"text-align: right;\">\n",
       "      <th></th>\n",
       "      <th>局名</th>\n",
       "      <th>都道府県</th>\n",
       "      <th>大規模小売店舗名</th>\n",
       "      <th>所在地</th>\n",
       "      <th>建物設置者名</th>\n",
       "      <th>小売業者名</th>\n",
       "      <th>届出日</th>\n",
       "      <th>開店予定日</th>\n",
       "      <th>店舗面積</th>\n",
       "    </tr>\n",
       "  </thead>\n",
       "  <tbody>\n",
       "    <tr>\n",
       "      <th>236</th>\n",
       "      <td>中部</td>\n",
       "      <td>富山県</td>\n",
       "      <td>ドラッグコスモス新湊店</td>\n",
       "      <td>射水市善光寺19番14　ほか13筆</td>\n",
       "      <td>コスモス薬品</td>\n",
       "      <td>NaN</td>\n",
       "      <td>2019-07-19 00:00:00</td>\n",
       "      <td>2020-03-20 00:00:00</td>\n",
       "      <td>1536</td>\n",
       "    </tr>\n",
       "    <tr>\n",
       "      <th>468</th>\n",
       "      <td>東北</td>\n",
       "      <td>岩手県</td>\n",
       "      <td>花巻桜木町複合商業施設</td>\n",
       "      <td>花巻市桜木町二丁目208番地２外</td>\n",
       "      <td>ユニバース</td>\n",
       "      <td>ユニバース</td>\n",
       "      <td>2019-03-08 00:00:00</td>\n",
       "      <td>NaN</td>\n",
       "      <td>3228</td>\n",
       "    </tr>\n",
       "    <tr>\n",
       "      <th>692</th>\n",
       "      <td>近畿</td>\n",
       "      <td>滋賀県</td>\n",
       "      <td>ドラッグコスモス大萱店</td>\n",
       "      <td>大津市大萱七丁目字井関3111番ほか</td>\n",
       "      <td>コスモス薬品</td>\n",
       "      <td>NaN</td>\n",
       "      <td>43462</td>\n",
       "      <td>43706</td>\n",
       "      <td>1188</td>\n",
       "    </tr>\n",
       "    <tr>\n",
       "      <th>945</th>\n",
       "      <td>北海道</td>\n",
       "      <td>北海道</td>\n",
       "      <td>（仮称）ツルハドラッグ足寄店</td>\n",
       "      <td>足寄郡足寄町南７条１丁目１４，１５</td>\n",
       "      <td>ツルハ</td>\n",
       "      <td>NaN</td>\n",
       "      <td>2021-02-04 00:00:00</td>\n",
       "      <td>2021-02-18 00:00:00</td>\n",
       "      <td>1237</td>\n",
       "    </tr>\n",
       "    <tr>\n",
       "      <th>946</th>\n",
       "      <td>北海道</td>\n",
       "      <td>北海道</td>\n",
       "      <td>プロショップホダカ旭川永山店</td>\n",
       "      <td>旭川市永山３条９丁目８１，８２</td>\n",
       "      <td>DCMホーマック</td>\n",
       "      <td>NaN</td>\n",
       "      <td>2021-02-22 00:00:00</td>\n",
       "      <td>2021-10-23 00:00:00</td>\n",
       "      <td>1570</td>\n",
       "    </tr>\n",
       "    <tr>\n",
       "      <th>...</th>\n",
       "      <td>...</td>\n",
       "      <td>...</td>\n",
       "      <td>...</td>\n",
       "      <td>...</td>\n",
       "      <td>...</td>\n",
       "      <td>...</td>\n",
       "      <td>...</td>\n",
       "      <td>...</td>\n",
       "      <td>...</td>\n",
       "    </tr>\n",
       "    <tr>\n",
       "      <th>12353</th>\n",
       "      <td>関東</td>\n",
       "      <td>茨城県</td>\n",
       "      <td>エスコート赤塚</td>\n",
       "      <td>水戸市赤塚１－３５７－５　外１７筆</td>\n",
       "      <td>赤塚企画</td>\n",
       "      <td>NaN</td>\n",
       "      <td>2000-10-20 00:00:00</td>\n",
       "      <td>2002-05-18 00:00:00</td>\n",
       "      <td>3641</td>\n",
       "    </tr>\n",
       "    <tr>\n",
       "      <th>12392</th>\n",
       "      <td>関東</td>\n",
       "      <td>東京都</td>\n",
       "      <td>ヴェロックス２８</td>\n",
       "      <td>渋谷区神宮前六丁目３１番１７号</td>\n",
       "      <td>ヴェロックス・シティ・インベストメント・リミテッド</td>\n",
       "      <td>NaN</td>\n",
       "      <td>2000-12-05 00:00:00</td>\n",
       "      <td>2001-12-01 00:00:00</td>\n",
       "      <td>2254</td>\n",
       "    </tr>\n",
       "    <tr>\n",
       "      <th>12464</th>\n",
       "      <td>近畿</td>\n",
       "      <td>兵庫県</td>\n",
       "      <td>ＡＭＡＧＯＴＴＡ</td>\n",
       "      <td>尼崎市西大物町12番41号</td>\n",
       "      <td>森木材工業</td>\n",
       "      <td>NaN</td>\n",
       "      <td>2000-06-08 00:00:00</td>\n",
       "      <td>2002-10-01 00:00:00</td>\n",
       "      <td>6382</td>\n",
       "    </tr>\n",
       "    <tr>\n",
       "      <th>12521</th>\n",
       "      <td>北海道</td>\n",
       "      <td>北海道</td>\n",
       "      <td>ペットワールドPROX音更店</td>\n",
       "      <td>河東郡音更町木野大通東１０丁目１－４　ほか</td>\n",
       "      <td>ルーキーファーム</td>\n",
       "      <td>ジョイフルエーケー</td>\n",
       "      <td>2021-05-19 00:00:00</td>\n",
       "      <td>NaN</td>\n",
       "      <td>1396</td>\n",
       "    </tr>\n",
       "    <tr>\n",
       "      <th>12617</th>\n",
       "      <td>近畿</td>\n",
       "      <td>兵庫県</td>\n",
       "      <td>ハローズ西脇店　北敷地</td>\n",
       "      <td>西脇市下戸田字時ノ堂下65番２　ほか</td>\n",
       "      <td>ハローズ</td>\n",
       "      <td>NaN</td>\n",
       "      <td>2021-06-07 00:00:00</td>\n",
       "      <td>2022-02-08 00:00:00</td>\n",
       "      <td>1326</td>\n",
       "    </tr>\n",
       "  </tbody>\n",
       "</table>\n",
       "<p>70 rows × 9 columns</p>\n",
       "</div>"
      ],
      "text/plain": [
       "        局名 都道府県        大規模小売店舗名                    所在地  \\\n",
       "236     中部  富山県     ドラッグコスモス新湊店      射水市善光寺19番14　ほか13筆   \n",
       "468     東北  岩手県     花巻桜木町複合商業施設       花巻市桜木町二丁目208番地２外   \n",
       "692     近畿  滋賀県     ドラッグコスモス大萱店     大津市大萱七丁目字井関3111番ほか   \n",
       "945    北海道  北海道  （仮称）ツルハドラッグ足寄店      足寄郡足寄町南７条１丁目１４，１５   \n",
       "946    北海道  北海道  プロショップホダカ旭川永山店        旭川市永山３条９丁目８１，８２   \n",
       "...    ...  ...             ...                    ...   \n",
       "12353   関東  茨城県         エスコート赤塚      水戸市赤塚１－３５７－５　外１７筆   \n",
       "12392   関東  東京都        ヴェロックス２８        渋谷区神宮前六丁目３１番１７号   \n",
       "12464   近畿  兵庫県        ＡＭＡＧＯＴＴＡ          尼崎市西大物町12番41号   \n",
       "12521  北海道  北海道  ペットワールドPROX音更店  河東郡音更町木野大通東１０丁目１－４　ほか   \n",
       "12617   近畿  兵庫県     ハローズ西脇店　北敷地     西脇市下戸田字時ノ堂下65番２　ほか   \n",
       "\n",
       "                          建物設置者名      小売業者名                  届出日  \\\n",
       "236                       コスモス薬品        NaN  2019-07-19 00:00:00   \n",
       "468                        ユニバース      ユニバース  2019-03-08 00:00:00   \n",
       "692                       コスモス薬品        NaN                43462   \n",
       "945                          ツルハ        NaN  2021-02-04 00:00:00   \n",
       "946                     DCMホーマック        NaN  2021-02-22 00:00:00   \n",
       "...                          ...        ...                  ...   \n",
       "12353                       赤塚企画        NaN  2000-10-20 00:00:00   \n",
       "12392  ヴェロックス・シティ・インベストメント・リミテッド        NaN  2000-12-05 00:00:00   \n",
       "12464                      森木材工業        NaN  2000-06-08 00:00:00   \n",
       "12521                   ルーキーファーム  ジョイフルエーケー  2021-05-19 00:00:00   \n",
       "12617                       ハローズ        NaN  2021-06-07 00:00:00   \n",
       "\n",
       "                     開店予定日  店舗面積  \n",
       "236    2020-03-20 00:00:00  1536  \n",
       "468                    NaN  3228  \n",
       "692                  43706  1188  \n",
       "945    2021-02-18 00:00:00  1237  \n",
       "946    2021-10-23 00:00:00  1570  \n",
       "...                    ...   ...  \n",
       "12353  2002-05-18 00:00:00  3641  \n",
       "12392  2001-12-01 00:00:00  2254  \n",
       "12464  2002-10-01 00:00:00  6382  \n",
       "12521                  NaN  1396  \n",
       "12617  2022-02-08 00:00:00  1326  \n",
       "\n",
       "[70 rows x 9 columns]"
      ]
     },
     "execution_count": 9,
     "metadata": {
      "tags": []
     },
     "output_type": "execute_result"
    }
   ],
   "source": [
    "# それ以外の列で欠損値を含む行を確認する\n",
    "\n",
    "df[df.isnull().any(axis=1)] # 70 rows × 9 columns"
   ]
  },
  {
   "cell_type": "code",
   "execution_count": null,
   "metadata": {
    "colab": {
     "base_uri": "https://localhost:8080/",
     "height": 606
    },
    "id": "_e6vnv4xZO0Y",
    "outputId": "451e8f8a-b23b-42e6-a3d3-380c44212a16"
   },
   "outputs": [
    {
     "data": {
      "text/html": [
       "<div>\n",
       "<style scoped>\n",
       "    .dataframe tbody tr th:only-of-type {\n",
       "        vertical-align: middle;\n",
       "    }\n",
       "\n",
       "    .dataframe tbody tr th {\n",
       "        vertical-align: top;\n",
       "    }\n",
       "\n",
       "    .dataframe thead th {\n",
       "        text-align: right;\n",
       "    }\n",
       "</style>\n",
       "<table border=\"1\" class=\"dataframe\">\n",
       "  <thead>\n",
       "    <tr style=\"text-align: right;\">\n",
       "      <th></th>\n",
       "      <th>局名</th>\n",
       "      <th>都道府県</th>\n",
       "      <th>大規模小売店舗名</th>\n",
       "      <th>所在地</th>\n",
       "      <th>建物設置者名</th>\n",
       "      <th>小売業者名</th>\n",
       "      <th>届出日</th>\n",
       "      <th>開店予定日</th>\n",
       "      <th>店舗面積</th>\n",
       "    </tr>\n",
       "  </thead>\n",
       "  <tbody>\n",
       "    <tr>\n",
       "      <th>0</th>\n",
       "      <td>北海道</td>\n",
       "      <td>北海道</td>\n",
       "      <td>木野タウン　ケーズデンキ棟</td>\n",
       "      <td>音更町木野大通東11丁目1-1ほか</td>\n",
       "      <td>デンコードー</td>\n",
       "      <td>デンコードー</td>\n",
       "      <td>2019-04-16 00:00:00</td>\n",
       "      <td>2019-12-17 00:00:00</td>\n",
       "      <td>3134</td>\n",
       "    </tr>\n",
       "    <tr>\n",
       "      <th>1</th>\n",
       "      <td>北海道</td>\n",
       "      <td>北海道</td>\n",
       "      <td>旭川豊岡タウンプラザ　GU棟　SHOE・PLAZA棟</td>\n",
       "      <td>旭川市豊岡4条4丁目1-13ほか</td>\n",
       "      <td>セントラルリーシングシステム</td>\n",
       "      <td>ジーユー</td>\n",
       "      <td>2019-09-04 00:00:00</td>\n",
       "      <td>2020-05-05 00:00:00</td>\n",
       "      <td>1454</td>\n",
       "    </tr>\n",
       "    <tr>\n",
       "      <th>2</th>\n",
       "      <td>北海道</td>\n",
       "      <td>北海道</td>\n",
       "      <td>リラィアブルブックス　運動公園通り店</td>\n",
       "      <td>釧路町桂木3丁目7番1、７番2、8番　ほか</td>\n",
       "      <td>リラィアブル</td>\n",
       "      <td>リラィアブル</td>\n",
       "      <td>2019-09-26 00:00:00</td>\n",
       "      <td>2020-05-27 00:00:00</td>\n",
       "      <td>1379</td>\n",
       "    </tr>\n",
       "    <tr>\n",
       "      <th>3</th>\n",
       "      <td>北海道</td>\n",
       "      <td>北海道</td>\n",
       "      <td>コープさっぽろ　とくら店</td>\n",
       "      <td>函館市戸倉町224番－４ほか</td>\n",
       "      <td>コープさっぽろ</td>\n",
       "      <td>コープさっぽろ</td>\n",
       "      <td>2019-10-08 00:00:00</td>\n",
       "      <td>2020-06-09 00:00:00</td>\n",
       "      <td>1447</td>\n",
       "    </tr>\n",
       "    <tr>\n",
       "      <th>4</th>\n",
       "      <td>北海道</td>\n",
       "      <td>北海道</td>\n",
       "      <td>ツルハドラッグ旭川永山３条西店</td>\n",
       "      <td>旭川市永山３条８丁目76番１</td>\n",
       "      <td>北海道リース</td>\n",
       "      <td>ツルハ</td>\n",
       "      <td>2019-10-23 00:00:00</td>\n",
       "      <td>2020-06-24 00:00:00</td>\n",
       "      <td>1527</td>\n",
       "    </tr>\n",
       "    <tr>\n",
       "      <th>...</th>\n",
       "      <td>...</td>\n",
       "      <td>...</td>\n",
       "      <td>...</td>\n",
       "      <td>...</td>\n",
       "      <td>...</td>\n",
       "      <td>...</td>\n",
       "      <td>...</td>\n",
       "      <td>...</td>\n",
       "      <td>...</td>\n",
       "    </tr>\n",
       "    <tr>\n",
       "      <th>12662</th>\n",
       "      <td>九州</td>\n",
       "      <td>鹿児島県</td>\n",
       "      <td>（仮称）ドラッグコスモス鹿屋運動公園前店</td>\n",
       "      <td>鹿屋市西原２丁目104番１</td>\n",
       "      <td>コスモス薬品</td>\n",
       "      <td>コスモス薬品</td>\n",
       "      <td>2021-06-04 00:00:00</td>\n",
       "      <td>2022-02-05 00:00:00</td>\n",
       "      <td>1472</td>\n",
       "    </tr>\n",
       "    <tr>\n",
       "      <th>12663</th>\n",
       "      <td>九州</td>\n",
       "      <td>鹿児島県</td>\n",
       "      <td>Books　Misumi　鹿屋店</td>\n",
       "      <td>鹿屋市寿7-12-1</td>\n",
       "      <td>Misumi</td>\n",
       "      <td>Misumi</td>\n",
       "      <td>2021-06-23 00:00:00</td>\n",
       "      <td>2022-02-24 00:00:00</td>\n",
       "      <td>1774</td>\n",
       "    </tr>\n",
       "    <tr>\n",
       "      <th>12664</th>\n",
       "      <td>九州</td>\n",
       "      <td>福岡市</td>\n",
       "      <td>（仮称）福岡市青果市場跡地活用事業</td>\n",
       "      <td>福岡市博多区那珂六丁目351番地１外</td>\n",
       "      <td>博多那珂６開発特定目的会社</td>\n",
       "      <td>未定</td>\n",
       "      <td>2021-05-14 00:00:00</td>\n",
       "      <td>2022-04-01 00:00:00</td>\n",
       "      <td>46380</td>\n",
       "    </tr>\n",
       "    <tr>\n",
       "      <th>12665</th>\n",
       "      <td>九州</td>\n",
       "      <td>熊本市</td>\n",
       "      <td>ロッキー水前寺店</td>\n",
       "      <td>熊本市中央区水前寺2丁目4-15</td>\n",
       "      <td>ロッキー</td>\n",
       "      <td>ロッキー</td>\n",
       "      <td>2021-05-06 00:00:00</td>\n",
       "      <td>2022-01-04 00:00:00</td>\n",
       "      <td>1670</td>\n",
       "    </tr>\n",
       "    <tr>\n",
       "      <th>12666</th>\n",
       "      <td>沖縄</td>\n",
       "      <td>沖縄県</td>\n",
       "      <td>バースデイ・シャンブル八重山ファッションモール店</td>\n",
       "      <td>石垣市字大浜南大浜４２８番５ほか</td>\n",
       "      <td>株式会社しまむら</td>\n",
       "      <td>株式会社しまむら</td>\n",
       "      <td>2021-04-06 00:00:00</td>\n",
       "      <td>2021-12-05 00:00:00</td>\n",
       "      <td>1798</td>\n",
       "    </tr>\n",
       "  </tbody>\n",
       "</table>\n",
       "<p>12322 rows × 9 columns</p>\n",
       "</div>"
      ],
      "text/plain": [
       "        局名  都道府県                    大規模小売店舗名                     所在地  \\\n",
       "0      北海道   北海道               木野タウン　ケーズデンキ棟       音更町木野大通東11丁目1-1ほか   \n",
       "1      北海道   北海道  旭川豊岡タウンプラザ　GU棟　SHOE・PLAZA棟        旭川市豊岡4条4丁目1-13ほか   \n",
       "2      北海道   北海道          リラィアブルブックス　運動公園通り店  釧路町桂木3丁目7番1、７番2、8番　ほか　   \n",
       "3      北海道   北海道                コープさっぽろ　とくら店          函館市戸倉町224番－４ほか   \n",
       "4      北海道   北海道             ツルハドラッグ旭川永山３条西店          旭川市永山３条８丁目76番１   \n",
       "...    ...   ...                         ...                     ...   \n",
       "12662   九州  鹿児島県        （仮称）ドラッグコスモス鹿屋運動公園前店           鹿屋市西原２丁目104番１   \n",
       "12663   九州  鹿児島県            Books　Misumi　鹿屋店              鹿屋市寿7-12-1   \n",
       "12664   九州   福岡市           （仮称）福岡市青果市場跡地活用事業      福岡市博多区那珂六丁目351番地１外   \n",
       "12665   九州   熊本市                    ロッキー水前寺店        熊本市中央区水前寺2丁目4-15   \n",
       "12666   沖縄   沖縄県    バースデイ・シャンブル八重山ファッションモール店        石垣市字大浜南大浜４２８番５ほか   \n",
       "\n",
       "               建物設置者名     小売業者名                  届出日                開店予定日  \\\n",
       "0              デンコードー    デンコードー  2019-04-16 00:00:00  2019-12-17 00:00:00   \n",
       "1      セントラルリーシングシステム      ジーユー  2019-09-04 00:00:00  2020-05-05 00:00:00   \n",
       "2              リラィアブル    リラィアブル  2019-09-26 00:00:00  2020-05-27 00:00:00   \n",
       "3             コープさっぽろ   コープさっぽろ  2019-10-08 00:00:00  2020-06-09 00:00:00   \n",
       "4              北海道リース       ツルハ  2019-10-23 00:00:00  2020-06-24 00:00:00   \n",
       "...               ...       ...                  ...                  ...   \n",
       "12662          コスモス薬品    コスモス薬品  2021-06-04 00:00:00  2022-02-05 00:00:00   \n",
       "12663          Misumi    Misumi  2021-06-23 00:00:00  2022-02-24 00:00:00   \n",
       "12664   博多那珂６開発特定目的会社        未定  2021-05-14 00:00:00  2022-04-01 00:00:00   \n",
       "12665            ロッキー      ロッキー  2021-05-06 00:00:00  2022-01-04 00:00:00   \n",
       "12666        株式会社しまむら  株式会社しまむら  2021-04-06 00:00:00  2021-12-05 00:00:00   \n",
       "\n",
       "        店舗面積  \n",
       "0       3134  \n",
       "1       1454  \n",
       "2       1379  \n",
       "3       1447  \n",
       "4       1527  \n",
       "...      ...  \n",
       "12662   1472  \n",
       "12663   1774  \n",
       "12664  46380  \n",
       "12665   1670  \n",
       "12666   1798  \n",
       "\n",
       "[12322 rows x 9 columns]"
      ]
     },
     "execution_count": 10,
     "metadata": {
      "tags": []
     },
     "output_type": "execute_result"
    }
   ],
   "source": [
    "# 推測して埋められる行もあるが、今回は欠損値を含む行は削除する\n",
    "df.dropna(how='any', inplace=True)\n",
    "\n",
    "df # 12322 rows × 9 columns"
   ]
  },
  {
   "cell_type": "code",
   "execution_count": null,
   "metadata": {
    "colab": {
     "base_uri": "https://localhost:8080/"
    },
    "id": "EFIEuTPvf-4O",
    "outputId": "5ee37f98-efc0-4f27-f161-1d8668f14226"
   },
   "outputs": [
    {
     "data": {
      "text/plain": [
       "局名          0\n",
       "都道府県        0\n",
       "大規模小売店舗名    0\n",
       "所在地         0\n",
       "建物設置者名      0\n",
       "小売業者名       0\n",
       "届出日         0\n",
       "開店予定日       0\n",
       "店舗面積        0\n",
       "dtype: int64"
      ]
     },
     "execution_count": 11,
     "metadata": {
      "tags": []
     },
     "output_type": "execute_result"
    }
   ],
   "source": [
    "# 欠損値が残っていないかチェックする\n",
    "df.isnull().sum()"
   ]
  },
  {
   "cell_type": "code",
   "execution_count": null,
   "metadata": {
    "id": "HEUUgFb4wMlh"
   },
   "outputs": [],
   "source": [
    "# インデックスが所々抜けているのでふり直す\n",
    "\n",
    "df = df.reset_index(drop=True)"
   ]
  },
  {
   "cell_type": "code",
   "execution_count": null,
   "metadata": {
    "colab": {
     "base_uri": "https://localhost:8080/",
     "height": 606
    },
    "id": "iTMsM00qy7sO",
    "outputId": "cfa3d4d7-2a98-4d61-9e2f-cc6b4c2b6314"
   },
   "outputs": [
    {
     "data": {
      "text/html": [
       "<div>\n",
       "<style scoped>\n",
       "    .dataframe tbody tr th:only-of-type {\n",
       "        vertical-align: middle;\n",
       "    }\n",
       "\n",
       "    .dataframe tbody tr th {\n",
       "        vertical-align: top;\n",
       "    }\n",
       "\n",
       "    .dataframe thead th {\n",
       "        text-align: right;\n",
       "    }\n",
       "</style>\n",
       "<table border=\"1\" class=\"dataframe\">\n",
       "  <thead>\n",
       "    <tr style=\"text-align: right;\">\n",
       "      <th></th>\n",
       "      <th>局名</th>\n",
       "      <th>都道府県</th>\n",
       "      <th>大規模小売店舗名</th>\n",
       "      <th>所在地</th>\n",
       "      <th>建物設置者名</th>\n",
       "      <th>小売業者名</th>\n",
       "      <th>届出日</th>\n",
       "      <th>開店予定日</th>\n",
       "      <th>店舗面積</th>\n",
       "    </tr>\n",
       "  </thead>\n",
       "  <tbody>\n",
       "    <tr>\n",
       "      <th>0</th>\n",
       "      <td>北海道</td>\n",
       "      <td>北海道</td>\n",
       "      <td>木野タウン　ケーズデンキ棟</td>\n",
       "      <td>音更町木野大通東11丁目1-1ほか</td>\n",
       "      <td>デンコードー</td>\n",
       "      <td>デンコードー</td>\n",
       "      <td>2019-04-16 00:00:00</td>\n",
       "      <td>2019-12-17 00:00:00</td>\n",
       "      <td>3134</td>\n",
       "    </tr>\n",
       "    <tr>\n",
       "      <th>1</th>\n",
       "      <td>北海道</td>\n",
       "      <td>北海道</td>\n",
       "      <td>旭川豊岡タウンプラザ　GU棟　SHOE・PLAZA棟</td>\n",
       "      <td>旭川市豊岡4条4丁目1-13ほか</td>\n",
       "      <td>セントラルリーシングシステム</td>\n",
       "      <td>ジーユー</td>\n",
       "      <td>2019-09-04 00:00:00</td>\n",
       "      <td>2020-05-05 00:00:00</td>\n",
       "      <td>1454</td>\n",
       "    </tr>\n",
       "    <tr>\n",
       "      <th>2</th>\n",
       "      <td>北海道</td>\n",
       "      <td>北海道</td>\n",
       "      <td>リラィアブルブックス　運動公園通り店</td>\n",
       "      <td>釧路町桂木3丁目7番1、７番2、8番　ほか</td>\n",
       "      <td>リラィアブル</td>\n",
       "      <td>リラィアブル</td>\n",
       "      <td>2019-09-26 00:00:00</td>\n",
       "      <td>2020-05-27 00:00:00</td>\n",
       "      <td>1379</td>\n",
       "    </tr>\n",
       "    <tr>\n",
       "      <th>3</th>\n",
       "      <td>北海道</td>\n",
       "      <td>北海道</td>\n",
       "      <td>コープさっぽろ　とくら店</td>\n",
       "      <td>函館市戸倉町224番－４ほか</td>\n",
       "      <td>コープさっぽろ</td>\n",
       "      <td>コープさっぽろ</td>\n",
       "      <td>2019-10-08 00:00:00</td>\n",
       "      <td>2020-06-09 00:00:00</td>\n",
       "      <td>1447</td>\n",
       "    </tr>\n",
       "    <tr>\n",
       "      <th>4</th>\n",
       "      <td>北海道</td>\n",
       "      <td>北海道</td>\n",
       "      <td>ツルハドラッグ旭川永山３条西店</td>\n",
       "      <td>旭川市永山３条８丁目76番１</td>\n",
       "      <td>北海道リース</td>\n",
       "      <td>ツルハ</td>\n",
       "      <td>2019-10-23 00:00:00</td>\n",
       "      <td>2020-06-24 00:00:00</td>\n",
       "      <td>1527</td>\n",
       "    </tr>\n",
       "    <tr>\n",
       "      <th>...</th>\n",
       "      <td>...</td>\n",
       "      <td>...</td>\n",
       "      <td>...</td>\n",
       "      <td>...</td>\n",
       "      <td>...</td>\n",
       "      <td>...</td>\n",
       "      <td>...</td>\n",
       "      <td>...</td>\n",
       "      <td>...</td>\n",
       "    </tr>\n",
       "    <tr>\n",
       "      <th>12317</th>\n",
       "      <td>九州</td>\n",
       "      <td>鹿児島県</td>\n",
       "      <td>（仮称）ドラッグコスモス鹿屋運動公園前店</td>\n",
       "      <td>鹿屋市西原２丁目104番１</td>\n",
       "      <td>コスモス薬品</td>\n",
       "      <td>コスモス薬品</td>\n",
       "      <td>2021-06-04 00:00:00</td>\n",
       "      <td>2022-02-05 00:00:00</td>\n",
       "      <td>1472</td>\n",
       "    </tr>\n",
       "    <tr>\n",
       "      <th>12318</th>\n",
       "      <td>九州</td>\n",
       "      <td>鹿児島県</td>\n",
       "      <td>Books　Misumi　鹿屋店</td>\n",
       "      <td>鹿屋市寿7-12-1</td>\n",
       "      <td>Misumi</td>\n",
       "      <td>Misumi</td>\n",
       "      <td>2021-06-23 00:00:00</td>\n",
       "      <td>2022-02-24 00:00:00</td>\n",
       "      <td>1774</td>\n",
       "    </tr>\n",
       "    <tr>\n",
       "      <th>12319</th>\n",
       "      <td>九州</td>\n",
       "      <td>福岡市</td>\n",
       "      <td>（仮称）福岡市青果市場跡地活用事業</td>\n",
       "      <td>福岡市博多区那珂六丁目351番地１外</td>\n",
       "      <td>博多那珂６開発特定目的会社</td>\n",
       "      <td>未定</td>\n",
       "      <td>2021-05-14 00:00:00</td>\n",
       "      <td>2022-04-01 00:00:00</td>\n",
       "      <td>46380</td>\n",
       "    </tr>\n",
       "    <tr>\n",
       "      <th>12320</th>\n",
       "      <td>九州</td>\n",
       "      <td>熊本市</td>\n",
       "      <td>ロッキー水前寺店</td>\n",
       "      <td>熊本市中央区水前寺2丁目4-15</td>\n",
       "      <td>ロッキー</td>\n",
       "      <td>ロッキー</td>\n",
       "      <td>2021-05-06 00:00:00</td>\n",
       "      <td>2022-01-04 00:00:00</td>\n",
       "      <td>1670</td>\n",
       "    </tr>\n",
       "    <tr>\n",
       "      <th>12321</th>\n",
       "      <td>沖縄</td>\n",
       "      <td>沖縄県</td>\n",
       "      <td>バースデイ・シャンブル八重山ファッションモール店</td>\n",
       "      <td>石垣市字大浜南大浜４２８番５ほか</td>\n",
       "      <td>株式会社しまむら</td>\n",
       "      <td>株式会社しまむら</td>\n",
       "      <td>2021-04-06 00:00:00</td>\n",
       "      <td>2021-12-05 00:00:00</td>\n",
       "      <td>1798</td>\n",
       "    </tr>\n",
       "  </tbody>\n",
       "</table>\n",
       "<p>12322 rows × 9 columns</p>\n",
       "</div>"
      ],
      "text/plain": [
       "        局名  都道府県                    大規模小売店舗名                     所在地  \\\n",
       "0      北海道   北海道               木野タウン　ケーズデンキ棟       音更町木野大通東11丁目1-1ほか   \n",
       "1      北海道   北海道  旭川豊岡タウンプラザ　GU棟　SHOE・PLAZA棟        旭川市豊岡4条4丁目1-13ほか   \n",
       "2      北海道   北海道          リラィアブルブックス　運動公園通り店  釧路町桂木3丁目7番1、７番2、8番　ほか　   \n",
       "3      北海道   北海道                コープさっぽろ　とくら店          函館市戸倉町224番－４ほか   \n",
       "4      北海道   北海道             ツルハドラッグ旭川永山３条西店          旭川市永山３条８丁目76番１   \n",
       "...    ...   ...                         ...                     ...   \n",
       "12317   九州  鹿児島県        （仮称）ドラッグコスモス鹿屋運動公園前店           鹿屋市西原２丁目104番１   \n",
       "12318   九州  鹿児島県            Books　Misumi　鹿屋店              鹿屋市寿7-12-1   \n",
       "12319   九州   福岡市           （仮称）福岡市青果市場跡地活用事業      福岡市博多区那珂六丁目351番地１外   \n",
       "12320   九州   熊本市                    ロッキー水前寺店        熊本市中央区水前寺2丁目4-15   \n",
       "12321   沖縄   沖縄県    バースデイ・シャンブル八重山ファッションモール店        石垣市字大浜南大浜４２８番５ほか   \n",
       "\n",
       "               建物設置者名     小売業者名                  届出日                開店予定日  \\\n",
       "0              デンコードー    デンコードー  2019-04-16 00:00:00  2019-12-17 00:00:00   \n",
       "1      セントラルリーシングシステム      ジーユー  2019-09-04 00:00:00  2020-05-05 00:00:00   \n",
       "2              リラィアブル    リラィアブル  2019-09-26 00:00:00  2020-05-27 00:00:00   \n",
       "3             コープさっぽろ   コープさっぽろ  2019-10-08 00:00:00  2020-06-09 00:00:00   \n",
       "4              北海道リース       ツルハ  2019-10-23 00:00:00  2020-06-24 00:00:00   \n",
       "...               ...       ...                  ...                  ...   \n",
       "12317          コスモス薬品    コスモス薬品  2021-06-04 00:00:00  2022-02-05 00:00:00   \n",
       "12318          Misumi    Misumi  2021-06-23 00:00:00  2022-02-24 00:00:00   \n",
       "12319   博多那珂６開発特定目的会社        未定  2021-05-14 00:00:00  2022-04-01 00:00:00   \n",
       "12320            ロッキー      ロッキー  2021-05-06 00:00:00  2022-01-04 00:00:00   \n",
       "12321        株式会社しまむら  株式会社しまむら  2021-04-06 00:00:00  2021-12-05 00:00:00   \n",
       "\n",
       "        店舗面積  \n",
       "0       3134  \n",
       "1       1454  \n",
       "2       1379  \n",
       "3       1447  \n",
       "4       1527  \n",
       "...      ...  \n",
       "12317   1472  \n",
       "12318   1774  \n",
       "12319  46380  \n",
       "12320   1670  \n",
       "12321   1798  \n",
       "\n",
       "[12322 rows x 9 columns]"
      ]
     },
     "execution_count": 13,
     "metadata": {
      "tags": []
     },
     "output_type": "execute_result"
    }
   ],
   "source": [
    "# 新しいインデックス確認\n",
    "\n",
    "df # 12322 rows × 9 columns"
   ]
  },
  {
   "cell_type": "markdown",
   "metadata": {
    "id": "RQ2ZOn1A9-5o"
   },
   "source": [
    "## 日付データの表示変更\n",
    "\n",
    "pandasは日付をデフォルトで読み込むと文字列型になる"
   ]
  },
  {
   "cell_type": "code",
   "execution_count": null,
   "metadata": {
    "colab": {
     "base_uri": "https://localhost:8080/"
    },
    "id": "hNbjSIjn-Fgt",
    "outputId": "88022a93-bf38-4b61-e5d8-592797084648"
   },
   "outputs": [
    {
     "data": {
      "text/plain": [
       "局名          object\n",
       "都道府県        object\n",
       "大規模小売店舗名    object\n",
       "所在地         object\n",
       "建物設置者名      object\n",
       "小売業者名       object\n",
       "届出日         object\n",
       "開店予定日       object\n",
       "店舗面積        object\n",
       "dtype: object"
      ]
     },
     "execution_count": 14,
     "metadata": {
      "tags": []
     },
     "output_type": "execute_result"
    }
   ],
   "source": [
    "# データ型を確認する\n",
    "# 「届出日」「開店予定日」がdatetime型ではない\n",
    "# https://pandas.pydata.org/pandas-docs/stable/user_guide/text.html#text-types\n",
    "\n",
    "df.dtypes"
   ]
  },
  {
   "cell_type": "code",
   "execution_count": null,
   "metadata": {
    "id": "PsuOVh82CSfB"
   },
   "outputs": [],
   "source": [
    "# データ型をそのまま変換しようとするとエラー\n",
    "\n",
    "#pd.to_datetime(df['届出日'], format='%Y-%m-%d')"
   ]
  },
  {
   "cell_type": "markdown",
   "metadata": {
    "id": "WCr9FmrwPfGa"
   },
   "source": [
    "### 届出日"
   ]
  },
  {
   "cell_type": "markdown",
   "metadata": {
    "id": "YcA02IcGAo65"
   },
   "source": [
    "エラーの原因は誤った日付の形式が混ざっていることらしい<br>\n",
    "他に、シリアル値という値も混ざっている（csvシートで確認する）<br>\n",
    "まずは「届出日」列をシリアル値とそうでないものに分ける"
   ]
  },
  {
   "cell_type": "code",
   "execution_count": null,
   "metadata": {
    "id": "CAXXNVDH_a_R"
   },
   "outputs": [],
   "source": [
    "# シリアル値が含まれるインデックス（フラグ）と数をカウントする関数\n",
    "from typing import Union\n",
    "\n",
    "def check_serial(col: pd.Series) -> Union[pd.Series, int]:\n",
    "\n",
    "    flag = col.astype('str').str.isdigit()\n",
    "\n",
    "    return flag, flag.sum()"
   ]
  },
  {
   "cell_type": "code",
   "execution_count": null,
   "metadata": {
    "colab": {
     "base_uri": "https://localhost:8080/"
    },
    "id": "ni0YoqGpEv7h",
    "outputId": "56139318-4d3e-4d3f-ebd3-f8f5f7c2b45a"
   },
   "outputs": [
    {
     "data": {
      "text/plain": [
       "{'col': pandas.core.series.Series,\n",
       " 'return': typing.Union[pandas.core.series.Series, int]}"
      ]
     },
     "execution_count": 98,
     "metadata": {
      "tags": []
     },
     "output_type": "execute_result"
    }
   ],
   "source": [
    "check_serial.__annotations__"
   ]
  },
  {
   "cell_type": "code",
   "execution_count": null,
   "metadata": {
    "colab": {
     "base_uri": "https://localhost:8080/"
    },
    "id": "Mt7rZEDx_1d5",
    "outputId": "41ec2ad3-e9d0-4020-c35b-89a93212a509"
   },
   "outputs": [
    {
     "name": "stdout",
     "output_type": "stream",
     "text": [
      "フラグ：\n",
      "0        False\n",
      "1        False\n",
      "2        False\n",
      "3        False\n",
      "4        False\n",
      "         ...  \n",
      "12317    False\n",
      "12318    False\n",
      "12319    False\n",
      "12320    False\n",
      "12321    False\n",
      "Name: 届出日, Length: 12322, dtype: bool\n",
      "-----------------\n",
      "フラグの数：170\n"
     ]
    }
   ],
   "source": [
    "flg, flg_num = check_serial(df['届出日'])\n",
    "print(f'フラグ：\\n{flg}')\n",
    "print('-----------------')\n",
    "print(f'フラグの数：{flg_num}')"
   ]
  },
  {
   "cell_type": "code",
   "execution_count": null,
   "metadata": {
    "colab": {
     "base_uri": "https://localhost:8080/"
    },
    "id": "srkt8lTDDZgX",
    "outputId": "964125b6-3b80-482a-80a7-ac256fec86a3"
   },
   "outputs": [
    {
     "name": "stdout",
     "output_type": "stream",
     "text": [
      "40       43594\n",
      "82       43655\n",
      "83       43663\n",
      "84       43676\n",
      "85       43684\n",
      "         ...  \n",
      "1878     42832\n",
      "12280    44309\n",
      "12284    44306\n",
      "12285    44356\n",
      "12308    44301\n",
      "Name: 届出日, Length: 170, dtype: object\n",
      "-----------------\n",
      "0        2019-04-16 00:00:00\n",
      "1        2019-09-04 00:00:00\n",
      "2        2019-09-26 00:00:00\n",
      "3        2019-10-08 00:00:00\n",
      "4        2019-10-23 00:00:00\n",
      "                ...         \n",
      "12317    2021-06-04 00:00:00\n",
      "12318    2021-06-23 00:00:00\n",
      "12319    2021-05-14 00:00:00\n",
      "12320    2021-05-06 00:00:00\n",
      "12321    2021-04-06 00:00:00\n",
      "Name: 届出日, Length: 12152, dtype: object\n"
     ]
    }
   ],
   "source": [
    "# Length: 170\n",
    "print(df['届出日'][flg]) # ちなみにシリアル値一つ一つはint型\n",
    "print('-----------------')\n",
    "# Length: 12152\n",
    "print(df['届出日'][~flg]) # ~は否定を表すので、flgが立っていないインデックスを表す"
   ]
  },
  {
   "cell_type": "code",
   "execution_count": null,
   "metadata": {
    "id": "HJnu7yhk6OQT"
   },
   "outputs": [],
   "source": [
    "# int型のシリアル値を、datetime型の%Y-%m-%d形式に書き換える\n",
    "\n",
    "def replace_serial_to_date(col, flag):\n",
    "\n",
    "    series = pd.to_timedelta(col[flag].astype('float') - 2, unit='D')+pd.to_datetime('1900/1/1')\n",
    "\n",
    "    return series"
   ]
  },
  {
   "cell_type": "code",
   "execution_count": null,
   "metadata": {
    "id": "xUhJY6rN6_7T"
   },
   "outputs": [],
   "source": [
    "# string型の値を、datetime型の%Y-%m-%d形式に書き換える\n",
    "# errors='coerce'オプションで、エラーが出る値はNaTに置き換える\n",
    "\n",
    "def replace_str_to_date(col, flag):\n",
    "\n",
    "    series = pd.to_datetime(col[flag], format='%Y-%m-%d', errors='coerce')\n",
    "\n",
    "    return series"
   ]
  },
  {
   "cell_type": "code",
   "execution_count": null,
   "metadata": {
    "colab": {
     "base_uri": "https://localhost:8080/"
    },
    "id": "rdka08lh6_y8",
    "outputId": "43279c8d-71f9-4f1f-d485-ed0b043b5df0"
   },
   "outputs": [
    {
     "name": "stdout",
     "output_type": "stream",
     "text": [
      "40      2019-05-09\n",
      "82      2019-07-09\n",
      "83      2019-07-17\n",
      "84      2019-07-30\n",
      "85      2019-08-07\n",
      "           ...    \n",
      "1878    2017-04-07\n",
      "12280   2021-04-23\n",
      "12284   2021-04-20\n",
      "12285   2021-06-09\n",
      "12308   2021-04-15\n",
      "Name: 届出日, Length: 170, dtype: datetime64[ns]\n",
      "-----------------\n",
      "0       2019-04-16\n",
      "1       2019-09-04\n",
      "2       2019-09-26\n",
      "3       2019-10-08\n",
      "4       2019-10-23\n",
      "           ...    \n",
      "12317   2021-06-04\n",
      "12318   2021-06-23\n",
      "12319   2021-05-14\n",
      "12320   2021-05-06\n",
      "12321   2021-04-06\n",
      "Name: 届出日, Length: 12152, dtype: datetime64[ns]\n"
     ]
    }
   ],
   "source": [
    "from_serial = replace_serial_to_date(df['届出日'], flg)\n",
    "from_str = replace_str_to_date(df['届出日'], ~flg)\n",
    "\n",
    "# Length: 170\n",
    "print(from_serial) # ちなみにシリアル値一つ一つはint型\n",
    "print('-----------------')\n",
    "# Length: 12152\n",
    "print(from_str) "
   ]
  },
  {
   "cell_type": "code",
   "execution_count": null,
   "metadata": {
    "colab": {
     "base_uri": "https://localhost:8080/"
    },
    "id": "E5dVYdGr6_gO",
    "outputId": "e3d959c6-101d-4aab-e04d-a48547dea45b"
   },
   "outputs": [
    {
     "name": "stdout",
     "output_type": "stream",
     "text": [
      "Int64Index([], dtype='int64')\n",
      "Int64Index([142, 531, 582, 595, 2858, 2861], dtype='int64')\n"
     ]
    }
   ],
   "source": [
    "# 処理後に欠損値はできてないか確認\n",
    "print(from_serial[from_serial.isnull()].index)\n",
    "\n",
    "# 処理中のエラーで欠損値になった値が6つあった\n",
    "print(from_str[from_str.isnull()].index)"
   ]
  },
  {
   "cell_type": "code",
   "execution_count": null,
   "metadata": {
    "colab": {
     "base_uri": "https://localhost:8080/"
    },
    "id": "eCdaFTbLDBX0",
    "outputId": "d948eaa7-c5d9-4577-fe4e-5337d9f71e00"
   },
   "outputs": [
    {
     "data": {
      "text/plain": [
       "142        2020月3月5日\n",
       "531      2,019年3月18日\n",
       "582       2018 年6月8日\n",
       "595      2018 年7月27日\n",
       "2858     2,015年6月11日\n",
       "2861    2,015年10月13日\n",
       "Name: 届出日, dtype: object"
      ]
     },
     "execution_count": 23,
     "metadata": {
      "tags": []
     },
     "output_type": "execute_result"
    }
   ],
   "source": [
    "# 元のデータを確かめると、異常値だった行が欠損値になった様子\n",
    "\n",
    "df['届出日'][from_str[from_str.isnull()].index]"
   ]
  },
  {
   "cell_type": "code",
   "execution_count": null,
   "metadata": {
    "colab": {
     "base_uri": "https://localhost:8080/"
    },
    "id": "WYfjpXwYDBQD",
    "outputId": "3e91b8fe-ef5d-4239-b751-3df3972e9c01"
   },
   "outputs": [
    {
     "data": {
      "text/plain": [
       "142     2020-03-05\n",
       "531     2019-03-18\n",
       "582     2018-06-08\n",
       "595     2018-07-27\n",
       "2858    2015-06-11\n",
       "2861    2015-10-13\n",
       "Name: 届出日, dtype: object"
      ]
     },
     "execution_count": 24,
     "metadata": {
      "tags": []
     },
     "output_type": "execute_result"
    }
   ],
   "source": [
    "# 異常値を修正する値を作成する\n",
    "\n",
    "d = [datetime.date(2020, 3, 5), datetime.date(2019, 3, 18), datetime.date(2018, 6, 8),\n",
    "          datetime.date(2018, 7, 27), datetime.date(2015, 6, 11), datetime.date(2015, 10, 13)]\n",
    "\n",
    "from_str_part = pd.Series(data=d, index=from_str[from_str.isnull()].index, name='届出日')\n",
    "from_str_part"
   ]
  },
  {
   "cell_type": "code",
   "execution_count": null,
   "metadata": {
    "colab": {
     "base_uri": "https://localhost:8080/"
    },
    "id": "KQdbDt2pNsIL",
    "outputId": "ee98b54e-24db-4582-e4ba-e3552ca19e6b"
   },
   "outputs": [
    {
     "data": {
      "text/plain": [
       "0       2019-04-16\n",
       "1       2019-09-04\n",
       "2       2019-09-26\n",
       "3       2019-10-08\n",
       "4       2019-10-23\n",
       "           ...    \n",
       "12317   2021-06-04\n",
       "12318   2021-06-23\n",
       "12319   2021-05-14\n",
       "12320   2021-05-06\n",
       "12321   2021-04-06\n",
       "Name: 届出日, Length: 12152, dtype: datetime64[ns]"
      ]
     },
     "execution_count": 25,
     "metadata": {
      "tags": []
     },
     "output_type": "execute_result"
    }
   ],
   "source": [
    "# 2つのSeriesを結合する（from_strの欠損値をfrom_str_partの同じインデックスの値で上書き）\n",
    "from_str = from_str.combine_first(other=from_str_part)\n",
    "\n",
    "from_str"
   ]
  },
  {
   "cell_type": "code",
   "execution_count": null,
   "metadata": {
    "colab": {
     "base_uri": "https://localhost:8080/"
    },
    "id": "yJjiptUyBjMY",
    "outputId": "78c0eecf-1c7c-41eb-b149-063449c0030f"
   },
   "outputs": [
    {
     "data": {
      "text/plain": [
       "142    2020-03-05\n",
       "531    2019-03-18\n",
       "582    2018-06-08\n",
       "595    2018-07-27\n",
       "2858   2015-06-11\n",
       "2861   2015-10-13\n",
       "Name: 届出日, dtype: datetime64[ns]"
      ]
     },
     "execution_count": 26,
     "metadata": {
      "tags": []
     },
     "output_type": "execute_result"
    }
   ],
   "source": [
    "# 上書きされていることを確認する\n",
    "from_str.loc[from_str_part.index]"
   ]
  },
  {
   "cell_type": "code",
   "execution_count": null,
   "metadata": {
    "colab": {
     "base_uri": "https://localhost:8080/"
    },
    "id": "X-aXaok6Es6y",
    "outputId": "572edee0-c6c0-42f0-eadf-ab6955d0ee17"
   },
   "outputs": [
    {
     "data": {
      "text/plain": [
       "0       2019-04-16\n",
       "1       2019-09-04\n",
       "2       2019-09-26\n",
       "3       2019-10-08\n",
       "4       2019-10-23\n",
       "           ...    \n",
       "12317   2021-06-04\n",
       "12318   2021-06-23\n",
       "12319   2021-05-14\n",
       "12320   2021-05-06\n",
       "12321   2021-04-06\n",
       "Name: 届出日, Length: 12322, dtype: datetime64[ns]"
      ]
     },
     "execution_count": 27,
     "metadata": {
      "tags": []
     },
     "output_type": "execute_result"
    }
   ],
   "source": [
    "# from_serialとfrom_strを結合する（両者はインデックスが異なるので上書きは起きない）\n",
    "# 結合したSeriesで元のDataFrasmeの「届出日」列を上書きする\n",
    "\n",
    "df['届出日'] = from_serial.combine_first(other=from_str)\n",
    "df['届出日']"
   ]
  },
  {
   "cell_type": "markdown",
   "metadata": {
    "id": "U8dY4gNMPZp0"
   },
   "source": [
    "### 開店予定日\n",
    "届出日と同じ処理を行う"
   ]
  },
  {
   "cell_type": "code",
   "execution_count": null,
   "metadata": {
    "colab": {
     "base_uri": "https://localhost:8080/"
    },
    "id": "wtZlNiE__UP9",
    "outputId": "eb55b719-1dad-4f1f-c964-f6fee50eed32"
   },
   "outputs": [
    {
     "name": "stdout",
     "output_type": "stream",
     "text": [
      "フラグ：\n",
      "0        False\n",
      "1        False\n",
      "2        False\n",
      "3        False\n",
      "4        False\n",
      "         ...  \n",
      "12317    False\n",
      "12318    False\n",
      "12319    False\n",
      "12320    False\n",
      "12321    False\n",
      "Name: 開店予定日, Length: 12322, dtype: bool\n",
      "-----------------\n",
      "フラグの数：182\n"
     ]
    }
   ],
   "source": [
    "# 「開店予定日」列にシリアル値がいくつあるか数える\n",
    "\n",
    "flg, flg_num = check_serial(df['開店予定日'])\n",
    "print(f'フラグ：\\n{flg}')\n",
    "print('-----------------')\n",
    "print(f'フラグの数：{flg_num}')"
   ]
  },
  {
   "cell_type": "code",
   "execution_count": null,
   "metadata": {
    "colab": {
     "base_uri": "https://localhost:8080/"
    },
    "id": "P3p_8vVLBDCJ",
    "outputId": "9b337027-19c8-44e6-cc68-aa5fd66994af"
   },
   "outputs": [
    {
     "name": "stdout",
     "output_type": "stream",
     "text": [
      "40       43840\n",
      "82       43900\n",
      "83       43908\n",
      "84       43921\n",
      "85       43929\n",
      "         ...  \n",
      "1791     43220\n",
      "1792     43191\n",
      "1824     43090\n",
      "1878     43077\n",
      "12308    44546\n",
      "Name: 開店予定日, Length: 182, dtype: object\n",
      "-----------------\n",
      "0        2019-12-17 00:00:00\n",
      "1        2020-05-05 00:00:00\n",
      "2        2020-05-27 00:00:00\n",
      "3        2020-06-09 00:00:00\n",
      "4        2020-06-24 00:00:00\n",
      "                ...         \n",
      "12317    2022-02-05 00:00:00\n",
      "12318    2022-02-24 00:00:00\n",
      "12319    2022-04-01 00:00:00\n",
      "12320    2022-01-04 00:00:00\n",
      "12321    2021-12-05 00:00:00\n",
      "Name: 開店予定日, Length: 12140, dtype: object\n"
     ]
    }
   ],
   "source": [
    "# Length: 182\n",
    "print(df['開店予定日'][flg]) # ちなみにシリアル値一つ一つはint型\n",
    "print('-----------------')\n",
    "# Length: 12140\n",
    "print(df['開店予定日'][~flg]) # ~は否定を表すので、flgが立っていないインデックスを表す"
   ]
  },
  {
   "cell_type": "code",
   "execution_count": null,
   "metadata": {
    "colab": {
     "base_uri": "https://localhost:8080/"
    },
    "id": "Q8mPyPjWBDEv",
    "outputId": "d7a6f7e3-3512-43d5-c6f0-3b4aea5f4a10"
   },
   "outputs": [
    {
     "name": "stdout",
     "output_type": "stream",
     "text": [
      "40      2020-01-10\n",
      "82      2020-03-10\n",
      "83      2020-03-18\n",
      "84      2020-03-31\n",
      "85      2020-04-08\n",
      "           ...    \n",
      "1791    2018-04-30\n",
      "1792    2018-04-01\n",
      "1824    2017-12-21\n",
      "1878    2017-12-08\n",
      "12308   2021-12-16\n",
      "Name: 開店予定日, Length: 182, dtype: datetime64[ns]\n",
      "-----------------\n",
      "0       2019-12-17\n",
      "1       2020-05-05\n",
      "2       2020-05-27\n",
      "3       2020-06-09\n",
      "4       2020-06-24\n",
      "           ...    \n",
      "12317   2022-02-05\n",
      "12318   2022-02-24\n",
      "12319   2022-04-01\n",
      "12320   2022-01-04\n",
      "12321   2021-12-05\n",
      "Name: 開店予定日, Length: 12140, dtype: datetime64[ns]\n"
     ]
    }
   ],
   "source": [
    "# int型のシリアル値をdatetime型へ変換\n",
    "from_serial = replace_serial_to_date(df['開店予定日'], flg)\n",
    "# str型をdatetime型へ変換\n",
    "from_str = replace_str_to_date(df['開店予定日'], ~flg)\n",
    "\n",
    "# Length: 182\n",
    "print(from_serial) # ちなみにシリアル値一つ一つはint型\n",
    "print('-----------------')\n",
    "# Length: 12140\n",
    "print(from_str) "
   ]
  },
  {
   "cell_type": "code",
   "execution_count": null,
   "metadata": {
    "colab": {
     "base_uri": "https://localhost:8080/"
    },
    "id": "j5m30mN7BDHY",
    "outputId": "aeb75b1d-c9b1-4447-c5be-862c146e7883"
   },
   "outputs": [
    {
     "name": "stdout",
     "output_type": "stream",
     "text": [
      "Int64Index([], dtype='int64')\n",
      "Int64Index([  748,   749,   921,  1035,  1228,  1229,  1438,  1474,  2865,\n",
      "             2999,  4076,  4452,  4782,  4783,  4876,  5312,  5427,  5429,\n",
      "             5488,  6096,  6613,  6614,  6615,  6716,  7191,  9284, 11704,\n",
      "            11705, 11800, 12256],\n",
      "           dtype='int64')\n"
     ]
    }
   ],
   "source": [
    "# 処理後に欠損値はできてないか確認\n",
    "print(from_serial[from_serial.isnull()].index)\n",
    "\n",
    "# 処理中のエラーで欠損値になった値が30個あった\n",
    "print(from_str[from_str.isnull()].index)"
   ]
  },
  {
   "cell_type": "code",
   "execution_count": null,
   "metadata": {
    "colab": {
     "base_uri": "https://localhost:8080/"
    },
    "id": "p62MGba4BDIN",
    "outputId": "2a0f6b76-1f4a-48d6-938f-013a102af2ae"
   },
   "outputs": [
    {
     "data": {
      "text/plain": [
       "748         2019年12月頃\n",
       "749        2019年12月1日\n",
       "921         2019年9月上旬\n",
       "1035     21021年11月13日\n",
       "1228           2024年夏\n",
       "1229           2024年夏\n",
       "1438       2018年7月30年\n",
       "1474       2017年12月上旬\n",
       "2865      2016年11月19日\n",
       "2999        2016年8月中旬\n",
       "4076        2014年3月下旬\n",
       "4452          2013年5月\n",
       "4782       2012年11月中旬\n",
       "4783        2013年3月中旬\n",
       "4876          2013年4月\n",
       "5312          2012年2月\n",
       "5427       2012年11月上旬\n",
       "5429       2012年11月上旬\n",
       "5488             H25春\n",
       "6096         2011年4月頃\n",
       "6613          2011年3月\n",
       "6614         平成24年度下期\n",
       "6615         平成24年度下期\n",
       "6716         2009年10月\n",
       "7191          平成２３年春頃\n",
       "9284           2011年春\n",
       "11704     2003年03月01日\n",
       "11705     2003年04月01日\n",
       "11800     2002年11月21日\n",
       "12256     2021年 12月3日\n",
       "Name: 開店予定日, dtype: object"
      ]
     },
     "execution_count": 32,
     "metadata": {
      "tags": []
     },
     "output_type": "execute_result"
    }
   ],
   "source": [
    "# 元のデータを確かめると、異常値だった行が欠損値になった様子\n",
    "\n",
    "df['開店予定日'][from_str[from_str.isnull()].index]"
   ]
  },
  {
   "cell_type": "code",
   "execution_count": null,
   "metadata": {
    "colab": {
     "base_uri": "https://localhost:8080/"
    },
    "id": "8MxPkROABDJB",
    "outputId": "a357b4ca-ed29-48ab-b57c-5bca14903786"
   },
   "outputs": [
    {
     "data": {
      "text/plain": [
       "748      2021-12-03\n",
       "749      2021-11-13\n",
       "921      2024-08-01\n",
       "1035     2024-08-01\n",
       "1228     2019-12-01\n",
       "1229     2019-12-01\n",
       "1438     2019-09-01\n",
       "1474     2018-07-30\n",
       "2865     2017-12-01\n",
       "2999     2016-11-19\n",
       "4076     2016-08-15\n",
       "4452     2014-03-30\n",
       "4782     2013-05-01\n",
       "4783     2012-11-15\n",
       "4876     2013-03-15\n",
       "5312     2013-04-01\n",
       "5427     2012-02-01\n",
       "5429     2012-11-01\n",
       "5488     2012-11-01\n",
       "6096     2013-04-01\n",
       "6613     2011-04-01\n",
       "6614     2011-03-01\n",
       "6615     2012-10-01\n",
       "6716     2012-10-01\n",
       "7191     2009-10-01\n",
       "9284     2011-04-01\n",
       "11704    2011-04-01\n",
       "11705    2003-03-01\n",
       "11800    2003-04-01\n",
       "12256    2002-11-21\n",
       "Name: 開店予定日, dtype: object"
      ]
     },
     "execution_count": 33,
     "metadata": {
      "tags": []
     },
     "output_type": "execute_result"
    }
   ],
   "source": [
    "# 異常値を修正する値を作成する\n",
    "\n",
    "d = [datetime.date(2021, 12, 3), datetime.date(2021, 11, 13), datetime.date(2024, 8, 1),\n",
    "          datetime.date(2024, 8, 1), datetime.date(2019, 12, 1), datetime.date(2019, 12, 1),\n",
    "          datetime.date(2019, 9, 1), datetime.date(2018, 7, 30), datetime.date(2017, 12, 1), \n",
    "          datetime.date(2016, 11, 19), datetime.date(2016, 8, 15), datetime.date(2014, 3, 30), \n",
    "          datetime.date(2013, 5, 1), datetime.date(2012, 11, 15), datetime.date(2013, 3, 15), \n",
    "          datetime.date(2013, 4, 1), datetime.date(2012, 2, 1), datetime.date(2012, 11, 1), \n",
    "          datetime.date(2012, 11, 1), datetime.date(2013, 4, 1), datetime.date(2011, 4, 1), \n",
    "          datetime.date(2011, 3, 1), datetime.date(2012, 10, 1), datetime.date(2012, 10, 1), \n",
    "          datetime.date(2009, 10, 1), datetime.date(2011, 4, 1), datetime.date(2011, 4, 1), \n",
    "          datetime.date(2003, 3, 1), datetime.date(2003, 4, 1), datetime.date(2002, 11, 21)\n",
    "          ]\n",
    "\n",
    "from_str_part = pd.Series(data=d, index=from_str[from_str.isnull()].index, name='開店予定日')\n",
    "from_str_part"
   ]
  },
  {
   "cell_type": "code",
   "execution_count": null,
   "metadata": {
    "colab": {
     "base_uri": "https://localhost:8080/"
    },
    "id": "S7LnOqbfBCSk",
    "outputId": "b51abbf3-579c-4063-a68c-62f0c61ce75f"
   },
   "outputs": [
    {
     "data": {
      "text/plain": [
       "0       2019-12-17\n",
       "1       2020-05-05\n",
       "2       2020-05-27\n",
       "3       2020-06-09\n",
       "4       2020-06-24\n",
       "           ...    \n",
       "12317   2022-02-05\n",
       "12318   2022-02-24\n",
       "12319   2022-04-01\n",
       "12320   2022-01-04\n",
       "12321   2021-12-05\n",
       "Name: 開店予定日, Length: 12140, dtype: datetime64[ns]"
      ]
     },
     "execution_count": 34,
     "metadata": {
      "tags": []
     },
     "output_type": "execute_result"
    }
   ],
   "source": [
    "# 2つのSeriesを結合する（from_strの欠損値をfrom_str_partの同じインデックスの値で上書き）\n",
    "from_str = from_str.combine_first(other=from_str_part)\n",
    "\n",
    "from_str"
   ]
  },
  {
   "cell_type": "code",
   "execution_count": null,
   "metadata": {
    "colab": {
     "base_uri": "https://localhost:8080/"
    },
    "id": "EgDvxgFWBBup",
    "outputId": "816debd3-37bc-42b2-9f78-d65d2583a044"
   },
   "outputs": [
    {
     "data": {
      "text/plain": [
       "748     2021-12-03\n",
       "749     2021-11-13\n",
       "921     2024-08-01\n",
       "1035    2024-08-01\n",
       "1228    2019-12-01\n",
       "1229    2019-12-01\n",
       "1438    2019-09-01\n",
       "1474    2018-07-30\n",
       "2865    2017-12-01\n",
       "2999    2016-11-19\n",
       "4076    2016-08-15\n",
       "4452    2014-03-30\n",
       "4782    2013-05-01\n",
       "4783    2012-11-15\n",
       "4876    2013-03-15\n",
       "5312    2013-04-01\n",
       "5427    2012-02-01\n",
       "5429    2012-11-01\n",
       "5488    2012-11-01\n",
       "6096    2013-04-01\n",
       "6613    2011-04-01\n",
       "6614    2011-03-01\n",
       "6615    2012-10-01\n",
       "6716    2012-10-01\n",
       "7191    2009-10-01\n",
       "9284    2011-04-01\n",
       "11704   2011-04-01\n",
       "11705   2003-03-01\n",
       "11800   2003-04-01\n",
       "12256   2002-11-21\n",
       "Name: 開店予定日, dtype: datetime64[ns]"
      ]
     },
     "execution_count": 35,
     "metadata": {
      "tags": []
     },
     "output_type": "execute_result"
    }
   ],
   "source": [
    "\n",
    "# 上書きされていることを確認する\n",
    "from_str.loc[from_str_part.index]"
   ]
  },
  {
   "cell_type": "code",
   "execution_count": null,
   "metadata": {
    "colab": {
     "base_uri": "https://localhost:8080/"
    },
    "id": "jMRazUp6BBHV",
    "outputId": "050dd543-fab9-4d98-8de8-5576821eaffd"
   },
   "outputs": [
    {
     "data": {
      "text/plain": [
       "0       2019-12-17\n",
       "1       2020-05-05\n",
       "2       2020-05-27\n",
       "3       2020-06-09\n",
       "4       2020-06-24\n",
       "           ...    \n",
       "12317   2022-02-05\n",
       "12318   2022-02-24\n",
       "12319   2022-04-01\n",
       "12320   2022-01-04\n",
       "12321   2021-12-05\n",
       "Name: 開店予定日, Length: 12322, dtype: datetime64[ns]"
      ]
     },
     "execution_count": 36,
     "metadata": {
      "tags": []
     },
     "output_type": "execute_result"
    }
   ],
   "source": [
    "\n",
    "# from_serialとfrom_strを結合する（両者はインデックスが異なるので上書きは起きない）\n",
    "# 結合したSeriesで元のDataFrasmeの「開店予定日」列を上書きする\n",
    "\n",
    "df['開店予定日'] = from_serial.combine_first(other=from_str)\n",
    "df['開店予定日']"
   ]
  },
  {
   "cell_type": "code",
   "execution_count": null,
   "metadata": {
    "colab": {
     "base_uri": "https://localhost:8080/",
     "height": 606
    },
    "id": "8YMcjSDqcBd2",
    "outputId": "ff6f8490-b8ab-4020-a581-dd5ede659a34"
   },
   "outputs": [
    {
     "data": {
      "text/html": [
       "<div>\n",
       "<style scoped>\n",
       "    .dataframe tbody tr th:only-of-type {\n",
       "        vertical-align: middle;\n",
       "    }\n",
       "\n",
       "    .dataframe tbody tr th {\n",
       "        vertical-align: top;\n",
       "    }\n",
       "\n",
       "    .dataframe thead th {\n",
       "        text-align: right;\n",
       "    }\n",
       "</style>\n",
       "<table border=\"1\" class=\"dataframe\">\n",
       "  <thead>\n",
       "    <tr style=\"text-align: right;\">\n",
       "      <th></th>\n",
       "      <th>局名</th>\n",
       "      <th>都道府県</th>\n",
       "      <th>大規模小売店舗名</th>\n",
       "      <th>所在地</th>\n",
       "      <th>建物設置者名</th>\n",
       "      <th>小売業者名</th>\n",
       "      <th>届出日</th>\n",
       "      <th>開店予定日</th>\n",
       "      <th>店舗面積</th>\n",
       "    </tr>\n",
       "  </thead>\n",
       "  <tbody>\n",
       "    <tr>\n",
       "      <th>0</th>\n",
       "      <td>北海道</td>\n",
       "      <td>北海道</td>\n",
       "      <td>木野タウン　ケーズデンキ棟</td>\n",
       "      <td>音更町木野大通東11丁目1-1ほか</td>\n",
       "      <td>デンコードー</td>\n",
       "      <td>デンコードー</td>\n",
       "      <td>2019-04-16</td>\n",
       "      <td>2019-12-17</td>\n",
       "      <td>3134</td>\n",
       "    </tr>\n",
       "    <tr>\n",
       "      <th>1</th>\n",
       "      <td>北海道</td>\n",
       "      <td>北海道</td>\n",
       "      <td>旭川豊岡タウンプラザ　GU棟　SHOE・PLAZA棟</td>\n",
       "      <td>旭川市豊岡4条4丁目1-13ほか</td>\n",
       "      <td>セントラルリーシングシステム</td>\n",
       "      <td>ジーユー</td>\n",
       "      <td>2019-09-04</td>\n",
       "      <td>2020-05-05</td>\n",
       "      <td>1454</td>\n",
       "    </tr>\n",
       "    <tr>\n",
       "      <th>2</th>\n",
       "      <td>北海道</td>\n",
       "      <td>北海道</td>\n",
       "      <td>リラィアブルブックス　運動公園通り店</td>\n",
       "      <td>釧路町桂木3丁目7番1、７番2、8番　ほか</td>\n",
       "      <td>リラィアブル</td>\n",
       "      <td>リラィアブル</td>\n",
       "      <td>2019-09-26</td>\n",
       "      <td>2020-05-27</td>\n",
       "      <td>1379</td>\n",
       "    </tr>\n",
       "    <tr>\n",
       "      <th>3</th>\n",
       "      <td>北海道</td>\n",
       "      <td>北海道</td>\n",
       "      <td>コープさっぽろ　とくら店</td>\n",
       "      <td>函館市戸倉町224番－４ほか</td>\n",
       "      <td>コープさっぽろ</td>\n",
       "      <td>コープさっぽろ</td>\n",
       "      <td>2019-10-08</td>\n",
       "      <td>2020-06-09</td>\n",
       "      <td>1447</td>\n",
       "    </tr>\n",
       "    <tr>\n",
       "      <th>4</th>\n",
       "      <td>北海道</td>\n",
       "      <td>北海道</td>\n",
       "      <td>ツルハドラッグ旭川永山３条西店</td>\n",
       "      <td>旭川市永山３条８丁目76番１</td>\n",
       "      <td>北海道リース</td>\n",
       "      <td>ツルハ</td>\n",
       "      <td>2019-10-23</td>\n",
       "      <td>2020-06-24</td>\n",
       "      <td>1527</td>\n",
       "    </tr>\n",
       "    <tr>\n",
       "      <th>...</th>\n",
       "      <td>...</td>\n",
       "      <td>...</td>\n",
       "      <td>...</td>\n",
       "      <td>...</td>\n",
       "      <td>...</td>\n",
       "      <td>...</td>\n",
       "      <td>...</td>\n",
       "      <td>...</td>\n",
       "      <td>...</td>\n",
       "    </tr>\n",
       "    <tr>\n",
       "      <th>12317</th>\n",
       "      <td>九州</td>\n",
       "      <td>鹿児島県</td>\n",
       "      <td>（仮称）ドラッグコスモス鹿屋運動公園前店</td>\n",
       "      <td>鹿屋市西原２丁目104番１</td>\n",
       "      <td>コスモス薬品</td>\n",
       "      <td>コスモス薬品</td>\n",
       "      <td>2021-06-04</td>\n",
       "      <td>2022-02-05</td>\n",
       "      <td>1472</td>\n",
       "    </tr>\n",
       "    <tr>\n",
       "      <th>12318</th>\n",
       "      <td>九州</td>\n",
       "      <td>鹿児島県</td>\n",
       "      <td>Books　Misumi　鹿屋店</td>\n",
       "      <td>鹿屋市寿7-12-1</td>\n",
       "      <td>Misumi</td>\n",
       "      <td>Misumi</td>\n",
       "      <td>2021-06-23</td>\n",
       "      <td>2022-02-24</td>\n",
       "      <td>1774</td>\n",
       "    </tr>\n",
       "    <tr>\n",
       "      <th>12319</th>\n",
       "      <td>九州</td>\n",
       "      <td>福岡市</td>\n",
       "      <td>（仮称）福岡市青果市場跡地活用事業</td>\n",
       "      <td>福岡市博多区那珂六丁目351番地１外</td>\n",
       "      <td>博多那珂６開発特定目的会社</td>\n",
       "      <td>未定</td>\n",
       "      <td>2021-05-14</td>\n",
       "      <td>2022-04-01</td>\n",
       "      <td>46380</td>\n",
       "    </tr>\n",
       "    <tr>\n",
       "      <th>12320</th>\n",
       "      <td>九州</td>\n",
       "      <td>熊本市</td>\n",
       "      <td>ロッキー水前寺店</td>\n",
       "      <td>熊本市中央区水前寺2丁目4-15</td>\n",
       "      <td>ロッキー</td>\n",
       "      <td>ロッキー</td>\n",
       "      <td>2021-05-06</td>\n",
       "      <td>2022-01-04</td>\n",
       "      <td>1670</td>\n",
       "    </tr>\n",
       "    <tr>\n",
       "      <th>12321</th>\n",
       "      <td>沖縄</td>\n",
       "      <td>沖縄県</td>\n",
       "      <td>バースデイ・シャンブル八重山ファッションモール店</td>\n",
       "      <td>石垣市字大浜南大浜４２８番５ほか</td>\n",
       "      <td>株式会社しまむら</td>\n",
       "      <td>株式会社しまむら</td>\n",
       "      <td>2021-04-06</td>\n",
       "      <td>2021-12-05</td>\n",
       "      <td>1798</td>\n",
       "    </tr>\n",
       "  </tbody>\n",
       "</table>\n",
       "<p>12322 rows × 9 columns</p>\n",
       "</div>"
      ],
      "text/plain": [
       "        局名  都道府県                    大規模小売店舗名                     所在地  \\\n",
       "0      北海道   北海道               木野タウン　ケーズデンキ棟       音更町木野大通東11丁目1-1ほか   \n",
       "1      北海道   北海道  旭川豊岡タウンプラザ　GU棟　SHOE・PLAZA棟        旭川市豊岡4条4丁目1-13ほか   \n",
       "2      北海道   北海道          リラィアブルブックス　運動公園通り店  釧路町桂木3丁目7番1、７番2、8番　ほか　   \n",
       "3      北海道   北海道                コープさっぽろ　とくら店          函館市戸倉町224番－４ほか   \n",
       "4      北海道   北海道             ツルハドラッグ旭川永山３条西店          旭川市永山３条８丁目76番１   \n",
       "...    ...   ...                         ...                     ...   \n",
       "12317   九州  鹿児島県        （仮称）ドラッグコスモス鹿屋運動公園前店           鹿屋市西原２丁目104番１   \n",
       "12318   九州  鹿児島県            Books　Misumi　鹿屋店              鹿屋市寿7-12-1   \n",
       "12319   九州   福岡市           （仮称）福岡市青果市場跡地活用事業      福岡市博多区那珂六丁目351番地１外   \n",
       "12320   九州   熊本市                    ロッキー水前寺店        熊本市中央区水前寺2丁目4-15   \n",
       "12321   沖縄   沖縄県    バースデイ・シャンブル八重山ファッションモール店        石垣市字大浜南大浜４２８番５ほか   \n",
       "\n",
       "               建物設置者名     小売業者名        届出日      開店予定日   店舗面積  \n",
       "0              デンコードー    デンコードー 2019-04-16 2019-12-17   3134  \n",
       "1      セントラルリーシングシステム      ジーユー 2019-09-04 2020-05-05   1454  \n",
       "2              リラィアブル    リラィアブル 2019-09-26 2020-05-27   1379  \n",
       "3             コープさっぽろ   コープさっぽろ 2019-10-08 2020-06-09   1447  \n",
       "4              北海道リース       ツルハ 2019-10-23 2020-06-24   1527  \n",
       "...               ...       ...        ...        ...    ...  \n",
       "12317          コスモス薬品    コスモス薬品 2021-06-04 2022-02-05   1472  \n",
       "12318          Misumi    Misumi 2021-06-23 2022-02-24   1774  \n",
       "12319   博多那珂６開発特定目的会社        未定 2021-05-14 2022-04-01  46380  \n",
       "12320            ロッキー      ロッキー 2021-05-06 2022-01-04   1670  \n",
       "12321        株式会社しまむら  株式会社しまむら 2021-04-06 2021-12-05   1798  \n",
       "\n",
       "[12322 rows x 9 columns]"
      ]
     },
     "execution_count": 37,
     "metadata": {
      "tags": []
     },
     "output_type": "execute_result"
    }
   ],
   "source": [
    "df"
   ]
  },
  {
   "cell_type": "markdown",
   "metadata": {
    "id": "aERrRgUtdbsj"
   },
   "source": [
    "## 不要な表記の置換え"
   ]
  },
  {
   "cell_type": "markdown",
   "metadata": {
    "id": "LLcKzCtkoerj"
   },
   "source": [
    "### 所在地の表記を整形する"
   ]
  },
  {
   "cell_type": "code",
   "execution_count": null,
   "metadata": {
    "id": "CnKYmd2fcX_H"
   },
   "outputs": [],
   "source": [
    "import logging\n",
    "\n",
    "def clean_address(col):\n",
    "\n",
    "    places = []\n",
    "    for idx, place in enumerate(col):\n",
    "        \n",
    "        try:\n",
    "\n",
    "            if '外' in place:\n",
    "                place = place[:place.rfind('外')]\n",
    "            elif 'ほか' in place:\n",
    "                place = place[:place.rfind('ほか')]\n",
    "            elif '他' in place:\n",
    "                place = place[:place.rfind('他')]   \n",
    "\n",
    "            place = ''.join(place.split())\n",
    "\n",
    "        except:\n",
    "\n",
    "            place = np.nan\n",
    "            logging.exception('適切な住所ではありません')\n",
    "            print(f'インデックス：{idx}')\n",
    "\n",
    "        places.append(place)\n",
    "      \n",
    "    return places"
   ]
  },
  {
   "cell_type": "code",
   "execution_count": null,
   "metadata": {
    "colab": {
     "base_uri": "https://localhost:8080/"
    },
    "id": "Ei_iVgSYdj2M",
    "outputId": "de47b192-f6f0-4a26-b907-42af0ad0ee6c"
   },
   "outputs": [
    {
     "name": "stderr",
     "output_type": "stream",
     "text": [
      "ERROR:root:適切な住所ではありません\n",
      "Traceback (most recent call last):\n",
      "  File \"<ipython-input-38-fcc0b2574579>\", line 10, in clean_address\n",
      "    if '外' in place:\n",
      "TypeError: argument of type 'int' is not iterable\n"
     ]
    },
    {
     "name": "stdout",
     "output_type": "stream",
     "text": [
      "インデックス：8311\n"
     ]
    }
   ],
   "source": [
    "# 住所の不要な表記を削除する関数実行（返り値はなし）\n",
    "# エラーになったらそこはNaNで埋める\n",
    "places = clean_address(df['所在地'])"
   ]
  },
  {
   "cell_type": "code",
   "execution_count": null,
   "metadata": {
    "colab": {
     "base_uri": "https://localhost:8080/"
    },
    "id": "uwBVq13nTaFk",
    "outputId": "30f7d257-e07c-46c6-9875-303960b15fcc"
   },
   "outputs": [
    {
     "name": "stdout",
     "output_type": "stream",
     "text": [
      "8311    NaN\n",
      "Name: 所在地, dtype: object\n"
     ]
    }
   ],
   "source": [
    "# リストをインデックス付きのSeriesに変換する\n",
    "places = pd.Series(data=places, index=df.index, name='所在地')\n",
    "# NaNのあるインデックス8459を確認\n",
    "print(places[places.isnull()])"
   ]
  },
  {
   "cell_type": "code",
   "execution_count": null,
   "metadata": {
    "id": "tA4TcKb_cwVL"
   },
   "outputs": [],
   "source": [
    "# Seriesを上書きする\n",
    "df['所在地'] = places"
   ]
  },
  {
   "cell_type": "code",
   "execution_count": null,
   "metadata": {
    "colab": {
     "base_uri": "https://localhost:8080/",
     "height": 80
    },
    "id": "4J2MvUqdU05q",
    "outputId": "477d06a9-369d-4916-d657-15cc0ffcd43f"
   },
   "outputs": [
    {
     "data": {
      "text/html": [
       "<div>\n",
       "<style scoped>\n",
       "    .dataframe tbody tr th:only-of-type {\n",
       "        vertical-align: middle;\n",
       "    }\n",
       "\n",
       "    .dataframe tbody tr th {\n",
       "        vertical-align: top;\n",
       "    }\n",
       "\n",
       "    .dataframe thead th {\n",
       "        text-align: right;\n",
       "    }\n",
       "</style>\n",
       "<table border=\"1\" class=\"dataframe\">\n",
       "  <thead>\n",
       "    <tr style=\"text-align: right;\">\n",
       "      <th></th>\n",
       "      <th>局名</th>\n",
       "      <th>都道府県</th>\n",
       "      <th>大規模小売店舗名</th>\n",
       "      <th>所在地</th>\n",
       "      <th>建物設置者名</th>\n",
       "      <th>小売業者名</th>\n",
       "      <th>届出日</th>\n",
       "      <th>開店予定日</th>\n",
       "      <th>店舗面積</th>\n",
       "    </tr>\n",
       "  </thead>\n",
       "  <tbody>\n",
       "    <tr>\n",
       "      <th>8311</th>\n",
       "      <td>関東</td>\n",
       "      <td>千葉県</td>\n",
       "      <td>（仮称）ユニクロ新鎌ヶ谷店</td>\n",
       "      <td>NaN</td>\n",
       "      <td>澁谷三郎</td>\n",
       "      <td>ユニクロ</td>\n",
       "      <td>2006-05-08</td>\n",
       "      <td>2007-03-01</td>\n",
       "      <td>1302</td>\n",
       "    </tr>\n",
       "  </tbody>\n",
       "</table>\n",
       "</div>"
      ],
      "text/plain": [
       "      局名 都道府県       大規模小売店舗名  所在地 建物設置者名 小売業者名        届出日      開店予定日  店舗面積\n",
       "8311  関東  千葉県  （仮称）ユニクロ新鎌ヶ谷店  NaN   澁谷三郎  ユニクロ 2006-05-08 2007-03-01  1302"
      ]
     },
     "execution_count": 42,
     "metadata": {
      "tags": []
     },
     "output_type": "execute_result"
    }
   ],
   "source": [
    "df[df['所在地'].isnull()]"
   ]
  },
  {
   "cell_type": "code",
   "execution_count": null,
   "metadata": {
    "id": "RUHKtrU6cv-U"
   },
   "outputs": [],
   "source": [
    "# この行を削除する\n",
    "df.dropna(how='any', inplace=True)"
   ]
  },
  {
   "cell_type": "code",
   "execution_count": null,
   "metadata": {
    "id": "AyeKiIR7cvy0"
   },
   "outputs": [],
   "source": [
    "# インデックス振り直し\n",
    "df.reset_index(drop=True, inplace=True)"
   ]
  },
  {
   "cell_type": "code",
   "execution_count": null,
   "metadata": {
    "colab": {
     "base_uri": "https://localhost:8080/",
     "height": 606
    },
    "id": "oL7xpIz8BSkU",
    "outputId": "7505782e-ebd6-4aba-fbb5-3dd3d8ea56d7"
   },
   "outputs": [
    {
     "data": {
      "text/html": [
       "<div>\n",
       "<style scoped>\n",
       "    .dataframe tbody tr th:only-of-type {\n",
       "        vertical-align: middle;\n",
       "    }\n",
       "\n",
       "    .dataframe tbody tr th {\n",
       "        vertical-align: top;\n",
       "    }\n",
       "\n",
       "    .dataframe thead th {\n",
       "        text-align: right;\n",
       "    }\n",
       "</style>\n",
       "<table border=\"1\" class=\"dataframe\">\n",
       "  <thead>\n",
       "    <tr style=\"text-align: right;\">\n",
       "      <th></th>\n",
       "      <th>局名</th>\n",
       "      <th>都道府県</th>\n",
       "      <th>大規模小売店舗名</th>\n",
       "      <th>所在地</th>\n",
       "      <th>建物設置者名</th>\n",
       "      <th>小売業者名</th>\n",
       "      <th>届出日</th>\n",
       "      <th>開店予定日</th>\n",
       "      <th>店舗面積</th>\n",
       "    </tr>\n",
       "  </thead>\n",
       "  <tbody>\n",
       "    <tr>\n",
       "      <th>0</th>\n",
       "      <td>北海道</td>\n",
       "      <td>北海道</td>\n",
       "      <td>木野タウン　ケーズデンキ棟</td>\n",
       "      <td>音更町木野大通東11丁目1-1</td>\n",
       "      <td>デンコードー</td>\n",
       "      <td>デンコードー</td>\n",
       "      <td>2019-04-16</td>\n",
       "      <td>2019-12-17</td>\n",
       "      <td>3134</td>\n",
       "    </tr>\n",
       "    <tr>\n",
       "      <th>1</th>\n",
       "      <td>北海道</td>\n",
       "      <td>北海道</td>\n",
       "      <td>旭川豊岡タウンプラザ　GU棟　SHOE・PLAZA棟</td>\n",
       "      <td>旭川市豊岡4条4丁目1-13</td>\n",
       "      <td>セントラルリーシングシステム</td>\n",
       "      <td>ジーユー</td>\n",
       "      <td>2019-09-04</td>\n",
       "      <td>2020-05-05</td>\n",
       "      <td>1454</td>\n",
       "    </tr>\n",
       "    <tr>\n",
       "      <th>2</th>\n",
       "      <td>北海道</td>\n",
       "      <td>北海道</td>\n",
       "      <td>リラィアブルブックス　運動公園通り店</td>\n",
       "      <td>釧路町桂木3丁目7番1、７番2、8番</td>\n",
       "      <td>リラィアブル</td>\n",
       "      <td>リラィアブル</td>\n",
       "      <td>2019-09-26</td>\n",
       "      <td>2020-05-27</td>\n",
       "      <td>1379</td>\n",
       "    </tr>\n",
       "    <tr>\n",
       "      <th>3</th>\n",
       "      <td>北海道</td>\n",
       "      <td>北海道</td>\n",
       "      <td>コープさっぽろ　とくら店</td>\n",
       "      <td>函館市戸倉町224番－４</td>\n",
       "      <td>コープさっぽろ</td>\n",
       "      <td>コープさっぽろ</td>\n",
       "      <td>2019-10-08</td>\n",
       "      <td>2020-06-09</td>\n",
       "      <td>1447</td>\n",
       "    </tr>\n",
       "    <tr>\n",
       "      <th>4</th>\n",
       "      <td>北海道</td>\n",
       "      <td>北海道</td>\n",
       "      <td>ツルハドラッグ旭川永山３条西店</td>\n",
       "      <td>旭川市永山３条８丁目76番１</td>\n",
       "      <td>北海道リース</td>\n",
       "      <td>ツルハ</td>\n",
       "      <td>2019-10-23</td>\n",
       "      <td>2020-06-24</td>\n",
       "      <td>1527</td>\n",
       "    </tr>\n",
       "    <tr>\n",
       "      <th>...</th>\n",
       "      <td>...</td>\n",
       "      <td>...</td>\n",
       "      <td>...</td>\n",
       "      <td>...</td>\n",
       "      <td>...</td>\n",
       "      <td>...</td>\n",
       "      <td>...</td>\n",
       "      <td>...</td>\n",
       "      <td>...</td>\n",
       "    </tr>\n",
       "    <tr>\n",
       "      <th>12316</th>\n",
       "      <td>九州</td>\n",
       "      <td>鹿児島県</td>\n",
       "      <td>（仮称）ドラッグコスモス鹿屋運動公園前店</td>\n",
       "      <td>鹿屋市西原２丁目104番１</td>\n",
       "      <td>コスモス薬品</td>\n",
       "      <td>コスモス薬品</td>\n",
       "      <td>2021-06-04</td>\n",
       "      <td>2022-02-05</td>\n",
       "      <td>1472</td>\n",
       "    </tr>\n",
       "    <tr>\n",
       "      <th>12317</th>\n",
       "      <td>九州</td>\n",
       "      <td>鹿児島県</td>\n",
       "      <td>Books　Misumi　鹿屋店</td>\n",
       "      <td>鹿屋市寿7-12-1</td>\n",
       "      <td>Misumi</td>\n",
       "      <td>Misumi</td>\n",
       "      <td>2021-06-23</td>\n",
       "      <td>2022-02-24</td>\n",
       "      <td>1774</td>\n",
       "    </tr>\n",
       "    <tr>\n",
       "      <th>12318</th>\n",
       "      <td>九州</td>\n",
       "      <td>福岡市</td>\n",
       "      <td>（仮称）福岡市青果市場跡地活用事業</td>\n",
       "      <td>福岡市博多区那珂六丁目351番地１</td>\n",
       "      <td>博多那珂６開発特定目的会社</td>\n",
       "      <td>未定</td>\n",
       "      <td>2021-05-14</td>\n",
       "      <td>2022-04-01</td>\n",
       "      <td>46380</td>\n",
       "    </tr>\n",
       "    <tr>\n",
       "      <th>12319</th>\n",
       "      <td>九州</td>\n",
       "      <td>熊本市</td>\n",
       "      <td>ロッキー水前寺店</td>\n",
       "      <td>熊本市中央区水前寺2丁目4-15</td>\n",
       "      <td>ロッキー</td>\n",
       "      <td>ロッキー</td>\n",
       "      <td>2021-05-06</td>\n",
       "      <td>2022-01-04</td>\n",
       "      <td>1670</td>\n",
       "    </tr>\n",
       "    <tr>\n",
       "      <th>12320</th>\n",
       "      <td>沖縄</td>\n",
       "      <td>沖縄県</td>\n",
       "      <td>バースデイ・シャンブル八重山ファッションモール店</td>\n",
       "      <td>石垣市字大浜南大浜４２８番５</td>\n",
       "      <td>株式会社しまむら</td>\n",
       "      <td>株式会社しまむら</td>\n",
       "      <td>2021-04-06</td>\n",
       "      <td>2021-12-05</td>\n",
       "      <td>1798</td>\n",
       "    </tr>\n",
       "  </tbody>\n",
       "</table>\n",
       "<p>12321 rows × 9 columns</p>\n",
       "</div>"
      ],
      "text/plain": [
       "        局名  都道府県                    大規模小売店舗名                 所在地  \\\n",
       "0      北海道   北海道               木野タウン　ケーズデンキ棟     音更町木野大通東11丁目1-1   \n",
       "1      北海道   北海道  旭川豊岡タウンプラザ　GU棟　SHOE・PLAZA棟      旭川市豊岡4条4丁目1-13   \n",
       "2      北海道   北海道          リラィアブルブックス　運動公園通り店  釧路町桂木3丁目7番1、７番2、8番   \n",
       "3      北海道   北海道                コープさっぽろ　とくら店        函館市戸倉町224番－４   \n",
       "4      北海道   北海道             ツルハドラッグ旭川永山３条西店      旭川市永山３条８丁目76番１   \n",
       "...    ...   ...                         ...                 ...   \n",
       "12316   九州  鹿児島県        （仮称）ドラッグコスモス鹿屋運動公園前店       鹿屋市西原２丁目104番１   \n",
       "12317   九州  鹿児島県            Books　Misumi　鹿屋店          鹿屋市寿7-12-1   \n",
       "12318   九州   福岡市           （仮称）福岡市青果市場跡地活用事業   福岡市博多区那珂六丁目351番地１   \n",
       "12319   九州   熊本市                    ロッキー水前寺店    熊本市中央区水前寺2丁目4-15   \n",
       "12320   沖縄   沖縄県    バースデイ・シャンブル八重山ファッションモール店      石垣市字大浜南大浜４２８番５   \n",
       "\n",
       "               建物設置者名     小売業者名        届出日      開店予定日   店舗面積  \n",
       "0              デンコードー    デンコードー 2019-04-16 2019-12-17   3134  \n",
       "1      セントラルリーシングシステム      ジーユー 2019-09-04 2020-05-05   1454  \n",
       "2              リラィアブル    リラィアブル 2019-09-26 2020-05-27   1379  \n",
       "3             コープさっぽろ   コープさっぽろ 2019-10-08 2020-06-09   1447  \n",
       "4              北海道リース       ツルハ 2019-10-23 2020-06-24   1527  \n",
       "...               ...       ...        ...        ...    ...  \n",
       "12316          コスモス薬品    コスモス薬品 2021-06-04 2022-02-05   1472  \n",
       "12317          Misumi    Misumi 2021-06-23 2022-02-24   1774  \n",
       "12318   博多那珂６開発特定目的会社        未定 2021-05-14 2022-04-01  46380  \n",
       "12319            ロッキー      ロッキー 2021-05-06 2022-01-04   1670  \n",
       "12320        株式会社しまむら  株式会社しまむら 2021-04-06 2021-12-05   1798  \n",
       "\n",
       "[12321 rows x 9 columns]"
      ]
     },
     "execution_count": 45,
     "metadata": {
      "tags": []
     },
     "output_type": "execute_result"
    }
   ],
   "source": [
    "df"
   ]
  },
  {
   "cell_type": "code",
   "execution_count": null,
   "metadata": {
    "id": "sRlzx0Md8h_W"
   },
   "outputs": [],
   "source": [
    "dir = 'drive/MyDrive/data/'\n",
    "\n",
    "# 不要な表記削除処理まで済んだデータをsession2_7.csvとして保存しておく\n",
    "# インデックスは出力しない\n",
    "df.to_csv(dir+'session2_7.csv', index=False)"
   ]
  },
  {
   "cell_type": "markdown",
   "metadata": {
    "id": "sjnfU9hw7zrY"
   },
   "source": [
    "### 緯度軽度を取得する\n",
    "\n",
    "https://qiita.com/paulxll/items/7bc4a5b0529a8d784673"
   ]
  },
  {
   "cell_type": "markdown",
   "metadata": {
    "id": "zwhins4a8ihz"
   },
   "source": [
    "## 表記揺れの修正\n"
   ]
  },
  {
   "cell_type": "markdown",
   "metadata": {
    "id": "ZRrc9bovoPqF"
   },
   "source": [
    "### 小売業者名の表記の統一"
   ]
  },
  {
   "cell_type": "code",
   "execution_count": null,
   "metadata": {
    "colab": {
     "base_uri": "https://localhost:8080/"
    },
    "id": "nHgGf2C24xg_",
    "outputId": "ebd6c890-3379-46ef-971c-9997582df5c4"
   },
   "outputs": [
    {
     "data": {
      "text/plain": [
       "1923"
      ]
     },
     "execution_count": 47,
     "metadata": {
      "tags": []
     },
     "output_type": "execute_result"
    }
   ],
   "source": [
    "len(df['小売業者名'].unique())"
   ]
  },
  {
   "cell_type": "code",
   "execution_count": null,
   "metadata": {
    "id": "de7m_WOmWGlD"
   },
   "outputs": [],
   "source": [
    "# 株式会社の表示を削除する\n",
    "\n",
    "def clean_labels(data, replace_at=''):\n",
    "        \n",
    "    data = re.sub('株式会社|㈱|（株）|\\(|(株)|\\)|ほか|他', replace_at, data)\n",
    "\n",
    "    data = ''.join(data.split())\n",
    "\n",
    "    return data"
   ]
  },
  {
   "cell_type": "code",
   "execution_count": null,
   "metadata": {
    "id": "XAr6kPPGWk46"
   },
   "outputs": [],
   "source": [
    "# 横棒、中黒記号の類似を統一\n",
    "\n",
    "def replace_symbol(data, replace_line='ー', replace_point='・'):\n",
    "    \n",
    "    data = re.sub('－|-|‐|−|‒|—|–|―|ｰ|─|━|ㅡ|ـ|⁻|₋', replace_line, data)\n",
    "    data = re.sub('･|・|・|・|•', replace_point, data)\n",
    "\n",
    "    return data"
   ]
  },
  {
   "cell_type": "code",
   "execution_count": null,
   "metadata": {
    "id": "3GT39Wa2Wo6n"
   },
   "outputs": [],
   "source": [
    "# 表記ゆれ\n",
    "\n",
    "def fix_spelling(col):\n",
    "\n",
    "    retailer = []\n",
    "    for d in col:\n",
    "        \n",
    "        d = clean_labels(d, replace_at='')\n",
    "        d = replace_symbol(d, replace_line='ー', replace_point='・')\n",
    "        d = d.replace('“', '') # ダブルコロン削除\n",
    "        d = d.upper() # 大文字に統一\n",
    "        d = mojimoji.han_to_zen(d) # 半角に統一\n",
    "                \n",
    "        if 'セブン' in d:\n",
    "            d = re.sub(r'セブンイレブン', 'セブンーイレブン', d)\n",
    "            d = re.sub('・ジャパン|ジャパン', '', d)\n",
    "            \n",
    "        if 'ルシア' in d:\n",
    "            d = re.sub(r'ウェルシア', 'ウエルシア', d)\n",
    "            d = d.replace('薬局', '')\n",
    "            \n",
    "        if 'アイ・ティー' in d:\n",
    "            d = re.sub(r'アイ・ティーエックス', 'アイ・ティー・エックス', d)\n",
    "            \n",
    "        # 業者名が連名になっているところは改行する\n",
    "        if '、' in d:\n",
    "            d = d.replace('、', '・\\n')       \n",
    "\n",
    "        retailer.append(d)\n",
    "        \n",
    "    return retailer"
   ]
  },
  {
   "cell_type": "code",
   "execution_count": null,
   "metadata": {
    "id": "7VCqr689WrcM"
   },
   "outputs": [],
   "source": [
    "retailer = fix_spelling(df['小売業者名'])"
   ]
  },
  {
   "cell_type": "code",
   "execution_count": null,
   "metadata": {
    "id": "R19nlnEqY84V"
   },
   "outputs": [],
   "source": [
    "# リストをインデックス付きのSeriesに変換する\n",
    "retailer = pd.Series(data=retailer, index=df.index, name='小売業者名')\n",
    "# このSeriesで「小売業者名」を上書きする\n",
    "df['小売業者名'] = retailer"
   ]
  },
  {
   "cell_type": "code",
   "execution_count": null,
   "metadata": {
    "colab": {
     "base_uri": "https://localhost:8080/",
     "height": 419
    },
    "id": "1_AGd3rNbYFr",
    "outputId": "f5c8c347-02fb-46da-e649-6f874ed6abcd"
   },
   "outputs": [
    {
     "data": {
      "text/html": [
       "<div>\n",
       "<style scoped>\n",
       "    .dataframe tbody tr th:only-of-type {\n",
       "        vertical-align: middle;\n",
       "    }\n",
       "\n",
       "    .dataframe tbody tr th {\n",
       "        vertical-align: top;\n",
       "    }\n",
       "\n",
       "    .dataframe thead th {\n",
       "        text-align: right;\n",
       "    }\n",
       "</style>\n",
       "<table border=\"1\" class=\"dataframe\">\n",
       "  <thead>\n",
       "    <tr style=\"text-align: right;\">\n",
       "      <th></th>\n",
       "      <th>小売業者名</th>\n",
       "    </tr>\n",
       "  </thead>\n",
       "  <tbody>\n",
       "    <tr>\n",
       "      <th>コスモス薬品</th>\n",
       "      <td>1008</td>\n",
       "    </tr>\n",
       "    <tr>\n",
       "      <th>ヤマダ電機</th>\n",
       "      <td>397</td>\n",
       "    </tr>\n",
       "    <tr>\n",
       "      <th>しまむら</th>\n",
       "      <td>367</td>\n",
       "    </tr>\n",
       "    <tr>\n",
       "      <th>未定</th>\n",
       "      <td>286</td>\n",
       "    </tr>\n",
       "    <tr>\n",
       "      <th>ニトリ</th>\n",
       "      <td>253</td>\n",
       "    </tr>\n",
       "    <tr>\n",
       "      <th>...</th>\n",
       "      <td>...</td>\n",
       "    </tr>\n",
       "    <tr>\n",
       "      <th>文苑堂</th>\n",
       "      <td>1</td>\n",
       "    </tr>\n",
       "    <tr>\n",
       "      <th>ベルナ</th>\n",
       "      <td>1</td>\n",
       "    </tr>\n",
       "    <tr>\n",
       "      <th>ダイサダ</th>\n",
       "      <td>1</td>\n",
       "    </tr>\n",
       "    <tr>\n",
       "      <th>シバタ</th>\n",
       "      <td>1</td>\n",
       "    </tr>\n",
       "    <tr>\n",
       "      <th></th>\n",
       "      <td>1</td>\n",
       "    </tr>\n",
       "  </tbody>\n",
       "</table>\n",
       "<p>1578 rows × 1 columns</p>\n",
       "</div>"
      ],
      "text/plain": [
       "        小売業者名\n",
       "コスモス薬品   1008\n",
       "ヤマダ電機     397\n",
       "しまむら      367\n",
       "未定        286\n",
       "ニトリ       253\n",
       "...       ...\n",
       "文苑堂         1\n",
       "ベルナ         1\n",
       "ダイサダ        1\n",
       "シバタ         1\n",
       "            1\n",
       "\n",
       "[1578 rows x 1 columns]"
      ]
     },
     "execution_count": 53,
     "metadata": {
      "tags": []
     },
     "output_type": "execute_result"
    }
   ],
   "source": [
    "pd.DataFrame(df['小売業者名'].value_counts())"
   ]
  },
  {
   "cell_type": "markdown",
   "metadata": {
    "id": "tlv_xo0An-OB"
   },
   "source": [
    "### 都道府県名の表記の統一"
   ]
  },
  {
   "cell_type": "code",
   "execution_count": null,
   "metadata": {
    "colab": {
     "base_uri": "https://localhost:8080/"
    },
    "id": "aINye0xytza0",
    "outputId": "971b104c-be96-459b-b66e-ada920d83df7"
   },
   "outputs": [
    {
     "name": "stdout",
     "output_type": "stream",
     "text": [
      "13       札幌市\n",
      "14       札幌市\n",
      "15       札幌市\n",
      "16       札幌市\n",
      "17       札幌市\n",
      "        ... \n",
      "12289    岡山市\n",
      "12290    広島市\n",
      "12291    岡山市\n",
      "12318    福岡市\n",
      "12319    熊本市\n",
      "Name: 都道府県, Length: 2085, dtype: object\n",
      "----------------\n",
      "['札幌市' '仙台市' 'さいたま市' '千葉市' '横浜市' '川崎市' '新潟市' '静岡市' '浜松市' '名古屋市' '京都市'\n",
      " '大阪市' '神戸市' '堺市' '広島市' '福岡市' '北九州市' '熊本市' '相模原市' '岡山市']\n",
      "20\n"
     ]
    }
   ],
   "source": [
    "# 都道府県名に市の名前が混ざっている\n",
    "\n",
    "print(df['都道府県'][df['都道府県'].str.contains('市')])\n",
    "print('----------------')\n",
    "print(df['都道府県'][df['都道府県'].str.contains('市')].unique())\n",
    "print(len(df['都道府県'][df['都道府県'].str.contains('市')].unique()))"
   ]
  },
  {
   "cell_type": "code",
   "execution_count": null,
   "metadata": {
    "colab": {
     "base_uri": "https://localhost:8080/"
    },
    "id": "WybKKrMoRRxE",
    "outputId": "14ef8558-9cbc-4d6e-fc66-a68d7abd5d3a"
   },
   "outputs": [
    {
     "data": {
      "text/plain": [
       "0        False\n",
       "1        False\n",
       "2        False\n",
       "3        False\n",
       "4        False\n",
       "         ...  \n",
       "12316    False\n",
       "12317    False\n",
       "12318     True\n",
       "12319     True\n",
       "12320    False\n",
       "Name: 都道府県, Length: 12321, dtype: bool"
      ]
     },
     "execution_count": 55,
     "metadata": {
      "tags": []
     },
     "output_type": "execute_result"
    }
   ],
   "source": [
    "# フラグにする\n",
    "city_flg = df['都道府県'].str.contains('市')\n",
    "city_flg"
   ]
  },
  {
   "cell_type": "code",
   "execution_count": null,
   "metadata": {
    "colab": {
     "base_uri": "https://localhost:8080/"
    },
    "id": "eIB_v6GKuOXx",
    "outputId": "c03e050a-b0a8-4c69-c7b1-f318a6ed57e3"
   },
   "outputs": [
    {
     "data": {
      "text/plain": [
       "array(['北海道', '青森県', '岩手県', '宮城県', '秋田県', '山形県', '福島県', '茨城県', '栃木県',\n",
       "       '群馬県', '埼玉県', '千葉県', '東京都', '神奈川県', '新潟県', '山梨県', '長野県', '静岡県',\n",
       "       '愛知県', '岐阜県', '三重県', '富山県', '石川県', '福井県', '滋賀県', '京都府', '大阪府',\n",
       "       '兵庫県', '奈良県', '和歌山県', '鳥取県', '島根県', '岡山県', '広島県', '山口県', '徳島県',\n",
       "       '香川県', '愛媛県', '高知県', '福岡県', '佐賀県', '長崎県', '熊本県', '宮崎県', '鹿児島県',\n",
       "       '沖縄県', '大分県', '沖縄', '富山', '石川'], dtype=object)"
      ]
     },
     "execution_count": 56,
     "metadata": {
      "tags": []
     },
     "output_type": "execute_result"
    }
   ],
   "source": [
    "# 上記を除くと、「県」が抜けている表記が3つある\n",
    "#  '富山', '石川', '沖縄'\n",
    "\n",
    "df['都道府県'][~city_flg].unique()"
   ]
  },
  {
   "cell_type": "markdown",
   "metadata": {
    "id": "_RPMYbDhu34I"
   },
   "source": [
    "### 都道府県名と市町村名の対応"
   ]
  },
  {
   "cell_type": "code",
   "execution_count": null,
   "metadata": {
    "id": "43P2FJiTn9xZ"
   },
   "outputs": [],
   "source": [
    "import os\n",
    "import pprint\n",
    "import time\n",
    "import urllib.error\n",
    "import urllib.request\n",
    "\n",
    "def download_file(url, dst_path):\n",
    "    try:\n",
    "        with urllib.request.urlopen(url) as web_file:\n",
    "            data = web_file.read()\n",
    "            with open(dst_path, mode='wb') as local_file:\n",
    "                local_file.write(data)\n",
    "    except urllib.error.URLError as e:\n",
    "        print(e)\n",
    "\n",
    "def download_file_to_dir(url, dst_dir):\n",
    "    download_file(url, os.path.join(dst_dir, os.path.basename(url)))"
   ]
  },
  {
   "cell_type": "code",
   "execution_count": null,
   "metadata": {
    "id": "Nnzx0BKWmPyr"
   },
   "outputs": [],
   "source": [
    "# ダウンロードurlからzipファイルを取得する\n",
    "\"\"\"\n",
    "住所データcsv\n",
    "http://jusyo.jp/csv/new.php\n",
    "\"\"\"\n",
    "\n",
    "url = 'http://jusyo.jp/downloads/new/csv/csv_zenkoku.zip'\n",
    "download_file_to_dir(url, dir)"
   ]
  },
  {
   "cell_type": "code",
   "execution_count": null,
   "metadata": {
    "id": "L1YbxBPNpEr3"
   },
   "outputs": [],
   "source": [
    "import zipfile\n",
    "import glob\n",
    " \n",
    "files = glob.glob(dir + '*.zip')\n",
    "\n",
    "with zipfile.ZipFile(files[0]) as existing_zip:\n",
    "    existing_zip.extractall(dir)"
   ]
  },
  {
   "cell_type": "code",
   "execution_count": null,
   "metadata": {
    "colab": {
     "base_uri": "https://localhost:8080/",
     "height": 1000
    },
    "id": "1WxvbePkiwm0",
    "outputId": "a9208f7e-4674-45d8-f850-2fe2958d4b13"
   },
   "outputs": [
    {
     "name": "stderr",
     "output_type": "stream",
     "text": [
      "/usr/local/lib/python3.7/dist-packages/IPython/core/interactiveshell.py:2718: DtypeWarning: Columns (14) have mixed types.Specify dtype option on import or set low_memory=False.\n",
      "  interactivity=interactivity, compiler=compiler, result=result)\n"
     ]
    },
    {
     "data": {
      "text/html": [
       "<div>\n",
       "<style scoped>\n",
       "    .dataframe tbody tr th:only-of-type {\n",
       "        vertical-align: middle;\n",
       "    }\n",
       "\n",
       "    .dataframe tbody tr th {\n",
       "        vertical-align: top;\n",
       "    }\n",
       "\n",
       "    .dataframe thead th {\n",
       "        text-align: right;\n",
       "    }\n",
       "</style>\n",
       "<table border=\"1\" class=\"dataframe\">\n",
       "  <thead>\n",
       "    <tr style=\"text-align: right;\">\n",
       "      <th></th>\n",
       "      <th>住所CD</th>\n",
       "      <th>都道府県CD</th>\n",
       "      <th>市区町村CD</th>\n",
       "      <th>町域CD</th>\n",
       "      <th>郵便番号</th>\n",
       "      <th>事業所フラグ</th>\n",
       "      <th>廃止フラグ</th>\n",
       "      <th>都道府県</th>\n",
       "      <th>都道府県カナ</th>\n",
       "      <th>市区町村</th>\n",
       "      <th>市区町村カナ</th>\n",
       "      <th>町域</th>\n",
       "      <th>町域カナ</th>\n",
       "      <th>町域補足</th>\n",
       "      <th>京都通り名</th>\n",
       "      <th>字丁目</th>\n",
       "      <th>字丁目カナ</th>\n",
       "      <th>補足</th>\n",
       "      <th>事業所名</th>\n",
       "      <th>事業所名カナ</th>\n",
       "      <th>事業所住所</th>\n",
       "      <th>新住所CD</th>\n",
       "    </tr>\n",
       "  </thead>\n",
       "  <tbody>\n",
       "    <tr>\n",
       "      <th>0</th>\n",
       "      <td>60000000</td>\n",
       "      <td>1</td>\n",
       "      <td>1101</td>\n",
       "      <td>11010000</td>\n",
       "      <td>060-0000</td>\n",
       "      <td>0</td>\n",
       "      <td>0</td>\n",
       "      <td>北海道</td>\n",
       "      <td>ホッカイドウ</td>\n",
       "      <td>札幌市中央区</td>\n",
       "      <td>サッポロシチュウオウク</td>\n",
       "      <td>NaN</td>\n",
       "      <td></td>\n",
       "      <td>（該当なし）</td>\n",
       "      <td>NaN</td>\n",
       "      <td>NaN</td>\n",
       "      <td>NaN</td>\n",
       "      <td>NaN</td>\n",
       "      <td>NaN</td>\n",
       "      <td>NaN</td>\n",
       "      <td>NaN</td>\n",
       "      <td>NaN</td>\n",
       "    </tr>\n",
       "    <tr>\n",
       "      <th>1</th>\n",
       "      <td>60872100</td>\n",
       "      <td>1</td>\n",
       "      <td>1101</td>\n",
       "      <td>11010000</td>\n",
       "      <td>060-8721</td>\n",
       "      <td>1</td>\n",
       "      <td>0</td>\n",
       "      <td>北海道</td>\n",
       "      <td>ホッカイドウ</td>\n",
       "      <td>札幌市中央区</td>\n",
       "      <td>サッポロシチュウオウク</td>\n",
       "      <td>NaN</td>\n",
       "      <td></td>\n",
       "      <td>（該当なし）</td>\n",
       "      <td>NaN</td>\n",
       "      <td>NaN</td>\n",
       "      <td>NaN</td>\n",
       "      <td>NaN</td>\n",
       "      <td>大丸　株式会社　紙包材営業本部</td>\n",
       "      <td>ダイマル　カブシキガイシヤ　カミホウザイエイギヨウホンブ</td>\n",
       "      <td>北３条西１４丁目２番</td>\n",
       "      <td>NaN</td>\n",
       "    </tr>\n",
       "    <tr>\n",
       "      <th>2</th>\n",
       "      <td>60860200</td>\n",
       "      <td>1</td>\n",
       "      <td>1101</td>\n",
       "      <td>11010000</td>\n",
       "      <td>060-8602</td>\n",
       "      <td>1</td>\n",
       "      <td>0</td>\n",
       "      <td>北海道</td>\n",
       "      <td>ホッカイドウ</td>\n",
       "      <td>札幌市中央区</td>\n",
       "      <td>サッポロシチュウオウク</td>\n",
       "      <td>NaN</td>\n",
       "      <td></td>\n",
       "      <td>（該当なし）</td>\n",
       "      <td>NaN</td>\n",
       "      <td>NaN</td>\n",
       "      <td>NaN</td>\n",
       "      <td>NaN</td>\n",
       "      <td>株式会社　朝日新聞社　北海道支社</td>\n",
       "      <td>カブシキカイシヤ　アサヒシンブンシヤ　ホツカイドウシシヤ</td>\n",
       "      <td>北１条西１丁目６番地さっぽろ創生スクエア９階</td>\n",
       "      <td>NaN</td>\n",
       "    </tr>\n",
       "    <tr>\n",
       "      <th>3</th>\n",
       "      <td>60855200</td>\n",
       "      <td>1</td>\n",
       "      <td>1101</td>\n",
       "      <td>11010000</td>\n",
       "      <td>060-8552</td>\n",
       "      <td>1</td>\n",
       "      <td>0</td>\n",
       "      <td>北海道</td>\n",
       "      <td>ホッカイドウ</td>\n",
       "      <td>札幌市中央区</td>\n",
       "      <td>サッポロシチュウオウク</td>\n",
       "      <td>NaN</td>\n",
       "      <td></td>\n",
       "      <td>（該当なし）</td>\n",
       "      <td>NaN</td>\n",
       "      <td>NaN</td>\n",
       "      <td>NaN</td>\n",
       "      <td>NaN</td>\n",
       "      <td>損害保険ジャパン日本興亜　株式会社</td>\n",
       "      <td>ソンガイホケンジヤパンニツポンコウア　カブシキガイシヤ</td>\n",
       "      <td>北１条西６丁目２番地損保ジャパン日本興亜札幌ビル</td>\n",
       "      <td>NaN</td>\n",
       "    </tr>\n",
       "    <tr>\n",
       "      <th>4</th>\n",
       "      <td>60850400</td>\n",
       "      <td>1</td>\n",
       "      <td>1101</td>\n",
       "      <td>11010000</td>\n",
       "      <td>060-8504</td>\n",
       "      <td>1</td>\n",
       "      <td>0</td>\n",
       "      <td>北海道</td>\n",
       "      <td>ホッカイドウ</td>\n",
       "      <td>札幌市中央区</td>\n",
       "      <td>サッポロシチュウオウク</td>\n",
       "      <td>NaN</td>\n",
       "      <td></td>\n",
       "      <td>（該当なし）</td>\n",
       "      <td>NaN</td>\n",
       "      <td>NaN</td>\n",
       "      <td>NaN</td>\n",
       "      <td>NaN</td>\n",
       "      <td>富士通　株式会社　北海道支社</td>\n",
       "      <td>フジツウ　カブシキガイシヤ　ホツカイドウシシヤ</td>\n",
       "      <td>北２条西４丁目１番地札幌三井ＪＰビルディング</td>\n",
       "      <td>NaN</td>\n",
       "    </tr>\n",
       "    <tr>\n",
       "      <th>...</th>\n",
       "      <td>...</td>\n",
       "      <td>...</td>\n",
       "      <td>...</td>\n",
       "      <td>...</td>\n",
       "      <td>...</td>\n",
       "      <td>...</td>\n",
       "      <td>...</td>\n",
       "      <td>...</td>\n",
       "      <td>...</td>\n",
       "      <td>...</td>\n",
       "      <td>...</td>\n",
       "      <td>...</td>\n",
       "      <td>...</td>\n",
       "      <td>...</td>\n",
       "      <td>...</td>\n",
       "      <td>...</td>\n",
       "      <td>...</td>\n",
       "      <td>...</td>\n",
       "      <td>...</td>\n",
       "      <td>...</td>\n",
       "      <td>...</td>\n",
       "      <td>...</td>\n",
       "    </tr>\n",
       "    <tr>\n",
       "      <th>149865</th>\n",
       "      <td>907175100</td>\n",
       "      <td>47</td>\n",
       "      <td>47381</td>\n",
       "      <td>473810012</td>\n",
       "      <td>907-1751</td>\n",
       "      <td>0</td>\n",
       "      <td>0</td>\n",
       "      <td>沖縄県</td>\n",
       "      <td>オキナワケン</td>\n",
       "      <td>八重山郡竹富町</td>\n",
       "      <td>ヤエヤマグンタケトミチョウ</td>\n",
       "      <td>波照間</td>\n",
       "      <td>ハテルマ</td>\n",
       "      <td>NaN</td>\n",
       "      <td>NaN</td>\n",
       "      <td>NaN</td>\n",
       "      <td>NaN</td>\n",
       "      <td>NaN</td>\n",
       "      <td>NaN</td>\n",
       "      <td>NaN</td>\n",
       "      <td>NaN</td>\n",
       "      <td>NaN</td>\n",
       "    </tr>\n",
       "    <tr>\n",
       "      <th>149866</th>\n",
       "      <td>907154400</td>\n",
       "      <td>47</td>\n",
       "      <td>47381</td>\n",
       "      <td>473810013</td>\n",
       "      <td>907-1544</td>\n",
       "      <td>0</td>\n",
       "      <td>0</td>\n",
       "      <td>沖縄県</td>\n",
       "      <td>オキナワケン</td>\n",
       "      <td>八重山郡竹富町</td>\n",
       "      <td>ヤエヤマグンタケトミチョウ</td>\n",
       "      <td>鳩間</td>\n",
       "      <td>ハトマ</td>\n",
       "      <td>NaN</td>\n",
       "      <td>NaN</td>\n",
       "      <td>NaN</td>\n",
       "      <td>NaN</td>\n",
       "      <td>NaN</td>\n",
       "      <td>NaN</td>\n",
       "      <td>NaN</td>\n",
       "      <td>NaN</td>\n",
       "      <td>NaN</td>\n",
       "    </tr>\n",
       "    <tr>\n",
       "      <th>149867</th>\n",
       "      <td>907180000</td>\n",
       "      <td>47</td>\n",
       "      <td>47382</td>\n",
       "      <td>473820000</td>\n",
       "      <td>907-1800</td>\n",
       "      <td>0</td>\n",
       "      <td>0</td>\n",
       "      <td>沖縄県</td>\n",
       "      <td>オキナワケン</td>\n",
       "      <td>八重山郡与那国町</td>\n",
       "      <td>ヤエヤマグンヨナグニチョウ</td>\n",
       "      <td>NaN</td>\n",
       "      <td></td>\n",
       "      <td>（該当なし）</td>\n",
       "      <td>NaN</td>\n",
       "      <td>NaN</td>\n",
       "      <td>NaN</td>\n",
       "      <td>NaN</td>\n",
       "      <td>NaN</td>\n",
       "      <td>NaN</td>\n",
       "      <td>NaN</td>\n",
       "      <td>NaN</td>\n",
       "    </tr>\n",
       "    <tr>\n",
       "      <th>149868</th>\n",
       "      <td>907180100</td>\n",
       "      <td>47</td>\n",
       "      <td>47382</td>\n",
       "      <td>473820001</td>\n",
       "      <td>907-1801</td>\n",
       "      <td>0</td>\n",
       "      <td>0</td>\n",
       "      <td>沖縄県</td>\n",
       "      <td>オキナワケン</td>\n",
       "      <td>八重山郡与那国町</td>\n",
       "      <td>ヤエヤマグンヨナグニチョウ</td>\n",
       "      <td>与那国</td>\n",
       "      <td>ヨナグニ</td>\n",
       "      <td>NaN</td>\n",
       "      <td>NaN</td>\n",
       "      <td>NaN</td>\n",
       "      <td>NaN</td>\n",
       "      <td>NaN</td>\n",
       "      <td>NaN</td>\n",
       "      <td>NaN</td>\n",
       "      <td>NaN</td>\n",
       "      <td>NaN</td>\n",
       "    </tr>\n",
       "    <tr>\n",
       "      <th>149869</th>\n",
       "      <td>907189200</td>\n",
       "      <td>47</td>\n",
       "      <td>47382</td>\n",
       "      <td>473820001</td>\n",
       "      <td>907-1892</td>\n",
       "      <td>1</td>\n",
       "      <td>0</td>\n",
       "      <td>沖縄県</td>\n",
       "      <td>オキナワケン</td>\n",
       "      <td>八重山郡与那国町</td>\n",
       "      <td>ヤエヤマグンヨナグニチョウ</td>\n",
       "      <td>与那国</td>\n",
       "      <td>ヨナグニ</td>\n",
       "      <td>NaN</td>\n",
       "      <td>NaN</td>\n",
       "      <td>NaN</td>\n",
       "      <td>NaN</td>\n",
       "      <td>NaN</td>\n",
       "      <td>与那国町役場</td>\n",
       "      <td>ヨナグニチヨウヤクバ</td>\n",
       "      <td>与那国１２９</td>\n",
       "      <td>NaN</td>\n",
       "    </tr>\n",
       "  </tbody>\n",
       "</table>\n",
       "<p>149870 rows × 22 columns</p>\n",
       "</div>"
      ],
      "text/plain": [
       "             住所CD  都道府県CD  市区町村CD       町域CD      郵便番号  事業所フラグ  廃止フラグ 都道府県  \\\n",
       "0        60000000       1    1101   11010000  060-0000       0      0  北海道   \n",
       "1        60872100       1    1101   11010000  060-8721       1      0  北海道   \n",
       "2        60860200       1    1101   11010000  060-8602       1      0  北海道   \n",
       "3        60855200       1    1101   11010000  060-8552       1      0  北海道   \n",
       "4        60850400       1    1101   11010000  060-8504       1      0  北海道   \n",
       "...           ...     ...     ...        ...       ...     ...    ...  ...   \n",
       "149865  907175100      47   47381  473810012  907-1751       0      0  沖縄県   \n",
       "149866  907154400      47   47381  473810013  907-1544       0      0  沖縄県   \n",
       "149867  907180000      47   47382  473820000  907-1800       0      0  沖縄県   \n",
       "149868  907180100      47   47382  473820001  907-1801       0      0  沖縄県   \n",
       "149869  907189200      47   47382  473820001  907-1892       1      0  沖縄県   \n",
       "\n",
       "        都道府県カナ      市区町村         市区町村カナ   町域  町域カナ    町域補足 京都通り名  字丁目 字丁目カナ  \\\n",
       "0       ホッカイドウ    札幌市中央区    サッポロシチュウオウク  NaN     　  （該当なし）   NaN  NaN   NaN   \n",
       "1       ホッカイドウ    札幌市中央区    サッポロシチュウオウク  NaN     　  （該当なし）   NaN  NaN   NaN   \n",
       "2       ホッカイドウ    札幌市中央区    サッポロシチュウオウク  NaN     　  （該当なし）   NaN  NaN   NaN   \n",
       "3       ホッカイドウ    札幌市中央区    サッポロシチュウオウク  NaN     　  （該当なし）   NaN  NaN   NaN   \n",
       "4       ホッカイドウ    札幌市中央区    サッポロシチュウオウク  NaN     　  （該当なし）   NaN  NaN   NaN   \n",
       "...        ...       ...            ...  ...   ...     ...   ...  ...   ...   \n",
       "149865  オキナワケン   八重山郡竹富町  ヤエヤマグンタケトミチョウ  波照間  ハテルマ     NaN   NaN  NaN   NaN   \n",
       "149866  オキナワケン   八重山郡竹富町  ヤエヤマグンタケトミチョウ   鳩間   ハトマ     NaN   NaN  NaN   NaN   \n",
       "149867  オキナワケン  八重山郡与那国町  ヤエヤマグンヨナグニチョウ  NaN     　  （該当なし）   NaN  NaN   NaN   \n",
       "149868  オキナワケン  八重山郡与那国町  ヤエヤマグンヨナグニチョウ  与那国  ヨナグニ     NaN   NaN  NaN   NaN   \n",
       "149869  オキナワケン  八重山郡与那国町  ヤエヤマグンヨナグニチョウ  与那国  ヨナグニ     NaN   NaN  NaN   NaN   \n",
       "\n",
       "         補足               事業所名                        事業所名カナ  \\\n",
       "0       NaN                NaN                           NaN   \n",
       "1       NaN    大丸　株式会社　紙包材営業本部  ダイマル　カブシキガイシヤ　カミホウザイエイギヨウホンブ   \n",
       "2       NaN   株式会社　朝日新聞社　北海道支社  カブシキカイシヤ　アサヒシンブンシヤ　ホツカイドウシシヤ   \n",
       "3       NaN  損害保険ジャパン日本興亜　株式会社   ソンガイホケンジヤパンニツポンコウア　カブシキガイシヤ   \n",
       "4       NaN     富士通　株式会社　北海道支社       フジツウ　カブシキガイシヤ　ホツカイドウシシヤ   \n",
       "...     ...                ...                           ...   \n",
       "149865  NaN                NaN                           NaN   \n",
       "149866  NaN                NaN                           NaN   \n",
       "149867  NaN                NaN                           NaN   \n",
       "149868  NaN                NaN                           NaN   \n",
       "149869  NaN             与那国町役場                    ヨナグニチヨウヤクバ   \n",
       "\n",
       "                           事業所住所  新住所CD  \n",
       "0                            NaN    NaN  \n",
       "1                     北３条西１４丁目２番    NaN  \n",
       "2         北１条西１丁目６番地さっぽろ創生スクエア９階    NaN  \n",
       "3       北１条西６丁目２番地損保ジャパン日本興亜札幌ビル    NaN  \n",
       "4         北２条西４丁目１番地札幌三井ＪＰビルディング    NaN  \n",
       "...                          ...    ...  \n",
       "149865                       NaN    NaN  \n",
       "149866                       NaN    NaN  \n",
       "149867                       NaN    NaN  \n",
       "149868                       NaN    NaN  \n",
       "149869                    与那国１２９    NaN  \n",
       "\n",
       "[149870 rows x 22 columns]"
      ]
     },
     "execution_count": 60,
     "metadata": {
      "tags": []
     },
     "output_type": "execute_result"
    }
   ],
   "source": [
    "zenkoku = pd.read_csv(dir + 'zenkoku.csv', encoding='cp932')\n",
    "zenkoku"
   ]
  },
  {
   "cell_type": "code",
   "execution_count": null,
   "metadata": {
    "id": "5H1oZ8JycPqj"
   },
   "outputs": [],
   "source": [
    "def predict_logic(data, city):     \n",
    "\n",
    "    hit_area = data[data['市区町村'].str.contains(city)]\n",
    "\n",
    "    city_candidates = hit_area['都道府県'].unique()\n",
    "            \n",
    "    return city_candidates"
   ]
  },
  {
   "cell_type": "code",
   "execution_count": null,
   "metadata": {
    "colab": {
     "base_uri": "https://localhost:8080/",
     "height": 35
    },
    "id": "7hvC-GMNtrA3",
    "outputId": "4b0f32cf-d39d-4dc0-f5fe-dcebc64b8a4b"
   },
   "outputs": [
    {
     "data": {
      "application/vnd.google.colaboratory.intrinsic+json": {
       "type": "string"
      },
      "text/plain": [
       "'福岡県'"
      ]
     },
     "execution_count": 62,
     "metadata": {
      "tags": []
     },
     "output_type": "execute_result"
    }
   ],
   "source": [
    "# お試し\n",
    "predict_logic(zenkoku, '北九州市')[0]"
   ]
  },
  {
   "cell_type": "code",
   "execution_count": null,
   "metadata": {
    "colab": {
     "base_uri": "https://localhost:8080/"
    },
    "id": "iWB7skA2vHx6",
    "outputId": "a9d092a3-34ae-4e37-9cc4-f1aca78a7489"
   },
   "outputs": [
    {
     "data": {
      "text/plain": [
       "{'さいたま市': array(['埼玉県'], dtype=object),\n",
       " '京都市': array(['京都府'], dtype=object),\n",
       " '仙台市': array(['宮城県'], dtype=object),\n",
       " '北九州市': array(['福岡県'], dtype=object),\n",
       " '千葉市': array(['千葉県'], dtype=object),\n",
       " '名古屋市': array(['愛知県'], dtype=object),\n",
       " '堺市': array(['大阪府'], dtype=object),\n",
       " '大阪市': array(['大阪府'], dtype=object),\n",
       " '岡山市': array(['岡山県'], dtype=object),\n",
       " '川崎市': array(['神奈川県'], dtype=object),\n",
       " '広島市': array(['北海道', '広島県'], dtype=object),\n",
       " '新潟市': array(['新潟県'], dtype=object),\n",
       " '札幌市': array(['北海道'], dtype=object),\n",
       " '横浜市': array(['神奈川県'], dtype=object),\n",
       " '浜松市': array(['静岡県'], dtype=object),\n",
       " '熊本市': array(['熊本県'], dtype=object),\n",
       " '相模原市': array(['神奈川県'], dtype=object),\n",
       " '神戸市': array(['兵庫県'], dtype=object),\n",
       " '福岡市': array(['福岡県'], dtype=object),\n",
       " '静岡市': array(['静岡県'], dtype=object)}"
      ]
     },
     "execution_count": 63,
     "metadata": {
      "tags": []
     },
     "output_type": "execute_result"
    }
   ],
   "source": [
    "# 都市と都道府県の変換辞書\n",
    "cities = df['都道府県'][df['都道府県'].str.contains('市')].unique()\n",
    "\n",
    "# 広島市は北海道と広島県の候補がある\n",
    "city_dic = {city : predict_logic(zenkoku, city) for city in cities}\n",
    "city_dic"
   ]
  },
  {
   "cell_type": "code",
   "execution_count": null,
   "metadata": {
    "colab": {
     "base_uri": "https://localhost:8080/"
    },
    "id": "7QjWGqzUym7L",
    "outputId": "1231d4ef-2bcd-49e7-c641-a7922a1b6fe0"
   },
   "outputs": [
    {
     "data": {
      "text/plain": [
       "array(['中国'], dtype=object)"
      ]
     },
     "execution_count": 64,
     "metadata": {
      "tags": []
     },
     "output_type": "execute_result"
    }
   ],
   "source": [
    "# 元のDataFrameで広島市を確認する\n",
    "# 中国地方の広島市のみ\n",
    "df['局名'][df['都道府県']=='広島市'].unique()"
   ]
  },
  {
   "cell_type": "code",
   "execution_count": null,
   "metadata": {
    "colab": {
     "base_uri": "https://localhost:8080/"
    },
    "id": "z3iyZRhK0mg3",
    "outputId": "00298a5d-b8ae-4a03-ea54-219d01ddd1db"
   },
   "outputs": [
    {
     "data": {
      "text/plain": [
       "{'さいたま市': array(['埼玉県'], dtype=object),\n",
       " '京都市': array(['京都府'], dtype=object),\n",
       " '仙台市': array(['宮城県'], dtype=object),\n",
       " '北九州市': array(['福岡県'], dtype=object),\n",
       " '千葉市': array(['千葉県'], dtype=object),\n",
       " '名古屋市': array(['愛知県'], dtype=object),\n",
       " '堺市': array(['大阪府'], dtype=object),\n",
       " '大阪市': array(['大阪府'], dtype=object),\n",
       " '岡山市': array(['岡山県'], dtype=object),\n",
       " '川崎市': array(['神奈川県'], dtype=object),\n",
       " '広島市': array(['広島県'], dtype=object),\n",
       " '新潟市': array(['新潟県'], dtype=object),\n",
       " '札幌市': array(['北海道'], dtype=object),\n",
       " '横浜市': array(['神奈川県'], dtype=object),\n",
       " '浜松市': array(['静岡県'], dtype=object),\n",
       " '熊本市': array(['熊本県'], dtype=object),\n",
       " '相模原市': array(['神奈川県'], dtype=object),\n",
       " '神戸市': array(['兵庫県'], dtype=object),\n",
       " '福岡市': array(['福岡県'], dtype=object),\n",
       " '静岡市': array(['静岡県'], dtype=object)}"
      ]
     },
     "execution_count": 65,
     "metadata": {
      "tags": []
     },
     "output_type": "execute_result"
    }
   ],
   "source": [
    "# 上書きする\n",
    "city_dic['広島市'] = np.array(['広島県'], dtype=object)\n",
    "city_dic"
   ]
  },
  {
   "cell_type": "code",
   "execution_count": null,
   "metadata": {
    "colab": {
     "base_uri": "https://localhost:8080/"
    },
    "id": "NCbEHh-bPCAH",
    "outputId": "6dc7d2e9-4740-451f-e68b-48e77b8518df"
   },
   "outputs": [
    {
     "data": {
      "text/plain": [
       "{'さいたま市': '埼玉県',\n",
       " '京都市': '京都府',\n",
       " '仙台市': '宮城県',\n",
       " '北九州市': '福岡県',\n",
       " '千葉市': '千葉県',\n",
       " '名古屋市': '愛知県',\n",
       " '堺市': '大阪府',\n",
       " '大阪市': '大阪府',\n",
       " '岡山市': '岡山県',\n",
       " '川崎市': '神奈川県',\n",
       " '広島市': '広島県',\n",
       " '新潟市': '新潟県',\n",
       " '札幌市': '北海道',\n",
       " '横浜市': '神奈川県',\n",
       " '浜松市': '静岡県',\n",
       " '熊本市': '熊本県',\n",
       " '相模原市': '神奈川県',\n",
       " '神戸市': '兵庫県',\n",
       " '福岡市': '福岡県',\n",
       " '静岡市': '静岡県'}"
      ]
     },
     "execution_count": 66,
     "metadata": {
      "tags": []
     },
     "output_type": "execute_result"
    }
   ],
   "source": [
    "# 辞書のvalueについていたarrayを外す\n",
    "city_dic = {k: v[0] for k, v in city_dic.items()}\n",
    "city_dic"
   ]
  },
  {
   "cell_type": "code",
   "execution_count": null,
   "metadata": {
    "colab": {
     "base_uri": "https://localhost:8080/"
    },
    "id": "ro6smWPeLbwL",
    "outputId": "ca88a15f-6f19-4b5f-ee28-c060f9e1cc5d"
   },
   "outputs": [
    {
     "data": {
      "text/plain": [
       "13       北海道\n",
       "14       北海道\n",
       "15       北海道\n",
       "16       北海道\n",
       "17       北海道\n",
       "        ... \n",
       "12289    岡山県\n",
       "12290    広島県\n",
       "12291    岡山県\n",
       "12318    福岡県\n",
       "12319    熊本県\n",
       "Name: 都道府県, Length: 2085, dtype: object"
      ]
     },
     "execution_count": 67,
     "metadata": {
      "tags": []
     },
     "output_type": "execute_result"
    }
   ],
   "source": [
    "# 置換辞書を用いて一括で置換する\n",
    "df['都道府県'].replace(city_dic, inplace=True)\n",
    "df['都道府県'][city_flg]"
   ]
  },
  {
   "cell_type": "code",
   "execution_count": null,
   "metadata": {
    "colab": {
     "base_uri": "https://localhost:8080/"
    },
    "id": "y7Ux9xpYXjQl",
    "outputId": "ef5ccd6b-026e-4de9-989b-8ecc89a6bc02"
   },
   "outputs": [
    {
     "name": "stdout",
     "output_type": "stream",
     "text": [
      "['北海道', '青森県', '岩手県', '宮城県', '秋田県', '山形県', '福島県', '茨城県', '栃木県', '群馬県', '埼玉県', '千葉県', '東京都', '神奈川県', '新潟県', '山梨県', '長野県', '静岡県', '愛知県', '岐阜県', '三重県', '富山県', '石川県', '福井県', '滋賀県', '京都府', '大阪府', '兵庫県', '奈良県', '和歌山県', '鳥取県', '島根県', '岡山県', '広島県', '山口県', '徳島県', '香川県', '愛媛県', '高知県', '福岡県', '佐賀県', '長崎県', '熊本県', '宮崎県', '鹿児島県', '沖縄県', '大分県']\n",
      "47\n"
     ]
    }
   ],
   "source": [
    "# 47都道府県のリストを作成\n",
    "local = [ v for v in df['都道府県'][~city_flg].unique() if len(v)>2 ]\n",
    "print(local)\n",
    "print(len(local))"
   ]
  },
  {
   "cell_type": "code",
   "execution_count": null,
   "metadata": {
    "colab": {
     "base_uri": "https://localhost:8080/"
    },
    "id": "NDIF0V9vX6FC",
    "outputId": "83c8a040-15f0-4380-be52-90fcf1b51f60"
   },
   "outputs": [
    {
     "name": "stdout",
     "output_type": "stream",
     "text": [
      "3674     沖縄\n",
      "3675     沖縄\n",
      "3676     沖縄\n",
      "3677     沖縄\n",
      "3678     沖縄\n",
      "3679     沖縄\n",
      "3680     沖縄\n",
      "4372     沖縄\n",
      "4373     沖縄\n",
      "4374     沖縄\n",
      "5088     沖縄\n",
      "5089     沖縄\n",
      "5090     沖縄\n",
      "5091     沖縄\n",
      "5092     沖縄\n",
      "5093     沖縄\n",
      "5094     沖縄\n",
      "5095     沖縄\n",
      "5096     沖縄\n",
      "5097     沖縄\n",
      "12255    富山\n",
      "12256    富山\n",
      "12257    富山\n",
      "12258    石川\n",
      "12259    石川\n",
      "Name: 都道府県, dtype: object\n",
      "['沖縄' '富山' '石川']\n"
     ]
    }
   ],
   "source": [
    "print(df['都道府県'][~df['都道府県'].isin(local)])\n",
    "temp = df['都道府県'][~df['都道府県'].isin(local)].unique()\n",
    "print(temp)"
   ]
  },
  {
   "cell_type": "code",
   "execution_count": null,
   "metadata": {
    "colab": {
     "base_uri": "https://localhost:8080/"
    },
    "id": "KJ6JjYTgidfz",
    "outputId": "5cec0230-9ea5-4bff-ccf8-0b53295559ab"
   },
   "outputs": [
    {
     "data": {
      "text/plain": [
       "{'富山': '富山県', '沖縄': '沖縄県', '石川': '石川県'}"
      ]
     },
     "execution_count": 70,
     "metadata": {
      "tags": []
     },
     "output_type": "execute_result"
    }
   ],
   "source": [
    "# 置換辞書を作成する\n",
    "temp_dic = {t: t+'県' for t in temp}\n",
    "temp_dic"
   ]
  },
  {
   "cell_type": "code",
   "execution_count": null,
   "metadata": {
    "id": "sV680Onzlpvk"
   },
   "outputs": [],
   "source": [
    "# 置換辞書で上書きする\n",
    "df['都道府県'].replace(temp_dic, inplace=True)"
   ]
  },
  {
   "cell_type": "markdown",
   "metadata": {
    "id": "kVyPQhZenjq9"
   },
   "source": [
    "### 局名の表記揺れの修正"
   ]
  },
  {
   "cell_type": "code",
   "execution_count": null,
   "metadata": {
    "colab": {
     "base_uri": "https://localhost:8080/"
    },
    "id": "kfhyumzUmGyp",
    "outputId": "f78a4469-89dc-443f-cedd-14c571e544b4"
   },
   "outputs": [
    {
     "data": {
      "text/plain": [
       "array(['北海道', '東北', '関東', '中部', '近畿', '中国', '四国', '九州', '沖縄', '近畿 ', '*',\n",
       "       '近畿\\u3000', ' 近畿', '栃木県'], dtype=object)"
      ]
     },
     "execution_count": 72,
     "metadata": {
      "tags": []
     },
     "output_type": "execute_result"
    }
   ],
   "source": [
    "df['局名'].unique()"
   ]
  },
  {
   "cell_type": "code",
   "execution_count": null,
   "metadata": {
    "id": "Tu9yZ38ImSz7"
   },
   "outputs": [],
   "source": [
    "block = fix_spelling(df['局名'])"
   ]
  },
  {
   "cell_type": "code",
   "execution_count": null,
   "metadata": {
    "colab": {
     "base_uri": "https://localhost:8080/"
    },
    "id": "VjpkKvORoQdV",
    "outputId": "0e2e6f1a-0a32-4b3f-b2b5-bbe72c9167ef"
   },
   "outputs": [
    {
     "data": {
      "text/plain": [
       "局名          0\n",
       "都道府県        0\n",
       "大規模小売店舗名    0\n",
       "所在地         0\n",
       "建物設置者名      0\n",
       "小売業者名       0\n",
       "届出日         0\n",
       "開店予定日       0\n",
       "店舗面積        0\n",
       "dtype: int64"
      ]
     },
     "execution_count": 74,
     "metadata": {
      "tags": []
     },
     "output_type": "execute_result"
    }
   ],
   "source": [
    "df.isnull().sum()"
   ]
  },
  {
   "cell_type": "code",
   "execution_count": null,
   "metadata": {
    "id": "_vAkxiYOn_y_"
   },
   "outputs": [],
   "source": [
    "# リストをインデックス付きのSeriesに変換する\n",
    "block = pd.Series(data=block, index=df.index, name='局名')\n",
    "# このSeriesで「小売業者名」を上書きする\n",
    "df['局名'] = block"
   ]
  },
  {
   "cell_type": "code",
   "execution_count": null,
   "metadata": {
    "colab": {
     "base_uri": "https://localhost:8080/"
    },
    "id": "sATeRcVDojfc",
    "outputId": "4f7888f3-864f-4625-8f0c-0370a24831a7"
   },
   "outputs": [
    {
     "name": "stdout",
     "output_type": "stream",
     "text": [
      "['北海道' '東北' '関東' '中部' '近畿' '中国' '四国' '九州' '沖縄' '＊' '栃木県']\n",
      "-----------------\n",
      "['＊' '栃木県']\n"
     ]
    }
   ],
   "source": [
    "# 九地方区分名以外の表記が混ざっている\n",
    "print(df['局名'].unique())\n",
    "print('-----------------')\n",
    "print(df['局名'].unique()[-2:])"
   ]
  },
  {
   "cell_type": "code",
   "execution_count": null,
   "metadata": {
    "colab": {
     "base_uri": "https://localhost:8080/",
     "height": 162
    },
    "id": "YxgPcFtRom43",
    "outputId": "9dc56ee9-3689-4d8a-a37c-a3e62a8ed4cf"
   },
   "outputs": [
    {
     "data": {
      "text/html": [
       "<div>\n",
       "<style scoped>\n",
       "    .dataframe tbody tr th:only-of-type {\n",
       "        vertical-align: middle;\n",
       "    }\n",
       "\n",
       "    .dataframe tbody tr th {\n",
       "        vertical-align: top;\n",
       "    }\n",
       "\n",
       "    .dataframe thead th {\n",
       "        text-align: right;\n",
       "    }\n",
       "</style>\n",
       "<table border=\"1\" class=\"dataframe\">\n",
       "  <thead>\n",
       "    <tr style=\"text-align: right;\">\n",
       "      <th></th>\n",
       "      <th>局名</th>\n",
       "      <th>都道府県</th>\n",
       "      <th>大規模小売店舗名</th>\n",
       "      <th>所在地</th>\n",
       "      <th>建物設置者名</th>\n",
       "      <th>小売業者名</th>\n",
       "      <th>届出日</th>\n",
       "      <th>開店予定日</th>\n",
       "      <th>店舗面積</th>\n",
       "    </tr>\n",
       "  </thead>\n",
       "  <tbody>\n",
       "    <tr>\n",
       "      <th>4056</th>\n",
       "      <td>＊</td>\n",
       "      <td>愛知県</td>\n",
       "      <td>大名古屋ビルヂング</td>\n",
       "      <td>名古屋市中村区名駅三丁目2701番</td>\n",
       "      <td>三菱地所</td>\n",
       "      <td>未定</td>\n",
       "      <td>2013-11-05</td>\n",
       "      <td>2015-11-01</td>\n",
       "      <td>7000</td>\n",
       "    </tr>\n",
       "    <tr>\n",
       "      <th>10365</th>\n",
       "      <td>栃木県</td>\n",
       "      <td>栃木県</td>\n",
       "      <td>カワチ薬品上三川インター店\\n仮称バースディインターパーク店</td>\n",
       "      <td>宇都宮市インターパーク六丁目五番地３</td>\n",
       "      <td>カワチ薬品</td>\n",
       "      <td>カワチ薬品</td>\n",
       "      <td>2003-05-26</td>\n",
       "      <td>2004-01-27</td>\n",
       "      <td>3327</td>\n",
       "    </tr>\n",
       "  </tbody>\n",
       "</table>\n",
       "</div>"
      ],
      "text/plain": [
       "        局名 都道府県                        大規模小売店舗名                 所在地 建物設置者名  \\\n",
       "4056     ＊  愛知県                       大名古屋ビルヂング   名古屋市中村区名駅三丁目2701番   三菱地所   \n",
       "10365  栃木県  栃木県  カワチ薬品上三川インター店\\n仮称バースディインターパーク店  宇都宮市インターパーク六丁目五番地３  カワチ薬品   \n",
       "\n",
       "       小売業者名        届出日      開店予定日  店舗面積  \n",
       "4056      未定 2013-11-05 2015-11-01  7000  \n",
       "10365  カワチ薬品 2003-05-26 2004-01-27  3327  "
      ]
     },
     "execution_count": 77,
     "metadata": {
      "tags": []
     },
     "output_type": "execute_result"
    }
   ],
   "source": [
    "# 誤った局名の表記をerr_変数に格納する\n",
    "err_1 = df['局名'].unique()[-1] \n",
    "err_2 = df['局名'].unique()[-2] \n",
    "\n",
    "# 局名をerr_変数で指定した行を確認する\n",
    "df[(df['局名']==err_1) | (df['局名']==err_2)]"
   ]
  },
  {
   "cell_type": "code",
   "execution_count": null,
   "metadata": {
    "colab": {
     "base_uri": "https://localhost:8080/"
    },
    "id": "ZAwrV3bE3YVj",
    "outputId": "7699aeaf-6792-4b3c-8a75-2dd962bd88ee"
   },
   "outputs": [
    {
     "name": "stdout",
     "output_type": "stream",
     "text": [
      "10365    栃木県\n",
      "Name: 都道府県, dtype: object\n",
      "4056    愛知県\n",
      "Name: 都道府県, dtype: object\n"
     ]
    }
   ],
   "source": [
    "# 誤った局名の表記に対応する都道府県名を抽出する\n",
    "print(df['都道府県'][df['局名']==err_1])\n",
    "print(df['都道府県'][df['局名']==err_2])\n",
    "\n",
    "# 誤った局名の表記に対応する都道府県名をlocal_変数に格納する\n",
    "local_1 = df['都道府県'][df['局名']==err_1]\n",
    "local_2 = df['都道府県'][df['局名']==err_2]"
   ]
  },
  {
   "cell_type": "code",
   "execution_count": null,
   "metadata": {
    "colab": {
     "base_uri": "https://localhost:8080/"
    },
    "id": "0gEOISR52FU2",
    "outputId": "52f13039-9bf2-4853-f3ce-2b6c58e56552"
   },
   "outputs": [
    {
     "name": "stdout",
     "output_type": "stream",
     "text": [
      "関東\n",
      "中部\n"
     ]
    }
   ],
   "source": [
    "# これらの都道府県名に対応する一番多い局名を抽出する\n",
    "print(df['局名'][df['都道府県']== local_1.values[0]].value_counts().index[0])\n",
    "print(df['局名'][df['都道府県']== local_2.values[0]].value_counts().index[0])\n",
    "\n",
    "# これらの都道府県名に対応する一番多い（正しい）局名をblock_変数に格納する\n",
    "block_1 = df['局名'][df['都道府県']== local_1.values[0]].value_counts().index[0]\n",
    "block_2 = df['局名'][df['都道府県']== local_2.values[0]].value_counts().index[0]"
   ]
  },
  {
   "cell_type": "code",
   "execution_count": null,
   "metadata": {
    "id": "HcrXZOX6pQJm"
   },
   "outputs": [],
   "source": [
    "# 誤った局名を正しい局名に変換する置換辞書を作成する\n",
    "block_dic = {err_1 : block_1, err_2 : block_2}\n",
    "\n",
    "# 置換辞書で置き換えを実行\n",
    "df['局名'].replace(block_dic, inplace=True)"
   ]
  },
  {
   "cell_type": "code",
   "execution_count": null,
   "metadata": {
    "colab": {
     "base_uri": "https://localhost:8080/"
    },
    "id": "hoFoJYRtqUrD",
    "outputId": "3acaf1c4-8f4f-4e7a-bb20-b9dbb38c09f9"
   },
   "outputs": [
    {
     "data": {
      "text/plain": [
       "array(['北海道', '東北', '関東', '中部', '近畿', '中国', '四国', '九州', '沖縄'],\n",
       "      dtype=object)"
      ]
     },
     "execution_count": 81,
     "metadata": {
      "tags": []
     },
     "output_type": "execute_result"
    }
   ],
   "source": [
    "# 局名が九地方区分名のみになっている\n",
    "df['局名'].unique()"
   ]
  },
  {
   "cell_type": "code",
   "execution_count": null,
   "metadata": {
    "colab": {
     "base_uri": "https://localhost:8080/"
    },
    "id": "LWG7sKam9ktb",
    "outputId": "5e01b1be-085a-4f2c-8586-db0553c99e35"
   },
   "outputs": [
    {
     "data": {
      "text/plain": [
       "局名                  object\n",
       "都道府県                object\n",
       "大規模小売店舗名            object\n",
       "所在地                 object\n",
       "建物設置者名              object\n",
       "小売業者名               object\n",
       "届出日         datetime64[ns]\n",
       "開店予定日       datetime64[ns]\n",
       "店舗面積                object\n",
       "dtype: object"
      ]
     },
     "execution_count": 82,
     "metadata": {
      "tags": []
     },
     "output_type": "execute_result"
    }
   ],
   "source": [
    "# データ型の確認\n",
    "df.dtypes"
   ]
  },
  {
   "cell_type": "code",
   "execution_count": null,
   "metadata": {
    "colab": {
     "base_uri": "https://localhost:8080/"
    },
    "id": "gAYsAfVSHMHS",
    "outputId": "bd25576f-5f38-439b-ecd5-bea34f03e120"
   },
   "outputs": [
    {
     "data": {
      "text/plain": [
       "局名          0\n",
       "都道府県        0\n",
       "大規模小売店舗名    0\n",
       "所在地         0\n",
       "建物設置者名      0\n",
       "小売業者名       0\n",
       "届出日         0\n",
       "開店予定日       0\n",
       "店舗面積        0\n",
       "dtype: int64"
      ]
     },
     "execution_count": 83,
     "metadata": {
      "tags": []
     },
     "output_type": "execute_result"
    }
   ],
   "source": [
    "# 欠損値なし\n",
    "df.isnull().sum()"
   ]
  },
  {
   "cell_type": "code",
   "execution_count": null,
   "metadata": {
    "id": "hSH1aYwPF57P"
   },
   "outputs": [],
   "source": [
    "dir = 'drive/MyDrive/data/'\n",
    "\n",
    "# 欠損値処理まで済んだデータをsection_2.csvとして保存しておく\n",
    "# インデックスは出力しない\n",
    "df.to_csv(dir+'section_2.csv', index=False)"
   ]
  },
  {
   "cell_type": "code",
   "execution_count": null,
   "metadata": {
    "colab": {
     "base_uri": "https://localhost:8080/",
     "height": 606
    },
    "id": "TZk2uWyrOTK1",
    "outputId": "d8c451b1-6d0d-4c67-aa31-88473acdf7ed"
   },
   "outputs": [
    {
     "data": {
      "text/html": [
       "<div>\n",
       "<style scoped>\n",
       "    .dataframe tbody tr th:only-of-type {\n",
       "        vertical-align: middle;\n",
       "    }\n",
       "\n",
       "    .dataframe tbody tr th {\n",
       "        vertical-align: top;\n",
       "    }\n",
       "\n",
       "    .dataframe thead th {\n",
       "        text-align: right;\n",
       "    }\n",
       "</style>\n",
       "<table border=\"1\" class=\"dataframe\">\n",
       "  <thead>\n",
       "    <tr style=\"text-align: right;\">\n",
       "      <th></th>\n",
       "      <th>局名</th>\n",
       "      <th>都道府県</th>\n",
       "      <th>大規模小売店舗名</th>\n",
       "      <th>所在地</th>\n",
       "      <th>建物設置者名</th>\n",
       "      <th>小売業者名</th>\n",
       "      <th>届出日</th>\n",
       "      <th>開店予定日</th>\n",
       "      <th>店舗面積</th>\n",
       "    </tr>\n",
       "  </thead>\n",
       "  <tbody>\n",
       "    <tr>\n",
       "      <th>0</th>\n",
       "      <td>北海道</td>\n",
       "      <td>北海道</td>\n",
       "      <td>木野タウン　ケーズデンキ棟</td>\n",
       "      <td>音更町木野大通東11丁目1-1</td>\n",
       "      <td>デンコードー</td>\n",
       "      <td>デンコードー</td>\n",
       "      <td>2019-04-16</td>\n",
       "      <td>2019-12-17</td>\n",
       "      <td>3134</td>\n",
       "    </tr>\n",
       "    <tr>\n",
       "      <th>1</th>\n",
       "      <td>北海道</td>\n",
       "      <td>北海道</td>\n",
       "      <td>旭川豊岡タウンプラザ　GU棟　SHOE・PLAZA棟</td>\n",
       "      <td>旭川市豊岡4条4丁目1-13</td>\n",
       "      <td>セントラルリーシングシステム</td>\n",
       "      <td>ジーユー</td>\n",
       "      <td>2019-09-04</td>\n",
       "      <td>2020-05-05</td>\n",
       "      <td>1454</td>\n",
       "    </tr>\n",
       "    <tr>\n",
       "      <th>2</th>\n",
       "      <td>北海道</td>\n",
       "      <td>北海道</td>\n",
       "      <td>リラィアブルブックス　運動公園通り店</td>\n",
       "      <td>釧路町桂木3丁目7番1、７番2、8番</td>\n",
       "      <td>リラィアブル</td>\n",
       "      <td>リラィアブル</td>\n",
       "      <td>2019-09-26</td>\n",
       "      <td>2020-05-27</td>\n",
       "      <td>1379</td>\n",
       "    </tr>\n",
       "    <tr>\n",
       "      <th>3</th>\n",
       "      <td>北海道</td>\n",
       "      <td>北海道</td>\n",
       "      <td>コープさっぽろ　とくら店</td>\n",
       "      <td>函館市戸倉町224番－４</td>\n",
       "      <td>コープさっぽろ</td>\n",
       "      <td>コープさっぽろ</td>\n",
       "      <td>2019-10-08</td>\n",
       "      <td>2020-06-09</td>\n",
       "      <td>1447</td>\n",
       "    </tr>\n",
       "    <tr>\n",
       "      <th>4</th>\n",
       "      <td>北海道</td>\n",
       "      <td>北海道</td>\n",
       "      <td>ツルハドラッグ旭川永山３条西店</td>\n",
       "      <td>旭川市永山３条８丁目76番１</td>\n",
       "      <td>北海道リース</td>\n",
       "      <td>ツルハ</td>\n",
       "      <td>2019-10-23</td>\n",
       "      <td>2020-06-24</td>\n",
       "      <td>1527</td>\n",
       "    </tr>\n",
       "    <tr>\n",
       "      <th>...</th>\n",
       "      <td>...</td>\n",
       "      <td>...</td>\n",
       "      <td>...</td>\n",
       "      <td>...</td>\n",
       "      <td>...</td>\n",
       "      <td>...</td>\n",
       "      <td>...</td>\n",
       "      <td>...</td>\n",
       "      <td>...</td>\n",
       "    </tr>\n",
       "    <tr>\n",
       "      <th>12316</th>\n",
       "      <td>九州</td>\n",
       "      <td>鹿児島県</td>\n",
       "      <td>（仮称）ドラッグコスモス鹿屋運動公園前店</td>\n",
       "      <td>鹿屋市西原２丁目104番１</td>\n",
       "      <td>コスモス薬品</td>\n",
       "      <td>コスモス薬品</td>\n",
       "      <td>2021-06-04</td>\n",
       "      <td>2022-02-05</td>\n",
       "      <td>1472</td>\n",
       "    </tr>\n",
       "    <tr>\n",
       "      <th>12317</th>\n",
       "      <td>九州</td>\n",
       "      <td>鹿児島県</td>\n",
       "      <td>Books　Misumi　鹿屋店</td>\n",
       "      <td>鹿屋市寿7-12-1</td>\n",
       "      <td>Misumi</td>\n",
       "      <td>ＭＩＳＵＭＩ</td>\n",
       "      <td>2021-06-23</td>\n",
       "      <td>2022-02-24</td>\n",
       "      <td>1774</td>\n",
       "    </tr>\n",
       "    <tr>\n",
       "      <th>12318</th>\n",
       "      <td>九州</td>\n",
       "      <td>福岡県</td>\n",
       "      <td>（仮称）福岡市青果市場跡地活用事業</td>\n",
       "      <td>福岡市博多区那珂六丁目351番地１</td>\n",
       "      <td>博多那珂６開発特定目的会社</td>\n",
       "      <td>未定</td>\n",
       "      <td>2021-05-14</td>\n",
       "      <td>2022-04-01</td>\n",
       "      <td>46380</td>\n",
       "    </tr>\n",
       "    <tr>\n",
       "      <th>12319</th>\n",
       "      <td>九州</td>\n",
       "      <td>熊本県</td>\n",
       "      <td>ロッキー水前寺店</td>\n",
       "      <td>熊本市中央区水前寺2丁目4-15</td>\n",
       "      <td>ロッキー</td>\n",
       "      <td>ロッキー</td>\n",
       "      <td>2021-05-06</td>\n",
       "      <td>2022-01-04</td>\n",
       "      <td>1670</td>\n",
       "    </tr>\n",
       "    <tr>\n",
       "      <th>12320</th>\n",
       "      <td>沖縄</td>\n",
       "      <td>沖縄県</td>\n",
       "      <td>バースデイ・シャンブル八重山ファッションモール店</td>\n",
       "      <td>石垣市字大浜南大浜４２８番５</td>\n",
       "      <td>株式会社しまむら</td>\n",
       "      <td>しまむら</td>\n",
       "      <td>2021-04-06</td>\n",
       "      <td>2021-12-05</td>\n",
       "      <td>1798</td>\n",
       "    </tr>\n",
       "  </tbody>\n",
       "</table>\n",
       "<p>12321 rows × 9 columns</p>\n",
       "</div>"
      ],
      "text/plain": [
       "        局名  都道府県                    大規模小売店舗名                 所在地  \\\n",
       "0      北海道   北海道               木野タウン　ケーズデンキ棟     音更町木野大通東11丁目1-1   \n",
       "1      北海道   北海道  旭川豊岡タウンプラザ　GU棟　SHOE・PLAZA棟      旭川市豊岡4条4丁目1-13   \n",
       "2      北海道   北海道          リラィアブルブックス　運動公園通り店  釧路町桂木3丁目7番1、７番2、8番   \n",
       "3      北海道   北海道                コープさっぽろ　とくら店        函館市戸倉町224番－４   \n",
       "4      北海道   北海道             ツルハドラッグ旭川永山３条西店      旭川市永山３条８丁目76番１   \n",
       "...    ...   ...                         ...                 ...   \n",
       "12316   九州  鹿児島県        （仮称）ドラッグコスモス鹿屋運動公園前店       鹿屋市西原２丁目104番１   \n",
       "12317   九州  鹿児島県            Books　Misumi　鹿屋店          鹿屋市寿7-12-1   \n",
       "12318   九州   福岡県           （仮称）福岡市青果市場跡地活用事業   福岡市博多区那珂六丁目351番地１   \n",
       "12319   九州   熊本県                    ロッキー水前寺店    熊本市中央区水前寺2丁目4-15   \n",
       "12320   沖縄   沖縄県    バースデイ・シャンブル八重山ファッションモール店      石垣市字大浜南大浜４２８番５   \n",
       "\n",
       "               建物設置者名    小売業者名        届出日      開店予定日   店舗面積  \n",
       "0              デンコードー   デンコードー 2019-04-16 2019-12-17   3134  \n",
       "1      セントラルリーシングシステム     ジーユー 2019-09-04 2020-05-05   1454  \n",
       "2              リラィアブル   リラィアブル 2019-09-26 2020-05-27   1379  \n",
       "3             コープさっぽろ  コープさっぽろ 2019-10-08 2020-06-09   1447  \n",
       "4              北海道リース      ツルハ 2019-10-23 2020-06-24   1527  \n",
       "...               ...      ...        ...        ...    ...  \n",
       "12316          コスモス薬品   コスモス薬品 2021-06-04 2022-02-05   1472  \n",
       "12317          Misumi   ＭＩＳＵＭＩ 2021-06-23 2022-02-24   1774  \n",
       "12318   博多那珂６開発特定目的会社       未定 2021-05-14 2022-04-01  46380  \n",
       "12319            ロッキー     ロッキー 2021-05-06 2022-01-04   1670  \n",
       "12320        株式会社しまむら     しまむら 2021-04-06 2021-12-05   1798  \n",
       "\n",
       "[12321 rows x 9 columns]"
      ]
     },
     "execution_count": 85,
     "metadata": {
      "tags": []
     },
     "output_type": "execute_result"
    }
   ],
   "source": [
    "dir = 'drive/MyDrive/data/'\n",
    "\n",
    "df = pd.read_csv(dir + 'section_2.csv', parse_dates=['届出日', '開店予定日'])\n",
    "df # 12321 rows × 9 columns"
   ]
  },
  {
   "cell_type": "code",
   "execution_count": null,
   "metadata": {
    "colab": {
     "base_uri": "https://localhost:8080/"
    },
    "id": "OdJmte52TTxH",
    "outputId": "559c9d58-2a81-4a0a-e584-7f74cb05fe8b"
   },
   "outputs": [
    {
     "data": {
      "text/plain": [
       "局名                  object\n",
       "都道府県                object\n",
       "大規模小売店舗名            object\n",
       "所在地                 object\n",
       "建物設置者名              object\n",
       "小売業者名               object\n",
       "届出日         datetime64[ns]\n",
       "開店予定日       datetime64[ns]\n",
       "店舗面積                object\n",
       "dtype: object"
      ]
     },
     "execution_count": 86,
     "metadata": {
      "tags": []
     },
     "output_type": "execute_result"
    }
   ],
   "source": [
    "df.dtypes"
   ]
  },
  {
   "cell_type": "code",
   "execution_count": null,
   "metadata": {
    "colab": {
     "base_uri": "https://localhost:8080/"
    },
    "id": "9RYF7OodOWr-",
    "outputId": "b489bb72-99fe-4d76-a730-b881818e676e"
   },
   "outputs": [
    {
     "data": {
      "text/plain": [
       "局名          0\n",
       "都道府県        0\n",
       "大規模小売店舗名    0\n",
       "所在地         0\n",
       "建物設置者名      0\n",
       "小売業者名       1\n",
       "届出日         0\n",
       "開店予定日       0\n",
       "店舗面積        0\n",
       "dtype: int64"
      ]
     },
     "execution_count": 87,
     "metadata": {
      "tags": []
     },
     "output_type": "execute_result"
    }
   ],
   "source": [
    "# なぜか欠損値が一つある\n",
    "df.isnull().sum()"
   ]
  },
  {
   "cell_type": "code",
   "execution_count": null,
   "metadata": {
    "colab": {
     "base_uri": "https://localhost:8080/",
     "height": 80
    },
    "id": "T0dgGLz2MZMC",
    "outputId": "078af25c-3db6-4954-b191-10c5c81c043c"
   },
   "outputs": [
    {
     "data": {
      "text/html": [
       "<div>\n",
       "<style scoped>\n",
       "    .dataframe tbody tr th:only-of-type {\n",
       "        vertical-align: middle;\n",
       "    }\n",
       "\n",
       "    .dataframe tbody tr th {\n",
       "        vertical-align: top;\n",
       "    }\n",
       "\n",
       "    .dataframe thead th {\n",
       "        text-align: right;\n",
       "    }\n",
       "</style>\n",
       "<table border=\"1\" class=\"dataframe\">\n",
       "  <thead>\n",
       "    <tr style=\"text-align: right;\">\n",
       "      <th></th>\n",
       "      <th>局名</th>\n",
       "      <th>都道府県</th>\n",
       "      <th>大規模小売店舗名</th>\n",
       "      <th>所在地</th>\n",
       "      <th>建物設置者名</th>\n",
       "      <th>小売業者名</th>\n",
       "      <th>届出日</th>\n",
       "      <th>開店予定日</th>\n",
       "      <th>店舗面積</th>\n",
       "    </tr>\n",
       "  </thead>\n",
       "  <tbody>\n",
       "    <tr>\n",
       "      <th>10777</th>\n",
       "      <td>近畿</td>\n",
       "      <td>兵庫県</td>\n",
       "      <td>(仮)神戸三宮一丁目ビル</td>\n",
       "      <td>中央区三宮町１－４－５１</td>\n",
       "      <td>安田不動産</td>\n",
       "      <td>NaN</td>\n",
       "      <td>2003-12-25</td>\n",
       "      <td>2004-09-17</td>\n",
       "      <td>5511</td>\n",
       "    </tr>\n",
       "  </tbody>\n",
       "</table>\n",
       "</div>"
      ],
      "text/plain": [
       "       局名 都道府県      大規模小売店舗名           所在地 建物設置者名 小売業者名        届出日      開店予定日  \\\n",
       "10777  近畿  兵庫県  (仮)神戸三宮一丁目ビル  中央区三宮町１－４－５１  安田不動産   NaN 2003-12-25 2004-09-17   \n",
       "\n",
       "       店舗面積  \n",
       "10777  5511  "
      ]
     },
     "execution_count": 88,
     "metadata": {
      "tags": []
     },
     "output_type": "execute_result"
    }
   ],
   "source": [
    "df[df['小売業者名'].isnull()]"
   ]
  },
  {
   "cell_type": "code",
   "execution_count": null,
   "metadata": {
    "colab": {
     "base_uri": "https://localhost:8080/",
     "height": 606
    },
    "id": "Avx1V9TTMory",
    "outputId": "ef649429-81ee-4d87-a69c-15e9c35f73bc"
   },
   "outputs": [
    {
     "data": {
      "text/html": [
       "<div>\n",
       "<style scoped>\n",
       "    .dataframe tbody tr th:only-of-type {\n",
       "        vertical-align: middle;\n",
       "    }\n",
       "\n",
       "    .dataframe tbody tr th {\n",
       "        vertical-align: top;\n",
       "    }\n",
       "\n",
       "    .dataframe thead th {\n",
       "        text-align: right;\n",
       "    }\n",
       "</style>\n",
       "<table border=\"1\" class=\"dataframe\">\n",
       "  <thead>\n",
       "    <tr style=\"text-align: right;\">\n",
       "      <th></th>\n",
       "      <th>局名</th>\n",
       "      <th>都道府県</th>\n",
       "      <th>大規模小売店舗名</th>\n",
       "      <th>所在地</th>\n",
       "      <th>建物設置者名</th>\n",
       "      <th>小売業者名</th>\n",
       "      <th>届出日</th>\n",
       "      <th>開店予定日</th>\n",
       "      <th>店舗面積</th>\n",
       "    </tr>\n",
       "  </thead>\n",
       "  <tbody>\n",
       "    <tr>\n",
       "      <th>0</th>\n",
       "      <td>北海道</td>\n",
       "      <td>北海道</td>\n",
       "      <td>木野タウン　ケーズデンキ棟</td>\n",
       "      <td>音更町木野大通東11丁目1-1</td>\n",
       "      <td>デンコードー</td>\n",
       "      <td>デンコードー</td>\n",
       "      <td>2019-04-16</td>\n",
       "      <td>2019-12-17</td>\n",
       "      <td>3134</td>\n",
       "    </tr>\n",
       "    <tr>\n",
       "      <th>1</th>\n",
       "      <td>北海道</td>\n",
       "      <td>北海道</td>\n",
       "      <td>旭川豊岡タウンプラザ　GU棟　SHOE・PLAZA棟</td>\n",
       "      <td>旭川市豊岡4条4丁目1-13</td>\n",
       "      <td>セントラルリーシングシステム</td>\n",
       "      <td>ジーユー</td>\n",
       "      <td>2019-09-04</td>\n",
       "      <td>2020-05-05</td>\n",
       "      <td>1454</td>\n",
       "    </tr>\n",
       "    <tr>\n",
       "      <th>2</th>\n",
       "      <td>北海道</td>\n",
       "      <td>北海道</td>\n",
       "      <td>リラィアブルブックス　運動公園通り店</td>\n",
       "      <td>釧路町桂木3丁目7番1、７番2、8番</td>\n",
       "      <td>リラィアブル</td>\n",
       "      <td>リラィアブル</td>\n",
       "      <td>2019-09-26</td>\n",
       "      <td>2020-05-27</td>\n",
       "      <td>1379</td>\n",
       "    </tr>\n",
       "    <tr>\n",
       "      <th>3</th>\n",
       "      <td>北海道</td>\n",
       "      <td>北海道</td>\n",
       "      <td>コープさっぽろ　とくら店</td>\n",
       "      <td>函館市戸倉町224番－４</td>\n",
       "      <td>コープさっぽろ</td>\n",
       "      <td>コープさっぽろ</td>\n",
       "      <td>2019-10-08</td>\n",
       "      <td>2020-06-09</td>\n",
       "      <td>1447</td>\n",
       "    </tr>\n",
       "    <tr>\n",
       "      <th>4</th>\n",
       "      <td>北海道</td>\n",
       "      <td>北海道</td>\n",
       "      <td>ツルハドラッグ旭川永山３条西店</td>\n",
       "      <td>旭川市永山３条８丁目76番１</td>\n",
       "      <td>北海道リース</td>\n",
       "      <td>ツルハ</td>\n",
       "      <td>2019-10-23</td>\n",
       "      <td>2020-06-24</td>\n",
       "      <td>1527</td>\n",
       "    </tr>\n",
       "    <tr>\n",
       "      <th>...</th>\n",
       "      <td>...</td>\n",
       "      <td>...</td>\n",
       "      <td>...</td>\n",
       "      <td>...</td>\n",
       "      <td>...</td>\n",
       "      <td>...</td>\n",
       "      <td>...</td>\n",
       "      <td>...</td>\n",
       "      <td>...</td>\n",
       "    </tr>\n",
       "    <tr>\n",
       "      <th>12316</th>\n",
       "      <td>九州</td>\n",
       "      <td>鹿児島県</td>\n",
       "      <td>（仮称）ドラッグコスモス鹿屋運動公園前店</td>\n",
       "      <td>鹿屋市西原２丁目104番１</td>\n",
       "      <td>コスモス薬品</td>\n",
       "      <td>コスモス薬品</td>\n",
       "      <td>2021-06-04</td>\n",
       "      <td>2022-02-05</td>\n",
       "      <td>1472</td>\n",
       "    </tr>\n",
       "    <tr>\n",
       "      <th>12317</th>\n",
       "      <td>九州</td>\n",
       "      <td>鹿児島県</td>\n",
       "      <td>Books　Misumi　鹿屋店</td>\n",
       "      <td>鹿屋市寿7-12-1</td>\n",
       "      <td>Misumi</td>\n",
       "      <td>ＭＩＳＵＭＩ</td>\n",
       "      <td>2021-06-23</td>\n",
       "      <td>2022-02-24</td>\n",
       "      <td>1774</td>\n",
       "    </tr>\n",
       "    <tr>\n",
       "      <th>12318</th>\n",
       "      <td>九州</td>\n",
       "      <td>福岡県</td>\n",
       "      <td>（仮称）福岡市青果市場跡地活用事業</td>\n",
       "      <td>福岡市博多区那珂六丁目351番地１</td>\n",
       "      <td>博多那珂６開発特定目的会社</td>\n",
       "      <td>未定</td>\n",
       "      <td>2021-05-14</td>\n",
       "      <td>2022-04-01</td>\n",
       "      <td>46380</td>\n",
       "    </tr>\n",
       "    <tr>\n",
       "      <th>12319</th>\n",
       "      <td>九州</td>\n",
       "      <td>熊本県</td>\n",
       "      <td>ロッキー水前寺店</td>\n",
       "      <td>熊本市中央区水前寺2丁目4-15</td>\n",
       "      <td>ロッキー</td>\n",
       "      <td>ロッキー</td>\n",
       "      <td>2021-05-06</td>\n",
       "      <td>2022-01-04</td>\n",
       "      <td>1670</td>\n",
       "    </tr>\n",
       "    <tr>\n",
       "      <th>12320</th>\n",
       "      <td>沖縄</td>\n",
       "      <td>沖縄県</td>\n",
       "      <td>バースデイ・シャンブル八重山ファッションモール店</td>\n",
       "      <td>石垣市字大浜南大浜４２８番５</td>\n",
       "      <td>株式会社しまむら</td>\n",
       "      <td>しまむら</td>\n",
       "      <td>2021-04-06</td>\n",
       "      <td>2021-12-05</td>\n",
       "      <td>1798</td>\n",
       "    </tr>\n",
       "  </tbody>\n",
       "</table>\n",
       "<p>12320 rows × 9 columns</p>\n",
       "</div>"
      ],
      "text/plain": [
       "        局名  都道府県                    大規模小売店舗名                 所在地  \\\n",
       "0      北海道   北海道               木野タウン　ケーズデンキ棟     音更町木野大通東11丁目1-1   \n",
       "1      北海道   北海道  旭川豊岡タウンプラザ　GU棟　SHOE・PLAZA棟      旭川市豊岡4条4丁目1-13   \n",
       "2      北海道   北海道          リラィアブルブックス　運動公園通り店  釧路町桂木3丁目7番1、７番2、8番   \n",
       "3      北海道   北海道                コープさっぽろ　とくら店        函館市戸倉町224番－４   \n",
       "4      北海道   北海道             ツルハドラッグ旭川永山３条西店      旭川市永山３条８丁目76番１   \n",
       "...    ...   ...                         ...                 ...   \n",
       "12316   九州  鹿児島県        （仮称）ドラッグコスモス鹿屋運動公園前店       鹿屋市西原２丁目104番１   \n",
       "12317   九州  鹿児島県            Books　Misumi　鹿屋店          鹿屋市寿7-12-1   \n",
       "12318   九州   福岡県           （仮称）福岡市青果市場跡地活用事業   福岡市博多区那珂六丁目351番地１   \n",
       "12319   九州   熊本県                    ロッキー水前寺店    熊本市中央区水前寺2丁目4-15   \n",
       "12320   沖縄   沖縄県    バースデイ・シャンブル八重山ファッションモール店      石垣市字大浜南大浜４２８番５   \n",
       "\n",
       "               建物設置者名    小売業者名        届出日      開店予定日   店舗面積  \n",
       "0              デンコードー   デンコードー 2019-04-16 2019-12-17   3134  \n",
       "1      セントラルリーシングシステム     ジーユー 2019-09-04 2020-05-05   1454  \n",
       "2              リラィアブル   リラィアブル 2019-09-26 2020-05-27   1379  \n",
       "3             コープさっぽろ  コープさっぽろ 2019-10-08 2020-06-09   1447  \n",
       "4              北海道リース      ツルハ 2019-10-23 2020-06-24   1527  \n",
       "...               ...      ...        ...        ...    ...  \n",
       "12316          コスモス薬品   コスモス薬品 2021-06-04 2022-02-05   1472  \n",
       "12317          Misumi   ＭＩＳＵＭＩ 2021-06-23 2022-02-24   1774  \n",
       "12318   博多那珂６開発特定目的会社       未定 2021-05-14 2022-04-01  46380  \n",
       "12319            ロッキー     ロッキー 2021-05-06 2022-01-04   1670  \n",
       "12320        株式会社しまむら     しまむら 2021-04-06 2021-12-05   1798  \n",
       "\n",
       "[12320 rows x 9 columns]"
      ]
     },
     "execution_count": 90,
     "metadata": {
      "tags": []
     },
     "output_type": "execute_result"
    }
   ],
   "source": [
    "# 欠損値を含む行を削除\n",
    "df.dropna(how='any', inplace=True)\n",
    "df # 12320 rows × 9 columns"
   ]
  },
  {
   "cell_type": "code",
   "execution_count": null,
   "metadata": {
    "id": "LBSDgfA8T2MX"
   },
   "outputs": [],
   "source": [
    "dir = 'drive/MyDrive/data/'\n",
    "\n",
    "# 欠損値処理まで済んだデータをsection_2.csvとして保存し直し\n",
    "# インデックスは出力しない\n",
    "df.to_csv(dir+'section_2.csv', index=False)"
   ]
  },
  {
   "cell_type": "code",
   "execution_count": null,
   "metadata": {
    "colab": {
     "base_uri": "https://localhost:8080/",
     "height": 606
    },
    "id": "jAV7PJQuUCYS",
    "outputId": "7328c56f-ec33-44de-dc09-abe6cc734fea"
   },
   "outputs": [
    {
     "data": {
      "text/html": [
       "<div>\n",
       "<style scoped>\n",
       "    .dataframe tbody tr th:only-of-type {\n",
       "        vertical-align: middle;\n",
       "    }\n",
       "\n",
       "    .dataframe tbody tr th {\n",
       "        vertical-align: top;\n",
       "    }\n",
       "\n",
       "    .dataframe thead th {\n",
       "        text-align: right;\n",
       "    }\n",
       "</style>\n",
       "<table border=\"1\" class=\"dataframe\">\n",
       "  <thead>\n",
       "    <tr style=\"text-align: right;\">\n",
       "      <th></th>\n",
       "      <th>局名</th>\n",
       "      <th>都道府県</th>\n",
       "      <th>大規模小売店舗名</th>\n",
       "      <th>所在地</th>\n",
       "      <th>建物設置者名</th>\n",
       "      <th>小売業者名</th>\n",
       "      <th>届出日</th>\n",
       "      <th>開店予定日</th>\n",
       "      <th>店舗面積</th>\n",
       "    </tr>\n",
       "  </thead>\n",
       "  <tbody>\n",
       "    <tr>\n",
       "      <th>0</th>\n",
       "      <td>北海道</td>\n",
       "      <td>北海道</td>\n",
       "      <td>木野タウン　ケーズデンキ棟</td>\n",
       "      <td>音更町木野大通東11丁目1-1</td>\n",
       "      <td>デンコードー</td>\n",
       "      <td>デンコードー</td>\n",
       "      <td>2019-04-16</td>\n",
       "      <td>2019-12-17</td>\n",
       "      <td>3134</td>\n",
       "    </tr>\n",
       "    <tr>\n",
       "      <th>1</th>\n",
       "      <td>北海道</td>\n",
       "      <td>北海道</td>\n",
       "      <td>旭川豊岡タウンプラザ　GU棟　SHOE・PLAZA棟</td>\n",
       "      <td>旭川市豊岡4条4丁目1-13</td>\n",
       "      <td>セントラルリーシングシステム</td>\n",
       "      <td>ジーユー</td>\n",
       "      <td>2019-09-04</td>\n",
       "      <td>2020-05-05</td>\n",
       "      <td>1454</td>\n",
       "    </tr>\n",
       "    <tr>\n",
       "      <th>2</th>\n",
       "      <td>北海道</td>\n",
       "      <td>北海道</td>\n",
       "      <td>リラィアブルブックス　運動公園通り店</td>\n",
       "      <td>釧路町桂木3丁目7番1、７番2、8番</td>\n",
       "      <td>リラィアブル</td>\n",
       "      <td>リラィアブル</td>\n",
       "      <td>2019-09-26</td>\n",
       "      <td>2020-05-27</td>\n",
       "      <td>1379</td>\n",
       "    </tr>\n",
       "    <tr>\n",
       "      <th>3</th>\n",
       "      <td>北海道</td>\n",
       "      <td>北海道</td>\n",
       "      <td>コープさっぽろ　とくら店</td>\n",
       "      <td>函館市戸倉町224番－４</td>\n",
       "      <td>コープさっぽろ</td>\n",
       "      <td>コープさっぽろ</td>\n",
       "      <td>2019-10-08</td>\n",
       "      <td>2020-06-09</td>\n",
       "      <td>1447</td>\n",
       "    </tr>\n",
       "    <tr>\n",
       "      <th>4</th>\n",
       "      <td>北海道</td>\n",
       "      <td>北海道</td>\n",
       "      <td>ツルハドラッグ旭川永山３条西店</td>\n",
       "      <td>旭川市永山３条８丁目76番１</td>\n",
       "      <td>北海道リース</td>\n",
       "      <td>ツルハ</td>\n",
       "      <td>2019-10-23</td>\n",
       "      <td>2020-06-24</td>\n",
       "      <td>1527</td>\n",
       "    </tr>\n",
       "    <tr>\n",
       "      <th>...</th>\n",
       "      <td>...</td>\n",
       "      <td>...</td>\n",
       "      <td>...</td>\n",
       "      <td>...</td>\n",
       "      <td>...</td>\n",
       "      <td>...</td>\n",
       "      <td>...</td>\n",
       "      <td>...</td>\n",
       "      <td>...</td>\n",
       "    </tr>\n",
       "    <tr>\n",
       "      <th>12315</th>\n",
       "      <td>九州</td>\n",
       "      <td>鹿児島県</td>\n",
       "      <td>（仮称）ドラッグコスモス鹿屋運動公園前店</td>\n",
       "      <td>鹿屋市西原２丁目104番１</td>\n",
       "      <td>コスモス薬品</td>\n",
       "      <td>コスモス薬品</td>\n",
       "      <td>2021-06-04</td>\n",
       "      <td>2022-02-05</td>\n",
       "      <td>1472</td>\n",
       "    </tr>\n",
       "    <tr>\n",
       "      <th>12316</th>\n",
       "      <td>九州</td>\n",
       "      <td>鹿児島県</td>\n",
       "      <td>Books　Misumi　鹿屋店</td>\n",
       "      <td>鹿屋市寿7-12-1</td>\n",
       "      <td>Misumi</td>\n",
       "      <td>ＭＩＳＵＭＩ</td>\n",
       "      <td>2021-06-23</td>\n",
       "      <td>2022-02-24</td>\n",
       "      <td>1774</td>\n",
       "    </tr>\n",
       "    <tr>\n",
       "      <th>12317</th>\n",
       "      <td>九州</td>\n",
       "      <td>福岡県</td>\n",
       "      <td>（仮称）福岡市青果市場跡地活用事業</td>\n",
       "      <td>福岡市博多区那珂六丁目351番地１</td>\n",
       "      <td>博多那珂６開発特定目的会社</td>\n",
       "      <td>未定</td>\n",
       "      <td>2021-05-14</td>\n",
       "      <td>2022-04-01</td>\n",
       "      <td>46380</td>\n",
       "    </tr>\n",
       "    <tr>\n",
       "      <th>12318</th>\n",
       "      <td>九州</td>\n",
       "      <td>熊本県</td>\n",
       "      <td>ロッキー水前寺店</td>\n",
       "      <td>熊本市中央区水前寺2丁目4-15</td>\n",
       "      <td>ロッキー</td>\n",
       "      <td>ロッキー</td>\n",
       "      <td>2021-05-06</td>\n",
       "      <td>2022-01-04</td>\n",
       "      <td>1670</td>\n",
       "    </tr>\n",
       "    <tr>\n",
       "      <th>12319</th>\n",
       "      <td>沖縄</td>\n",
       "      <td>沖縄県</td>\n",
       "      <td>バースデイ・シャンブル八重山ファッションモール店</td>\n",
       "      <td>石垣市字大浜南大浜４２８番５</td>\n",
       "      <td>株式会社しまむら</td>\n",
       "      <td>しまむら</td>\n",
       "      <td>2021-04-06</td>\n",
       "      <td>2021-12-05</td>\n",
       "      <td>1798</td>\n",
       "    </tr>\n",
       "  </tbody>\n",
       "</table>\n",
       "<p>12320 rows × 9 columns</p>\n",
       "</div>"
      ],
      "text/plain": [
       "        局名  都道府県                    大規模小売店舗名                 所在地  \\\n",
       "0      北海道   北海道               木野タウン　ケーズデンキ棟     音更町木野大通東11丁目1-1   \n",
       "1      北海道   北海道  旭川豊岡タウンプラザ　GU棟　SHOE・PLAZA棟      旭川市豊岡4条4丁目1-13   \n",
       "2      北海道   北海道          リラィアブルブックス　運動公園通り店  釧路町桂木3丁目7番1、７番2、8番   \n",
       "3      北海道   北海道                コープさっぽろ　とくら店        函館市戸倉町224番－４   \n",
       "4      北海道   北海道             ツルハドラッグ旭川永山３条西店      旭川市永山３条８丁目76番１   \n",
       "...    ...   ...                         ...                 ...   \n",
       "12315   九州  鹿児島県        （仮称）ドラッグコスモス鹿屋運動公園前店       鹿屋市西原２丁目104番１   \n",
       "12316   九州  鹿児島県            Books　Misumi　鹿屋店          鹿屋市寿7-12-1   \n",
       "12317   九州   福岡県           （仮称）福岡市青果市場跡地活用事業   福岡市博多区那珂六丁目351番地１   \n",
       "12318   九州   熊本県                    ロッキー水前寺店    熊本市中央区水前寺2丁目4-15   \n",
       "12319   沖縄   沖縄県    バースデイ・シャンブル八重山ファッションモール店      石垣市字大浜南大浜４２８番５   \n",
       "\n",
       "               建物設置者名    小売業者名        届出日      開店予定日   店舗面積  \n",
       "0              デンコードー   デンコードー 2019-04-16 2019-12-17   3134  \n",
       "1      セントラルリーシングシステム     ジーユー 2019-09-04 2020-05-05   1454  \n",
       "2              リラィアブル   リラィアブル 2019-09-26 2020-05-27   1379  \n",
       "3             コープさっぽろ  コープさっぽろ 2019-10-08 2020-06-09   1447  \n",
       "4              北海道リース      ツルハ 2019-10-23 2020-06-24   1527  \n",
       "...               ...      ...        ...        ...    ...  \n",
       "12315          コスモス薬品   コスモス薬品 2021-06-04 2022-02-05   1472  \n",
       "12316          Misumi   ＭＩＳＵＭＩ 2021-06-23 2022-02-24   1774  \n",
       "12317   博多那珂６開発特定目的会社       未定 2021-05-14 2022-04-01  46380  \n",
       "12318            ロッキー     ロッキー 2021-05-06 2022-01-04   1670  \n",
       "12319        株式会社しまむら     しまむら 2021-04-06 2021-12-05   1798  \n",
       "\n",
       "[12320 rows x 9 columns]"
      ]
     },
     "execution_count": 92,
     "metadata": {
      "tags": []
     },
     "output_type": "execute_result"
    }
   ],
   "source": [
    "dir = 'drive/MyDrive/data/'\n",
    "\n",
    "df = pd.read_csv(dir + 'section_2.csv', parse_dates=['届出日', '開店予定日'])\n",
    "df # 12320 rows × 9 columns"
   ]
  },
  {
   "cell_type": "code",
   "execution_count": null,
   "metadata": {
    "colab": {
     "base_uri": "https://localhost:8080/"
    },
    "id": "WOyrtRjnUFXP",
    "outputId": "3f2bc6b9-2a4e-4552-e98d-7c8d7d655487"
   },
   "outputs": [
    {
     "data": {
      "text/plain": [
       "局名          0\n",
       "都道府県        0\n",
       "大規模小売店舗名    0\n",
       "所在地         0\n",
       "建物設置者名      0\n",
       "小売業者名       0\n",
       "届出日         0\n",
       "開店予定日       0\n",
       "店舗面積        0\n",
       "dtype: int64"
      ]
     },
     "execution_count": 93,
     "metadata": {
      "tags": []
     },
     "output_type": "execute_result"
    }
   ],
   "source": [
    "# 今度は欠損値ゼロになっている\n",
    "df.isnull().sum()"
   ]
  },
  {
   "cell_type": "markdown",
   "metadata": {
    "id": "NVutHM5jUQYx"
   },
   "source": [
    "## データクレンジングはここで終了"
   ]
  },
  {
   "cell_type": "code",
   "execution_count": null,
   "metadata": {
    "id": "kpV91yv2UJvK"
   },
   "outputs": [],
   "source": []
  }
 ],
 "metadata": {
  "colab": {
   "authorship_tag": "ABX9TyPuQ2Ep0oij4rypIvl0WMyS",
   "collapsed_sections": [],
   "include_colab_link": true,
   "mount_file_id": "1cWauEIhcCqDzriio3zMiYd-ppOEqZSOs",
   "name": "cleansing.ipynb",
   "provenance": [],
   "toc_visible": true
  },
  "kernelspec": {
   "display_name": "Python 3",
   "language": "python",
   "name": "python3"
  },
  "language_info": {
   "codemirror_mode": {
    "name": "ipython",
    "version": 3
   },
   "file_extension": ".py",
   "mimetype": "text/x-python",
   "name": "python",
   "nbconvert_exporter": "python",
   "pygments_lexer": "ipython3",
   "version": "3.8.3"
  }
 },
 "nbformat": 4,
 "nbformat_minor": 1
}
